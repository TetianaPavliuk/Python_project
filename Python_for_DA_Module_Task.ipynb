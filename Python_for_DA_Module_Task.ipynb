{
  "cells": [
    {
      "cell_type": "markdown",
      "metadata": {
        "id": "view-in-github",
        "colab_type": "text"
      },
      "source": [
        "<a href=\"https://colab.research.google.com/github/TetianaPavliuk/python_project/blob/main/Python_for_DA_Module_Task.ipynb\" target=\"_parent\"><img src=\"https://colab.research.google.com/assets/colab-badge.svg\" alt=\"Open In Colab\"/></a>"
      ]
    },
    {
      "cell_type": "markdown",
      "metadata": {
        "id": "Plurux0MmAGe"
      },
      "source": [
        "#Data overview"
      ]
    },
    {
      "cell_type": "code",
      "execution_count": 1,
      "metadata": {
        "id": "0Yfg70mqOUFP"
      },
      "outputs": [],
      "source": [
        "import numpy as np\n",
        "import pandas as pd\n",
        "import matplotlib.pyplot as plt\n",
        "import seaborn as sns"
      ]
    },
    {
      "cell_type": "code",
      "execution_count": 2,
      "metadata": {
        "colab": {
          "base_uri": "https://localhost:8080/"
        },
        "id": "oWHuwWqpOVpz",
        "outputId": "aba6636f-7425-460d-8f44-35e2c2678ab4"
      },
      "outputs": [
        {
          "output_type": "stream",
          "name": "stdout",
          "text": [
            "Mounted at /content/drive\n",
            "/content/drive/MyDrive/FinalProjectPython\n"
          ]
        }
      ],
      "source": [
        "from google.colab import drive\n",
        "drive.mount(\"/content/drive\")\n",
        "%cd /content/drive/MyDrive/FinalProjectPython"
      ]
    },
    {
      "cell_type": "code",
      "execution_count": 3,
      "metadata": {
        "colab": {
          "base_uri": "https://localhost:8080/",
          "height": 206
        },
        "id": "2hQRt56VOmxT",
        "outputId": "ce08d8b1-ba31-4f13-c43d-4a8ea636fe48"
      },
      "outputs": [
        {
          "output_type": "execute_result",
          "data": {
            "text/plain": [
              "    Order ID Order Date   Ship Date Order Priority Country Code  Product ID  \\\n",
              "0  100640618  10/8/2014  10/18/2014              M          NOR        2103   \n",
              "1  100983083  8/11/2016   8/11/2016              C          SRB        2103   \n",
              "2  101025998  7/18/2014   8/11/2014              M          NaN        7940   \n",
              "3  102230632  5/13/2017   6/13/2017              L          MNE        2455   \n",
              "4  103435266  8/11/2012   9/18/2012              H          SRB        1270   \n",
              "\n",
              "  Sales Channel  Units Sold  Unit Price  Unit Cost  \n",
              "0        Online       650.0      205.70     117.11  \n",
              "1       Offline      1993.0      205.70     117.11  \n",
              "2        Online      4693.0      668.27     502.54  \n",
              "3        Online      1171.0      109.28      35.84  \n",
              "4       Offline      7648.0       47.45      31.79  "
            ],
            "text/html": [
              "\n",
              "  <div id=\"df-5ca756bb-6a5b-4d8d-bfe6-51184bff1bff\" class=\"colab-df-container\">\n",
              "    <div>\n",
              "<style scoped>\n",
              "    .dataframe tbody tr th:only-of-type {\n",
              "        vertical-align: middle;\n",
              "    }\n",
              "\n",
              "    .dataframe tbody tr th {\n",
              "        vertical-align: top;\n",
              "    }\n",
              "\n",
              "    .dataframe thead th {\n",
              "        text-align: right;\n",
              "    }\n",
              "</style>\n",
              "<table border=\"1\" class=\"dataframe\">\n",
              "  <thead>\n",
              "    <tr style=\"text-align: right;\">\n",
              "      <th></th>\n",
              "      <th>Order ID</th>\n",
              "      <th>Order Date</th>\n",
              "      <th>Ship Date</th>\n",
              "      <th>Order Priority</th>\n",
              "      <th>Country Code</th>\n",
              "      <th>Product ID</th>\n",
              "      <th>Sales Channel</th>\n",
              "      <th>Units Sold</th>\n",
              "      <th>Unit Price</th>\n",
              "      <th>Unit Cost</th>\n",
              "    </tr>\n",
              "  </thead>\n",
              "  <tbody>\n",
              "    <tr>\n",
              "      <th>0</th>\n",
              "      <td>100640618</td>\n",
              "      <td>10/8/2014</td>\n",
              "      <td>10/18/2014</td>\n",
              "      <td>M</td>\n",
              "      <td>NOR</td>\n",
              "      <td>2103</td>\n",
              "      <td>Online</td>\n",
              "      <td>650.0</td>\n",
              "      <td>205.70</td>\n",
              "      <td>117.11</td>\n",
              "    </tr>\n",
              "    <tr>\n",
              "      <th>1</th>\n",
              "      <td>100983083</td>\n",
              "      <td>8/11/2016</td>\n",
              "      <td>8/11/2016</td>\n",
              "      <td>C</td>\n",
              "      <td>SRB</td>\n",
              "      <td>2103</td>\n",
              "      <td>Offline</td>\n",
              "      <td>1993.0</td>\n",
              "      <td>205.70</td>\n",
              "      <td>117.11</td>\n",
              "    </tr>\n",
              "    <tr>\n",
              "      <th>2</th>\n",
              "      <td>101025998</td>\n",
              "      <td>7/18/2014</td>\n",
              "      <td>8/11/2014</td>\n",
              "      <td>M</td>\n",
              "      <td>NaN</td>\n",
              "      <td>7940</td>\n",
              "      <td>Online</td>\n",
              "      <td>4693.0</td>\n",
              "      <td>668.27</td>\n",
              "      <td>502.54</td>\n",
              "    </tr>\n",
              "    <tr>\n",
              "      <th>3</th>\n",
              "      <td>102230632</td>\n",
              "      <td>5/13/2017</td>\n",
              "      <td>6/13/2017</td>\n",
              "      <td>L</td>\n",
              "      <td>MNE</td>\n",
              "      <td>2455</td>\n",
              "      <td>Online</td>\n",
              "      <td>1171.0</td>\n",
              "      <td>109.28</td>\n",
              "      <td>35.84</td>\n",
              "    </tr>\n",
              "    <tr>\n",
              "      <th>4</th>\n",
              "      <td>103435266</td>\n",
              "      <td>8/11/2012</td>\n",
              "      <td>9/18/2012</td>\n",
              "      <td>H</td>\n",
              "      <td>SRB</td>\n",
              "      <td>1270</td>\n",
              "      <td>Offline</td>\n",
              "      <td>7648.0</td>\n",
              "      <td>47.45</td>\n",
              "      <td>31.79</td>\n",
              "    </tr>\n",
              "  </tbody>\n",
              "</table>\n",
              "</div>\n",
              "    <div class=\"colab-df-buttons\">\n",
              "\n",
              "  <div class=\"colab-df-container\">\n",
              "    <button class=\"colab-df-convert\" onclick=\"convertToInteractive('df-5ca756bb-6a5b-4d8d-bfe6-51184bff1bff')\"\n",
              "            title=\"Convert this dataframe to an interactive table.\"\n",
              "            style=\"display:none;\">\n",
              "\n",
              "  <svg xmlns=\"http://www.w3.org/2000/svg\" height=\"24px\" viewBox=\"0 -960 960 960\">\n",
              "    <path d=\"M120-120v-720h720v720H120Zm60-500h600v-160H180v160Zm220 220h160v-160H400v160Zm0 220h160v-160H400v160ZM180-400h160v-160H180v160Zm440 0h160v-160H620v160ZM180-180h160v-160H180v160Zm440 0h160v-160H620v160Z\"/>\n",
              "  </svg>\n",
              "    </button>\n",
              "\n",
              "  <style>\n",
              "    .colab-df-container {\n",
              "      display:flex;\n",
              "      gap: 12px;\n",
              "    }\n",
              "\n",
              "    .colab-df-convert {\n",
              "      background-color: #E8F0FE;\n",
              "      border: none;\n",
              "      border-radius: 50%;\n",
              "      cursor: pointer;\n",
              "      display: none;\n",
              "      fill: #1967D2;\n",
              "      height: 32px;\n",
              "      padding: 0 0 0 0;\n",
              "      width: 32px;\n",
              "    }\n",
              "\n",
              "    .colab-df-convert:hover {\n",
              "      background-color: #E2EBFA;\n",
              "      box-shadow: 0px 1px 2px rgba(60, 64, 67, 0.3), 0px 1px 3px 1px rgba(60, 64, 67, 0.15);\n",
              "      fill: #174EA6;\n",
              "    }\n",
              "\n",
              "    .colab-df-buttons div {\n",
              "      margin-bottom: 4px;\n",
              "    }\n",
              "\n",
              "    [theme=dark] .colab-df-convert {\n",
              "      background-color: #3B4455;\n",
              "      fill: #D2E3FC;\n",
              "    }\n",
              "\n",
              "    [theme=dark] .colab-df-convert:hover {\n",
              "      background-color: #434B5C;\n",
              "      box-shadow: 0px 1px 3px 1px rgba(0, 0, 0, 0.15);\n",
              "      filter: drop-shadow(0px 1px 2px rgba(0, 0, 0, 0.3));\n",
              "      fill: #FFFFFF;\n",
              "    }\n",
              "  </style>\n",
              "\n",
              "    <script>\n",
              "      const buttonEl =\n",
              "        document.querySelector('#df-5ca756bb-6a5b-4d8d-bfe6-51184bff1bff button.colab-df-convert');\n",
              "      buttonEl.style.display =\n",
              "        google.colab.kernel.accessAllowed ? 'block' : 'none';\n",
              "\n",
              "      async function convertToInteractive(key) {\n",
              "        const element = document.querySelector('#df-5ca756bb-6a5b-4d8d-bfe6-51184bff1bff');\n",
              "        const dataTable =\n",
              "          await google.colab.kernel.invokeFunction('convertToInteractive',\n",
              "                                                    [key], {});\n",
              "        if (!dataTable) return;\n",
              "\n",
              "        const docLinkHtml = 'Like what you see? Visit the ' +\n",
              "          '<a target=\"_blank\" href=https://colab.research.google.com/notebooks/data_table.ipynb>data table notebook</a>'\n",
              "          + ' to learn more about interactive tables.';\n",
              "        element.innerHTML = '';\n",
              "        dataTable['output_type'] = 'display_data';\n",
              "        await google.colab.output.renderOutput(dataTable, element);\n",
              "        const docLink = document.createElement('div');\n",
              "        docLink.innerHTML = docLinkHtml;\n",
              "        element.appendChild(docLink);\n",
              "      }\n",
              "    </script>\n",
              "  </div>\n",
              "\n",
              "\n",
              "<div id=\"df-3e713542-cce7-4ccd-ab00-f7b98bcf8656\">\n",
              "  <button class=\"colab-df-quickchart\" onclick=\"quickchart('df-3e713542-cce7-4ccd-ab00-f7b98bcf8656')\"\n",
              "            title=\"Suggest charts\"\n",
              "            style=\"display:none;\">\n",
              "\n",
              "<svg xmlns=\"http://www.w3.org/2000/svg\" height=\"24px\"viewBox=\"0 0 24 24\"\n",
              "     width=\"24px\">\n",
              "    <g>\n",
              "        <path d=\"M19 3H5c-1.1 0-2 .9-2 2v14c0 1.1.9 2 2 2h14c1.1 0 2-.9 2-2V5c0-1.1-.9-2-2-2zM9 17H7v-7h2v7zm4 0h-2V7h2v10zm4 0h-2v-4h2v4z\"/>\n",
              "    </g>\n",
              "</svg>\n",
              "  </button>\n",
              "\n",
              "<style>\n",
              "  .colab-df-quickchart {\n",
              "      --bg-color: #E8F0FE;\n",
              "      --fill-color: #1967D2;\n",
              "      --hover-bg-color: #E2EBFA;\n",
              "      --hover-fill-color: #174EA6;\n",
              "      --disabled-fill-color: #AAA;\n",
              "      --disabled-bg-color: #DDD;\n",
              "  }\n",
              "\n",
              "  [theme=dark] .colab-df-quickchart {\n",
              "      --bg-color: #3B4455;\n",
              "      --fill-color: #D2E3FC;\n",
              "      --hover-bg-color: #434B5C;\n",
              "      --hover-fill-color: #FFFFFF;\n",
              "      --disabled-bg-color: #3B4455;\n",
              "      --disabled-fill-color: #666;\n",
              "  }\n",
              "\n",
              "  .colab-df-quickchart {\n",
              "    background-color: var(--bg-color);\n",
              "    border: none;\n",
              "    border-radius: 50%;\n",
              "    cursor: pointer;\n",
              "    display: none;\n",
              "    fill: var(--fill-color);\n",
              "    height: 32px;\n",
              "    padding: 0;\n",
              "    width: 32px;\n",
              "  }\n",
              "\n",
              "  .colab-df-quickchart:hover {\n",
              "    background-color: var(--hover-bg-color);\n",
              "    box-shadow: 0 1px 2px rgba(60, 64, 67, 0.3), 0 1px 3px 1px rgba(60, 64, 67, 0.15);\n",
              "    fill: var(--button-hover-fill-color);\n",
              "  }\n",
              "\n",
              "  .colab-df-quickchart-complete:disabled,\n",
              "  .colab-df-quickchart-complete:disabled:hover {\n",
              "    background-color: var(--disabled-bg-color);\n",
              "    fill: var(--disabled-fill-color);\n",
              "    box-shadow: none;\n",
              "  }\n",
              "\n",
              "  .colab-df-spinner {\n",
              "    border: 2px solid var(--fill-color);\n",
              "    border-color: transparent;\n",
              "    border-bottom-color: var(--fill-color);\n",
              "    animation:\n",
              "      spin 1s steps(1) infinite;\n",
              "  }\n",
              "\n",
              "  @keyframes spin {\n",
              "    0% {\n",
              "      border-color: transparent;\n",
              "      border-bottom-color: var(--fill-color);\n",
              "      border-left-color: var(--fill-color);\n",
              "    }\n",
              "    20% {\n",
              "      border-color: transparent;\n",
              "      border-left-color: var(--fill-color);\n",
              "      border-top-color: var(--fill-color);\n",
              "    }\n",
              "    30% {\n",
              "      border-color: transparent;\n",
              "      border-left-color: var(--fill-color);\n",
              "      border-top-color: var(--fill-color);\n",
              "      border-right-color: var(--fill-color);\n",
              "    }\n",
              "    40% {\n",
              "      border-color: transparent;\n",
              "      border-right-color: var(--fill-color);\n",
              "      border-top-color: var(--fill-color);\n",
              "    }\n",
              "    60% {\n",
              "      border-color: transparent;\n",
              "      border-right-color: var(--fill-color);\n",
              "    }\n",
              "    80% {\n",
              "      border-color: transparent;\n",
              "      border-right-color: var(--fill-color);\n",
              "      border-bottom-color: var(--fill-color);\n",
              "    }\n",
              "    90% {\n",
              "      border-color: transparent;\n",
              "      border-bottom-color: var(--fill-color);\n",
              "    }\n",
              "  }\n",
              "</style>\n",
              "\n",
              "  <script>\n",
              "    async function quickchart(key) {\n",
              "      const quickchartButtonEl =\n",
              "        document.querySelector('#' + key + ' button');\n",
              "      quickchartButtonEl.disabled = true;  // To prevent multiple clicks.\n",
              "      quickchartButtonEl.classList.add('colab-df-spinner');\n",
              "      try {\n",
              "        const charts = await google.colab.kernel.invokeFunction(\n",
              "            'suggestCharts', [key], {});\n",
              "      } catch (error) {\n",
              "        console.error('Error during call to suggestCharts:', error);\n",
              "      }\n",
              "      quickchartButtonEl.classList.remove('colab-df-spinner');\n",
              "      quickchartButtonEl.classList.add('colab-df-quickchart-complete');\n",
              "    }\n",
              "    (() => {\n",
              "      let quickchartButtonEl =\n",
              "        document.querySelector('#df-3e713542-cce7-4ccd-ab00-f7b98bcf8656 button');\n",
              "      quickchartButtonEl.style.display =\n",
              "        google.colab.kernel.accessAllowed ? 'block' : 'none';\n",
              "    })();\n",
              "  </script>\n",
              "</div>\n",
              "    </div>\n",
              "  </div>\n"
            ],
            "application/vnd.google.colaboratory.intrinsic+json": {
              "type": "dataframe",
              "variable_name": "df_events",
              "summary": "{\n  \"name\": \"df_events\",\n  \"rows\": 1330,\n  \"fields\": [\n    {\n      \"column\": \"Order ID\",\n      \"properties\": {\n        \"dtype\": \"number\",\n        \"std\": 257388211,\n        \"min\": 100640618,\n        \"max\": 999879729,\n        \"num_unique_values\": 1330,\n        \"samples\": [\n          685233008,\n          174614226,\n          449206340\n        ],\n        \"semantic_type\": \"\",\n        \"description\": \"\"\n      }\n    },\n    {\n      \"column\": \"Order Date\",\n      \"properties\": {\n        \"dtype\": \"object\",\n        \"num_unique_values\": 1049,\n        \"samples\": [\n          \"7/22/2011\",\n          \"6/25/2013\",\n          \"5/6/2015\"\n        ],\n        \"semantic_type\": \"\",\n        \"description\": \"\"\n      }\n    },\n    {\n      \"column\": \"Ship Date\",\n      \"properties\": {\n        \"dtype\": \"object\",\n        \"num_unique_values\": 1070,\n        \"samples\": [\n          \"12/11/2010\",\n          \"3/23/2012\",\n          \"8/16/2012\"\n        ],\n        \"semantic_type\": \"\",\n        \"description\": \"\"\n      }\n    },\n    {\n      \"column\": \"Order Priority\",\n      \"properties\": {\n        \"dtype\": \"category\",\n        \"num_unique_values\": 6,\n        \"samples\": [\n          \"M\",\n          \"C\",\n          \"M \"\n        ],\n        \"semantic_type\": \"\",\n        \"description\": \"\"\n      }\n    },\n    {\n      \"column\": \"Country Code\",\n      \"properties\": {\n        \"dtype\": \"category\",\n        \"num_unique_values\": 45,\n        \"samples\": [\n          \"SWE\",\n          \"AUT\",\n          \"MKD\"\n        ],\n        \"semantic_type\": \"\",\n        \"description\": \"\"\n      }\n    },\n    {\n      \"column\": \"Product ID\",\n      \"properties\": {\n        \"dtype\": \"number\",\n        \"std\": 2820,\n        \"min\": 1270,\n        \"max\": 8969,\n        \"num_unique_values\": 12,\n        \"samples\": [\n          8969,\n          8293,\n          2103\n        ],\n        \"semantic_type\": \"\",\n        \"description\": \"\"\n      }\n    },\n    {\n      \"column\": \"Sales Channel\",\n      \"properties\": {\n        \"dtype\": \"category\",\n        \"num_unique_values\": 3,\n        \"samples\": [\n          \"Online\",\n          \"Offline\",\n          \"online\"\n        ],\n        \"semantic_type\": \"\",\n        \"description\": \"\"\n      }\n    },\n    {\n      \"column\": \"Units Sold\",\n      \"properties\": {\n        \"dtype\": \"number\",\n        \"std\": 2905.198996399036,\n        \"min\": 2.0,\n        \"max\": 9999.0,\n        \"num_unique_values\": 1239,\n        \"samples\": [\n          4681.0,\n          7069.0,\n          7923.0\n        ],\n        \"semantic_type\": \"\",\n        \"description\": \"\"\n      }\n    },\n    {\n      \"column\": \"Unit Price\",\n      \"properties\": {\n        \"dtype\": \"number\",\n        \"std\": 217.3234595194511,\n        \"min\": 9.33,\n        \"max\": 668.27,\n        \"num_unique_values\": 12,\n        \"samples\": [\n          152.58,\n          437.2,\n          205.7\n        ],\n        \"semantic_type\": \"\",\n        \"description\": \"\"\n      }\n    },\n    {\n      \"column\": \"Unit Cost\",\n      \"properties\": {\n        \"dtype\": \"number\",\n        \"std\": 176.15887275845523,\n        \"min\": 6.92,\n        \"max\": 524.96,\n        \"num_unique_values\": 12,\n        \"samples\": [\n          97.44,\n          263.33,\n          117.11\n        ],\n        \"semantic_type\": \"\",\n        \"description\": \"\"\n      }\n    }\n  ]\n}"
            }
          },
          "metadata": {},
          "execution_count": 3
        }
      ],
      "source": [
        "df_events = pd.read_csv(\"events.csv\")\n",
        "df_events.head()"
      ]
    },
    {
      "cell_type": "code",
      "execution_count": 4,
      "metadata": {
        "colab": {
          "base_uri": "https://localhost:8080/"
        },
        "id": "KKSEqnqYQO9r",
        "outputId": "d562e677-e440-48cb-e81a-33f7d2683fad"
      },
      "outputs": [
        {
          "output_type": "stream",
          "name": "stdout",
          "text": [
            "<class 'pandas.core.frame.DataFrame'>\n",
            "RangeIndex: 1330 entries, 0 to 1329\n",
            "Data columns (total 10 columns):\n",
            " #   Column          Non-Null Count  Dtype  \n",
            "---  ------          --------------  -----  \n",
            " 0   Order ID        1330 non-null   int64  \n",
            " 1   Order Date      1330 non-null   object \n",
            " 2   Ship Date       1330 non-null   object \n",
            " 3   Order Priority  1330 non-null   object \n",
            " 4   Country Code    1248 non-null   object \n",
            " 5   Product ID      1330 non-null   int64  \n",
            " 6   Sales Channel   1330 non-null   object \n",
            " 7   Units Sold      1328 non-null   float64\n",
            " 8   Unit Price      1330 non-null   float64\n",
            " 9   Unit Cost       1330 non-null   float64\n",
            "dtypes: float64(3), int64(2), object(5)\n",
            "memory usage: 104.0+ KB\n"
          ]
        }
      ],
      "source": [
        "df_events.info()"
      ]
    },
    {
      "cell_type": "code",
      "execution_count": 5,
      "metadata": {
        "colab": {
          "base_uri": "https://localhost:8080/"
        },
        "id": "Hr1A2wb0Qfr9",
        "outputId": "f4caf943-95f5-4b09-b2ea-06b1f71e690f"
      },
      "outputs": [
        {
          "output_type": "stream",
          "name": "stdout",
          "text": [
            "(1330, 10)\n"
          ]
        }
      ],
      "source": [
        "print(df_events.shape)"
      ]
    },
    {
      "cell_type": "code",
      "execution_count": 6,
      "metadata": {
        "colab": {
          "base_uri": "https://localhost:8080/"
        },
        "id": "cGD7qpC0TKpm",
        "outputId": "96898565-5c81-48f4-a964-479c0a9aea4f"
      },
      "outputs": [
        {
          "output_type": "stream",
          "name": "stdout",
          "text": [
            "Order ID            int64\n",
            "Order Date         object\n",
            "Ship Date          object\n",
            "Order Priority     object\n",
            "Country Code       object\n",
            "Product ID          int64\n",
            "Sales Channel      object\n",
            "Units Sold        float64\n",
            "Unit Price        float64\n",
            "Unit Cost         float64\n",
            "dtype: object\n"
          ]
        }
      ],
      "source": [
        "print(df_events.dtypes)"
      ]
    },
    {
      "cell_type": "markdown",
      "metadata": {
        "id": "kcIwFRX6TVes"
      },
      "source": [
        "Маємо DataFrema df_event про продажі компанії за певний період, який складається із 10 колонок та 1330 рядків.\n",
        "*   Order ID  - унікальний номер запомлення;\n",
        "*  Order Date - дата формування замовлення;\n",
        "*  Ship Date - дата відвантаження;\n",
        "*  Order Priority - пріорітет замовлення;\n",
        "*  Country Code - код країни;\n",
        "*   Product ID  - унікальний ідентифікатор товару;\n",
        "*   Sales Channel - канал продажу;\n",
        "*   Units Sold -кількість проданих одиниць;\n",
        "*   Unit Price - ціна за одиницю товару;\n",
        "*   Unit Cost - витрати на одиницю товару;"
      ]
    },
    {
      "cell_type": "code",
      "execution_count": 7,
      "metadata": {
        "colab": {
          "base_uri": "https://localhost:8080/",
          "height": 206
        },
        "id": "3nslepC3O4dO",
        "outputId": "3c552d9a-8f24-4ce0-f439-e20a04519861"
      },
      "outputs": [
        {
          "output_type": "execute_result",
          "data": {
            "text/plain": [
              "     id        item_type\n",
              "0  2103           Cereal\n",
              "1  7940        Household\n",
              "2  2455          Clothes\n",
              "3  1270        Beverages\n",
              "4  8681  Office Supplies"
            ],
            "text/html": [
              "\n",
              "  <div id=\"df-997a87ad-b2e2-4e0b-ac06-92345c41af72\" class=\"colab-df-container\">\n",
              "    <div>\n",
              "<style scoped>\n",
              "    .dataframe tbody tr th:only-of-type {\n",
              "        vertical-align: middle;\n",
              "    }\n",
              "\n",
              "    .dataframe tbody tr th {\n",
              "        vertical-align: top;\n",
              "    }\n",
              "\n",
              "    .dataframe thead th {\n",
              "        text-align: right;\n",
              "    }\n",
              "</style>\n",
              "<table border=\"1\" class=\"dataframe\">\n",
              "  <thead>\n",
              "    <tr style=\"text-align: right;\">\n",
              "      <th></th>\n",
              "      <th>id</th>\n",
              "      <th>item_type</th>\n",
              "    </tr>\n",
              "  </thead>\n",
              "  <tbody>\n",
              "    <tr>\n",
              "      <th>0</th>\n",
              "      <td>2103</td>\n",
              "      <td>Cereal</td>\n",
              "    </tr>\n",
              "    <tr>\n",
              "      <th>1</th>\n",
              "      <td>7940</td>\n",
              "      <td>Household</td>\n",
              "    </tr>\n",
              "    <tr>\n",
              "      <th>2</th>\n",
              "      <td>2455</td>\n",
              "      <td>Clothes</td>\n",
              "    </tr>\n",
              "    <tr>\n",
              "      <th>3</th>\n",
              "      <td>1270</td>\n",
              "      <td>Beverages</td>\n",
              "    </tr>\n",
              "    <tr>\n",
              "      <th>4</th>\n",
              "      <td>8681</td>\n",
              "      <td>Office Supplies</td>\n",
              "    </tr>\n",
              "  </tbody>\n",
              "</table>\n",
              "</div>\n",
              "    <div class=\"colab-df-buttons\">\n",
              "\n",
              "  <div class=\"colab-df-container\">\n",
              "    <button class=\"colab-df-convert\" onclick=\"convertToInteractive('df-997a87ad-b2e2-4e0b-ac06-92345c41af72')\"\n",
              "            title=\"Convert this dataframe to an interactive table.\"\n",
              "            style=\"display:none;\">\n",
              "\n",
              "  <svg xmlns=\"http://www.w3.org/2000/svg\" height=\"24px\" viewBox=\"0 -960 960 960\">\n",
              "    <path d=\"M120-120v-720h720v720H120Zm60-500h600v-160H180v160Zm220 220h160v-160H400v160Zm0 220h160v-160H400v160ZM180-400h160v-160H180v160Zm440 0h160v-160H620v160ZM180-180h160v-160H180v160Zm440 0h160v-160H620v160Z\"/>\n",
              "  </svg>\n",
              "    </button>\n",
              "\n",
              "  <style>\n",
              "    .colab-df-container {\n",
              "      display:flex;\n",
              "      gap: 12px;\n",
              "    }\n",
              "\n",
              "    .colab-df-convert {\n",
              "      background-color: #E8F0FE;\n",
              "      border: none;\n",
              "      border-radius: 50%;\n",
              "      cursor: pointer;\n",
              "      display: none;\n",
              "      fill: #1967D2;\n",
              "      height: 32px;\n",
              "      padding: 0 0 0 0;\n",
              "      width: 32px;\n",
              "    }\n",
              "\n",
              "    .colab-df-convert:hover {\n",
              "      background-color: #E2EBFA;\n",
              "      box-shadow: 0px 1px 2px rgba(60, 64, 67, 0.3), 0px 1px 3px 1px rgba(60, 64, 67, 0.15);\n",
              "      fill: #174EA6;\n",
              "    }\n",
              "\n",
              "    .colab-df-buttons div {\n",
              "      margin-bottom: 4px;\n",
              "    }\n",
              "\n",
              "    [theme=dark] .colab-df-convert {\n",
              "      background-color: #3B4455;\n",
              "      fill: #D2E3FC;\n",
              "    }\n",
              "\n",
              "    [theme=dark] .colab-df-convert:hover {\n",
              "      background-color: #434B5C;\n",
              "      box-shadow: 0px 1px 3px 1px rgba(0, 0, 0, 0.15);\n",
              "      filter: drop-shadow(0px 1px 2px rgba(0, 0, 0, 0.3));\n",
              "      fill: #FFFFFF;\n",
              "    }\n",
              "  </style>\n",
              "\n",
              "    <script>\n",
              "      const buttonEl =\n",
              "        document.querySelector('#df-997a87ad-b2e2-4e0b-ac06-92345c41af72 button.colab-df-convert');\n",
              "      buttonEl.style.display =\n",
              "        google.colab.kernel.accessAllowed ? 'block' : 'none';\n",
              "\n",
              "      async function convertToInteractive(key) {\n",
              "        const element = document.querySelector('#df-997a87ad-b2e2-4e0b-ac06-92345c41af72');\n",
              "        const dataTable =\n",
              "          await google.colab.kernel.invokeFunction('convertToInteractive',\n",
              "                                                    [key], {});\n",
              "        if (!dataTable) return;\n",
              "\n",
              "        const docLinkHtml = 'Like what you see? Visit the ' +\n",
              "          '<a target=\"_blank\" href=https://colab.research.google.com/notebooks/data_table.ipynb>data table notebook</a>'\n",
              "          + ' to learn more about interactive tables.';\n",
              "        element.innerHTML = '';\n",
              "        dataTable['output_type'] = 'display_data';\n",
              "        await google.colab.output.renderOutput(dataTable, element);\n",
              "        const docLink = document.createElement('div');\n",
              "        docLink.innerHTML = docLinkHtml;\n",
              "        element.appendChild(docLink);\n",
              "      }\n",
              "    </script>\n",
              "  </div>\n",
              "\n",
              "\n",
              "<div id=\"df-17ac786a-630d-4081-a1a1-667fd2163d07\">\n",
              "  <button class=\"colab-df-quickchart\" onclick=\"quickchart('df-17ac786a-630d-4081-a1a1-667fd2163d07')\"\n",
              "            title=\"Suggest charts\"\n",
              "            style=\"display:none;\">\n",
              "\n",
              "<svg xmlns=\"http://www.w3.org/2000/svg\" height=\"24px\"viewBox=\"0 0 24 24\"\n",
              "     width=\"24px\">\n",
              "    <g>\n",
              "        <path d=\"M19 3H5c-1.1 0-2 .9-2 2v14c0 1.1.9 2 2 2h14c1.1 0 2-.9 2-2V5c0-1.1-.9-2-2-2zM9 17H7v-7h2v7zm4 0h-2V7h2v10zm4 0h-2v-4h2v4z\"/>\n",
              "    </g>\n",
              "</svg>\n",
              "  </button>\n",
              "\n",
              "<style>\n",
              "  .colab-df-quickchart {\n",
              "      --bg-color: #E8F0FE;\n",
              "      --fill-color: #1967D2;\n",
              "      --hover-bg-color: #E2EBFA;\n",
              "      --hover-fill-color: #174EA6;\n",
              "      --disabled-fill-color: #AAA;\n",
              "      --disabled-bg-color: #DDD;\n",
              "  }\n",
              "\n",
              "  [theme=dark] .colab-df-quickchart {\n",
              "      --bg-color: #3B4455;\n",
              "      --fill-color: #D2E3FC;\n",
              "      --hover-bg-color: #434B5C;\n",
              "      --hover-fill-color: #FFFFFF;\n",
              "      --disabled-bg-color: #3B4455;\n",
              "      --disabled-fill-color: #666;\n",
              "  }\n",
              "\n",
              "  .colab-df-quickchart {\n",
              "    background-color: var(--bg-color);\n",
              "    border: none;\n",
              "    border-radius: 50%;\n",
              "    cursor: pointer;\n",
              "    display: none;\n",
              "    fill: var(--fill-color);\n",
              "    height: 32px;\n",
              "    padding: 0;\n",
              "    width: 32px;\n",
              "  }\n",
              "\n",
              "  .colab-df-quickchart:hover {\n",
              "    background-color: var(--hover-bg-color);\n",
              "    box-shadow: 0 1px 2px rgba(60, 64, 67, 0.3), 0 1px 3px 1px rgba(60, 64, 67, 0.15);\n",
              "    fill: var(--button-hover-fill-color);\n",
              "  }\n",
              "\n",
              "  .colab-df-quickchart-complete:disabled,\n",
              "  .colab-df-quickchart-complete:disabled:hover {\n",
              "    background-color: var(--disabled-bg-color);\n",
              "    fill: var(--disabled-fill-color);\n",
              "    box-shadow: none;\n",
              "  }\n",
              "\n",
              "  .colab-df-spinner {\n",
              "    border: 2px solid var(--fill-color);\n",
              "    border-color: transparent;\n",
              "    border-bottom-color: var(--fill-color);\n",
              "    animation:\n",
              "      spin 1s steps(1) infinite;\n",
              "  }\n",
              "\n",
              "  @keyframes spin {\n",
              "    0% {\n",
              "      border-color: transparent;\n",
              "      border-bottom-color: var(--fill-color);\n",
              "      border-left-color: var(--fill-color);\n",
              "    }\n",
              "    20% {\n",
              "      border-color: transparent;\n",
              "      border-left-color: var(--fill-color);\n",
              "      border-top-color: var(--fill-color);\n",
              "    }\n",
              "    30% {\n",
              "      border-color: transparent;\n",
              "      border-left-color: var(--fill-color);\n",
              "      border-top-color: var(--fill-color);\n",
              "      border-right-color: var(--fill-color);\n",
              "    }\n",
              "    40% {\n",
              "      border-color: transparent;\n",
              "      border-right-color: var(--fill-color);\n",
              "      border-top-color: var(--fill-color);\n",
              "    }\n",
              "    60% {\n",
              "      border-color: transparent;\n",
              "      border-right-color: var(--fill-color);\n",
              "    }\n",
              "    80% {\n",
              "      border-color: transparent;\n",
              "      border-right-color: var(--fill-color);\n",
              "      border-bottom-color: var(--fill-color);\n",
              "    }\n",
              "    90% {\n",
              "      border-color: transparent;\n",
              "      border-bottom-color: var(--fill-color);\n",
              "    }\n",
              "  }\n",
              "</style>\n",
              "\n",
              "  <script>\n",
              "    async function quickchart(key) {\n",
              "      const quickchartButtonEl =\n",
              "        document.querySelector('#' + key + ' button');\n",
              "      quickchartButtonEl.disabled = true;  // To prevent multiple clicks.\n",
              "      quickchartButtonEl.classList.add('colab-df-spinner');\n",
              "      try {\n",
              "        const charts = await google.colab.kernel.invokeFunction(\n",
              "            'suggestCharts', [key], {});\n",
              "      } catch (error) {\n",
              "        console.error('Error during call to suggestCharts:', error);\n",
              "      }\n",
              "      quickchartButtonEl.classList.remove('colab-df-spinner');\n",
              "      quickchartButtonEl.classList.add('colab-df-quickchart-complete');\n",
              "    }\n",
              "    (() => {\n",
              "      let quickchartButtonEl =\n",
              "        document.querySelector('#df-17ac786a-630d-4081-a1a1-667fd2163d07 button');\n",
              "      quickchartButtonEl.style.display =\n",
              "        google.colab.kernel.accessAllowed ? 'block' : 'none';\n",
              "    })();\n",
              "  </script>\n",
              "</div>\n",
              "    </div>\n",
              "  </div>\n"
            ],
            "application/vnd.google.colaboratory.intrinsic+json": {
              "type": "dataframe",
              "variable_name": "df_products",
              "summary": "{\n  \"name\": \"df_products\",\n  \"rows\": 12,\n  \"fields\": [\n    {\n      \"column\": \"id\",\n      \"properties\": {\n        \"dtype\": \"number\",\n        \"std\": 2937,\n        \"min\": 1270,\n        \"max\": 8969,\n        \"num_unique_values\": 12,\n        \"samples\": [\n          8969,\n          8293,\n          2103\n        ],\n        \"semantic_type\": \"\",\n        \"description\": \"\"\n      }\n    },\n    {\n      \"column\": \"item_type\",\n      \"properties\": {\n        \"dtype\": \"string\",\n        \"num_unique_values\": 12,\n        \"samples\": [\n          \"Snacks\",\n          \"Cosmetics\",\n          \"Cereal\"\n        ],\n        \"semantic_type\": \"\",\n        \"description\": \"\"\n      }\n    }\n  ]\n}"
            }
          },
          "metadata": {},
          "execution_count": 7
        }
      ],
      "source": [
        "df_products = pd.read_csv(\"products.csv\")\n",
        "df_products.head()"
      ]
    },
    {
      "cell_type": "code",
      "execution_count": 8,
      "metadata": {
        "colab": {
          "base_uri": "https://localhost:8080/"
        },
        "id": "ReGzIMWXgJZo",
        "outputId": "da923fdf-6da4-4ef4-c5ef-9ffabc29c78c"
      },
      "outputs": [
        {
          "output_type": "stream",
          "name": "stdout",
          "text": [
            "<class 'pandas.core.frame.DataFrame'>\n",
            "RangeIndex: 12 entries, 0 to 11\n",
            "Data columns (total 2 columns):\n",
            " #   Column     Non-Null Count  Dtype \n",
            "---  ------     --------------  ----- \n",
            " 0   id         12 non-null     int64 \n",
            " 1   item_type  12 non-null     object\n",
            "dtypes: int64(1), object(1)\n",
            "memory usage: 324.0+ bytes\n"
          ]
        }
      ],
      "source": [
        "df_products.info()"
      ]
    },
    {
      "cell_type": "markdown",
      "metadata": {
        "id": "hB_NisI-gpmm"
      },
      "source": [
        "DataFrema df_products, складається із двох колонок\n",
        "*   id - унікальний ідентифікатор товару;\n",
        "*   item_type - тип категорії, до якої відносяться дані товари;\n",
        "\n",
        "та 12 рядків, тобто компанія здійснює продажі за 12 категоріями товарів.\n",
        "Дана таблиця немає пропусків чи аномальних значень,\n",
        "тип даних вірний.\n",
        "\n"
      ]
    },
    {
      "cell_type": "code",
      "execution_count": 9,
      "metadata": {
        "colab": {
          "base_uri": "https://localhost:8080/",
          "height": 206
        },
        "id": "XeDjydnAPPo4",
        "outputId": "3236eebc-4226-47b7-ee6e-33abe77e9b48"
      },
      "outputs": [
        {
          "output_type": "execute_result",
          "data": {
            "text/plain": [
              "             name alpha-2 alpha-3   region       sub-region\n",
              "0     Afghanistan      AF     AFG     Asia    Southern Asia\n",
              "1   Åland Islands      AX     ALA   Europe  Northern Europe\n",
              "2         Albania      AL     ALB   Europe  Southern Europe\n",
              "3         Algeria      DZ     DZA   Africa  Northern Africa\n",
              "4  American Samoa      AS     ASM  Oceania        Polynesia"
            ],
            "text/html": [
              "\n",
              "  <div id=\"df-27a00925-a4b9-4e54-9443-c5350102d791\" class=\"colab-df-container\">\n",
              "    <div>\n",
              "<style scoped>\n",
              "    .dataframe tbody tr th:only-of-type {\n",
              "        vertical-align: middle;\n",
              "    }\n",
              "\n",
              "    .dataframe tbody tr th {\n",
              "        vertical-align: top;\n",
              "    }\n",
              "\n",
              "    .dataframe thead th {\n",
              "        text-align: right;\n",
              "    }\n",
              "</style>\n",
              "<table border=\"1\" class=\"dataframe\">\n",
              "  <thead>\n",
              "    <tr style=\"text-align: right;\">\n",
              "      <th></th>\n",
              "      <th>name</th>\n",
              "      <th>alpha-2</th>\n",
              "      <th>alpha-3</th>\n",
              "      <th>region</th>\n",
              "      <th>sub-region</th>\n",
              "    </tr>\n",
              "  </thead>\n",
              "  <tbody>\n",
              "    <tr>\n",
              "      <th>0</th>\n",
              "      <td>Afghanistan</td>\n",
              "      <td>AF</td>\n",
              "      <td>AFG</td>\n",
              "      <td>Asia</td>\n",
              "      <td>Southern Asia</td>\n",
              "    </tr>\n",
              "    <tr>\n",
              "      <th>1</th>\n",
              "      <td>Åland Islands</td>\n",
              "      <td>AX</td>\n",
              "      <td>ALA</td>\n",
              "      <td>Europe</td>\n",
              "      <td>Northern Europe</td>\n",
              "    </tr>\n",
              "    <tr>\n",
              "      <th>2</th>\n",
              "      <td>Albania</td>\n",
              "      <td>AL</td>\n",
              "      <td>ALB</td>\n",
              "      <td>Europe</td>\n",
              "      <td>Southern Europe</td>\n",
              "    </tr>\n",
              "    <tr>\n",
              "      <th>3</th>\n",
              "      <td>Algeria</td>\n",
              "      <td>DZ</td>\n",
              "      <td>DZA</td>\n",
              "      <td>Africa</td>\n",
              "      <td>Northern Africa</td>\n",
              "    </tr>\n",
              "    <tr>\n",
              "      <th>4</th>\n",
              "      <td>American Samoa</td>\n",
              "      <td>AS</td>\n",
              "      <td>ASM</td>\n",
              "      <td>Oceania</td>\n",
              "      <td>Polynesia</td>\n",
              "    </tr>\n",
              "  </tbody>\n",
              "</table>\n",
              "</div>\n",
              "    <div class=\"colab-df-buttons\">\n",
              "\n",
              "  <div class=\"colab-df-container\">\n",
              "    <button class=\"colab-df-convert\" onclick=\"convertToInteractive('df-27a00925-a4b9-4e54-9443-c5350102d791')\"\n",
              "            title=\"Convert this dataframe to an interactive table.\"\n",
              "            style=\"display:none;\">\n",
              "\n",
              "  <svg xmlns=\"http://www.w3.org/2000/svg\" height=\"24px\" viewBox=\"0 -960 960 960\">\n",
              "    <path d=\"M120-120v-720h720v720H120Zm60-500h600v-160H180v160Zm220 220h160v-160H400v160Zm0 220h160v-160H400v160ZM180-400h160v-160H180v160Zm440 0h160v-160H620v160ZM180-180h160v-160H180v160Zm440 0h160v-160H620v160Z\"/>\n",
              "  </svg>\n",
              "    </button>\n",
              "\n",
              "  <style>\n",
              "    .colab-df-container {\n",
              "      display:flex;\n",
              "      gap: 12px;\n",
              "    }\n",
              "\n",
              "    .colab-df-convert {\n",
              "      background-color: #E8F0FE;\n",
              "      border: none;\n",
              "      border-radius: 50%;\n",
              "      cursor: pointer;\n",
              "      display: none;\n",
              "      fill: #1967D2;\n",
              "      height: 32px;\n",
              "      padding: 0 0 0 0;\n",
              "      width: 32px;\n",
              "    }\n",
              "\n",
              "    .colab-df-convert:hover {\n",
              "      background-color: #E2EBFA;\n",
              "      box-shadow: 0px 1px 2px rgba(60, 64, 67, 0.3), 0px 1px 3px 1px rgba(60, 64, 67, 0.15);\n",
              "      fill: #174EA6;\n",
              "    }\n",
              "\n",
              "    .colab-df-buttons div {\n",
              "      margin-bottom: 4px;\n",
              "    }\n",
              "\n",
              "    [theme=dark] .colab-df-convert {\n",
              "      background-color: #3B4455;\n",
              "      fill: #D2E3FC;\n",
              "    }\n",
              "\n",
              "    [theme=dark] .colab-df-convert:hover {\n",
              "      background-color: #434B5C;\n",
              "      box-shadow: 0px 1px 3px 1px rgba(0, 0, 0, 0.15);\n",
              "      filter: drop-shadow(0px 1px 2px rgba(0, 0, 0, 0.3));\n",
              "      fill: #FFFFFF;\n",
              "    }\n",
              "  </style>\n",
              "\n",
              "    <script>\n",
              "      const buttonEl =\n",
              "        document.querySelector('#df-27a00925-a4b9-4e54-9443-c5350102d791 button.colab-df-convert');\n",
              "      buttonEl.style.display =\n",
              "        google.colab.kernel.accessAllowed ? 'block' : 'none';\n",
              "\n",
              "      async function convertToInteractive(key) {\n",
              "        const element = document.querySelector('#df-27a00925-a4b9-4e54-9443-c5350102d791');\n",
              "        const dataTable =\n",
              "          await google.colab.kernel.invokeFunction('convertToInteractive',\n",
              "                                                    [key], {});\n",
              "        if (!dataTable) return;\n",
              "\n",
              "        const docLinkHtml = 'Like what you see? Visit the ' +\n",
              "          '<a target=\"_blank\" href=https://colab.research.google.com/notebooks/data_table.ipynb>data table notebook</a>'\n",
              "          + ' to learn more about interactive tables.';\n",
              "        element.innerHTML = '';\n",
              "        dataTable['output_type'] = 'display_data';\n",
              "        await google.colab.output.renderOutput(dataTable, element);\n",
              "        const docLink = document.createElement('div');\n",
              "        docLink.innerHTML = docLinkHtml;\n",
              "        element.appendChild(docLink);\n",
              "      }\n",
              "    </script>\n",
              "  </div>\n",
              "\n",
              "\n",
              "<div id=\"df-a543c1b6-d92c-4468-8f47-7871c93e2f7f\">\n",
              "  <button class=\"colab-df-quickchart\" onclick=\"quickchart('df-a543c1b6-d92c-4468-8f47-7871c93e2f7f')\"\n",
              "            title=\"Suggest charts\"\n",
              "            style=\"display:none;\">\n",
              "\n",
              "<svg xmlns=\"http://www.w3.org/2000/svg\" height=\"24px\"viewBox=\"0 0 24 24\"\n",
              "     width=\"24px\">\n",
              "    <g>\n",
              "        <path d=\"M19 3H5c-1.1 0-2 .9-2 2v14c0 1.1.9 2 2 2h14c1.1 0 2-.9 2-2V5c0-1.1-.9-2-2-2zM9 17H7v-7h2v7zm4 0h-2V7h2v10zm4 0h-2v-4h2v4z\"/>\n",
              "    </g>\n",
              "</svg>\n",
              "  </button>\n",
              "\n",
              "<style>\n",
              "  .colab-df-quickchart {\n",
              "      --bg-color: #E8F0FE;\n",
              "      --fill-color: #1967D2;\n",
              "      --hover-bg-color: #E2EBFA;\n",
              "      --hover-fill-color: #174EA6;\n",
              "      --disabled-fill-color: #AAA;\n",
              "      --disabled-bg-color: #DDD;\n",
              "  }\n",
              "\n",
              "  [theme=dark] .colab-df-quickchart {\n",
              "      --bg-color: #3B4455;\n",
              "      --fill-color: #D2E3FC;\n",
              "      --hover-bg-color: #434B5C;\n",
              "      --hover-fill-color: #FFFFFF;\n",
              "      --disabled-bg-color: #3B4455;\n",
              "      --disabled-fill-color: #666;\n",
              "  }\n",
              "\n",
              "  .colab-df-quickchart {\n",
              "    background-color: var(--bg-color);\n",
              "    border: none;\n",
              "    border-radius: 50%;\n",
              "    cursor: pointer;\n",
              "    display: none;\n",
              "    fill: var(--fill-color);\n",
              "    height: 32px;\n",
              "    padding: 0;\n",
              "    width: 32px;\n",
              "  }\n",
              "\n",
              "  .colab-df-quickchart:hover {\n",
              "    background-color: var(--hover-bg-color);\n",
              "    box-shadow: 0 1px 2px rgba(60, 64, 67, 0.3), 0 1px 3px 1px rgba(60, 64, 67, 0.15);\n",
              "    fill: var(--button-hover-fill-color);\n",
              "  }\n",
              "\n",
              "  .colab-df-quickchart-complete:disabled,\n",
              "  .colab-df-quickchart-complete:disabled:hover {\n",
              "    background-color: var(--disabled-bg-color);\n",
              "    fill: var(--disabled-fill-color);\n",
              "    box-shadow: none;\n",
              "  }\n",
              "\n",
              "  .colab-df-spinner {\n",
              "    border: 2px solid var(--fill-color);\n",
              "    border-color: transparent;\n",
              "    border-bottom-color: var(--fill-color);\n",
              "    animation:\n",
              "      spin 1s steps(1) infinite;\n",
              "  }\n",
              "\n",
              "  @keyframes spin {\n",
              "    0% {\n",
              "      border-color: transparent;\n",
              "      border-bottom-color: var(--fill-color);\n",
              "      border-left-color: var(--fill-color);\n",
              "    }\n",
              "    20% {\n",
              "      border-color: transparent;\n",
              "      border-left-color: var(--fill-color);\n",
              "      border-top-color: var(--fill-color);\n",
              "    }\n",
              "    30% {\n",
              "      border-color: transparent;\n",
              "      border-left-color: var(--fill-color);\n",
              "      border-top-color: var(--fill-color);\n",
              "      border-right-color: var(--fill-color);\n",
              "    }\n",
              "    40% {\n",
              "      border-color: transparent;\n",
              "      border-right-color: var(--fill-color);\n",
              "      border-top-color: var(--fill-color);\n",
              "    }\n",
              "    60% {\n",
              "      border-color: transparent;\n",
              "      border-right-color: var(--fill-color);\n",
              "    }\n",
              "    80% {\n",
              "      border-color: transparent;\n",
              "      border-right-color: var(--fill-color);\n",
              "      border-bottom-color: var(--fill-color);\n",
              "    }\n",
              "    90% {\n",
              "      border-color: transparent;\n",
              "      border-bottom-color: var(--fill-color);\n",
              "    }\n",
              "  }\n",
              "</style>\n",
              "\n",
              "  <script>\n",
              "    async function quickchart(key) {\n",
              "      const quickchartButtonEl =\n",
              "        document.querySelector('#' + key + ' button');\n",
              "      quickchartButtonEl.disabled = true;  // To prevent multiple clicks.\n",
              "      quickchartButtonEl.classList.add('colab-df-spinner');\n",
              "      try {\n",
              "        const charts = await google.colab.kernel.invokeFunction(\n",
              "            'suggestCharts', [key], {});\n",
              "      } catch (error) {\n",
              "        console.error('Error during call to suggestCharts:', error);\n",
              "      }\n",
              "      quickchartButtonEl.classList.remove('colab-df-spinner');\n",
              "      quickchartButtonEl.classList.add('colab-df-quickchart-complete');\n",
              "    }\n",
              "    (() => {\n",
              "      let quickchartButtonEl =\n",
              "        document.querySelector('#df-a543c1b6-d92c-4468-8f47-7871c93e2f7f button');\n",
              "      quickchartButtonEl.style.display =\n",
              "        google.colab.kernel.accessAllowed ? 'block' : 'none';\n",
              "    })();\n",
              "  </script>\n",
              "</div>\n",
              "    </div>\n",
              "  </div>\n"
            ],
            "application/vnd.google.colaboratory.intrinsic+json": {
              "type": "dataframe",
              "variable_name": "df_countries",
              "summary": "{\n  \"name\": \"df_countries\",\n  \"rows\": 249,\n  \"fields\": [\n    {\n      \"column\": \"name\",\n      \"properties\": {\n        \"dtype\": \"string\",\n        \"num_unique_values\": 249,\n        \"samples\": [\n          \"Malta\",\n          \"Angola\",\n          \"Heard Island and McDonald Islands\"\n        ],\n        \"semantic_type\": \"\",\n        \"description\": \"\"\n      }\n    },\n    {\n      \"column\": \"alpha-2\",\n      \"properties\": {\n        \"dtype\": \"string\",\n        \"num_unique_values\": 248,\n        \"samples\": [\n          \"BN\",\n          \"AO\",\n          \"RU\"\n        ],\n        \"semantic_type\": \"\",\n        \"description\": \"\"\n      }\n    },\n    {\n      \"column\": \"alpha-3\",\n      \"properties\": {\n        \"dtype\": \"string\",\n        \"num_unique_values\": 249,\n        \"samples\": [\n          \"MLT\",\n          \"AGO\",\n          \"HMD\"\n        ],\n        \"semantic_type\": \"\",\n        \"description\": \"\"\n      }\n    },\n    {\n      \"column\": \"region\",\n      \"properties\": {\n        \"dtype\": \"category\",\n        \"num_unique_values\": 5,\n        \"samples\": [\n          \"Europe\",\n          \"Americas\",\n          \"Africa\"\n        ],\n        \"semantic_type\": \"\",\n        \"description\": \"\"\n      }\n    },\n    {\n      \"column\": \"sub-region\",\n      \"properties\": {\n        \"dtype\": \"category\",\n        \"num_unique_values\": 17,\n        \"samples\": [\n          \"Southern Asia\",\n          \"Northern Europe\",\n          \"Sub-Saharan Africa\"\n        ],\n        \"semantic_type\": \"\",\n        \"description\": \"\"\n      }\n    }\n  ]\n}"
            }
          },
          "metadata": {},
          "execution_count": 9
        }
      ],
      "source": [
        "df_countries = pd.read_csv(\"countries.csv\")\n",
        "df_countries.head()"
      ]
    },
    {
      "cell_type": "code",
      "execution_count": 10,
      "metadata": {
        "colab": {
          "base_uri": "https://localhost:8080/"
        },
        "id": "nUbsvGJxPdvG",
        "outputId": "0ccc6f33-e4e8-49b4-b624-fba36fd247bb"
      },
      "outputs": [
        {
          "output_type": "stream",
          "name": "stdout",
          "text": [
            "<class 'pandas.core.frame.DataFrame'>\n",
            "RangeIndex: 249 entries, 0 to 248\n",
            "Data columns (total 5 columns):\n",
            " #   Column      Non-Null Count  Dtype \n",
            "---  ------      --------------  ----- \n",
            " 0   name        249 non-null    object\n",
            " 1   alpha-2     248 non-null    object\n",
            " 2   alpha-3     249 non-null    object\n",
            " 3   region      248 non-null    object\n",
            " 4   sub-region  248 non-null    object\n",
            "dtypes: object(5)\n",
            "memory usage: 9.9+ KB\n"
          ]
        }
      ],
      "source": [
        "df_countries.info()"
      ]
    },
    {
      "cell_type": "code",
      "execution_count": 11,
      "metadata": {
        "colab": {
          "base_uri": "https://localhost:8080/"
        },
        "id": "wGxpWndriOxo",
        "outputId": "8df5a690-0177-43d2-90e7-73e06f974b61"
      },
      "outputs": [
        {
          "output_type": "stream",
          "name": "stdout",
          "text": [
            "(249, 5)\n"
          ]
        }
      ],
      "source": [
        "print(df_countries.shape)"
      ]
    },
    {
      "cell_type": "code",
      "execution_count": 12,
      "metadata": {
        "colab": {
          "base_uri": "https://localhost:8080/"
        },
        "id": "QnVLSsX9ijVv",
        "outputId": "24dffde1-eda0-4211-d334-2629d7c14d71"
      },
      "outputs": [
        {
          "output_type": "stream",
          "name": "stdout",
          "text": [
            "name          object\n",
            "alpha-2       object\n",
            "alpha-3       object\n",
            "region        object\n",
            "sub-region    object\n",
            "dtype: object\n"
          ]
        }
      ],
      "source": [
        "print(df_countries.dtypes)"
      ]
    },
    {
      "cell_type": "markdown",
      "metadata": {
        "id": "g8zm6TSoi-ad"
      },
      "source": [
        "DataFrame df_countries містить у собі інформацію про країни, їх коди, та географічне положення. Складається DF із 249 рядків та 5 колонок:\n",
        "*   name  - назва країни\n",
        "*   alpha-2 - двохзначний код\n",
        "*   alpha-3 - трьохзначний код\n",
        "*   region - континент\n",
        "*   sub-region - частина континенту(Пн,Пд, ЗХ,Сх)\n",
        "\n",
        "\n",
        "\n"
      ]
    },
    {
      "cell_type": "markdown",
      "metadata": {
        "id": "DsIBRVJwkivJ"
      },
      "source": [
        "Для того щоб обєднати всі три DataFrame:\n",
        "*   df_events  та df_product за стовпцем \"Product ID\" та \"ID\" відповідно;\n",
        "*    df_events та  df_countries за стовпцем \"Country Code\" та \"alpha-3\" відповідно.\n",
        "\n"
      ]
    },
    {
      "cell_type": "markdown",
      "metadata": {
        "id": "-JCQ_lc5mEhj"
      },
      "source": [
        "#Data cleaning"
      ]
    },
    {
      "cell_type": "markdown",
      "metadata": {
        "id": "dVC3erJ7CvGa"
      },
      "source": [
        "**Таблиця \"df_events\"**\n",
        "\n",
        "---\n",
        "\n"
      ]
    },
    {
      "cell_type": "code",
      "execution_count": 13,
      "metadata": {
        "colab": {
          "base_uri": "https://localhost:8080/",
          "height": 300
        },
        "id": "PVO1faZBmIMP",
        "outputId": "9314a603-8e48-4cdd-a2b6-0e556c426908"
      },
      "outputs": [
        {
          "output_type": "execute_result",
          "data": {
            "text/plain": [
              "           Order ID   Product ID   Units Sold   Unit Price    Unit Cost\n",
              "count  1.330000e+03  1330.000000  1328.000000  1330.000000  1330.000000\n",
              "mean   5.412048e+08  5788.096241  4952.201807   264.893541   187.246812\n",
              "std    2.573882e+08  2820.728878  2905.198996   217.323460   176.158873\n",
              "min    1.006406e+08  1270.000000     2.000000     9.330000     6.920000\n",
              "25%    3.190004e+08  3127.000000  2356.750000    81.730000    35.840000\n",
              "50%    5.387164e+08  5988.000000  4962.000000   154.060000    97.440000\n",
              "75%    7.544628e+08  8681.000000  7459.500000   437.200000   263.330000\n",
              "max    9.998797e+08  8969.000000  9999.000000   668.270000   524.960000"
            ],
            "text/html": [
              "\n",
              "  <div id=\"df-0c497966-4bfa-448c-96d6-3e0d0b061d95\" class=\"colab-df-container\">\n",
              "    <div>\n",
              "<style scoped>\n",
              "    .dataframe tbody tr th:only-of-type {\n",
              "        vertical-align: middle;\n",
              "    }\n",
              "\n",
              "    .dataframe tbody tr th {\n",
              "        vertical-align: top;\n",
              "    }\n",
              "\n",
              "    .dataframe thead th {\n",
              "        text-align: right;\n",
              "    }\n",
              "</style>\n",
              "<table border=\"1\" class=\"dataframe\">\n",
              "  <thead>\n",
              "    <tr style=\"text-align: right;\">\n",
              "      <th></th>\n",
              "      <th>Order ID</th>\n",
              "      <th>Product ID</th>\n",
              "      <th>Units Sold</th>\n",
              "      <th>Unit Price</th>\n",
              "      <th>Unit Cost</th>\n",
              "    </tr>\n",
              "  </thead>\n",
              "  <tbody>\n",
              "    <tr>\n",
              "      <th>count</th>\n",
              "      <td>1.330000e+03</td>\n",
              "      <td>1330.000000</td>\n",
              "      <td>1328.000000</td>\n",
              "      <td>1330.000000</td>\n",
              "      <td>1330.000000</td>\n",
              "    </tr>\n",
              "    <tr>\n",
              "      <th>mean</th>\n",
              "      <td>5.412048e+08</td>\n",
              "      <td>5788.096241</td>\n",
              "      <td>4952.201807</td>\n",
              "      <td>264.893541</td>\n",
              "      <td>187.246812</td>\n",
              "    </tr>\n",
              "    <tr>\n",
              "      <th>std</th>\n",
              "      <td>2.573882e+08</td>\n",
              "      <td>2820.728878</td>\n",
              "      <td>2905.198996</td>\n",
              "      <td>217.323460</td>\n",
              "      <td>176.158873</td>\n",
              "    </tr>\n",
              "    <tr>\n",
              "      <th>min</th>\n",
              "      <td>1.006406e+08</td>\n",
              "      <td>1270.000000</td>\n",
              "      <td>2.000000</td>\n",
              "      <td>9.330000</td>\n",
              "      <td>6.920000</td>\n",
              "    </tr>\n",
              "    <tr>\n",
              "      <th>25%</th>\n",
              "      <td>3.190004e+08</td>\n",
              "      <td>3127.000000</td>\n",
              "      <td>2356.750000</td>\n",
              "      <td>81.730000</td>\n",
              "      <td>35.840000</td>\n",
              "    </tr>\n",
              "    <tr>\n",
              "      <th>50%</th>\n",
              "      <td>5.387164e+08</td>\n",
              "      <td>5988.000000</td>\n",
              "      <td>4962.000000</td>\n",
              "      <td>154.060000</td>\n",
              "      <td>97.440000</td>\n",
              "    </tr>\n",
              "    <tr>\n",
              "      <th>75%</th>\n",
              "      <td>7.544628e+08</td>\n",
              "      <td>8681.000000</td>\n",
              "      <td>7459.500000</td>\n",
              "      <td>437.200000</td>\n",
              "      <td>263.330000</td>\n",
              "    </tr>\n",
              "    <tr>\n",
              "      <th>max</th>\n",
              "      <td>9.998797e+08</td>\n",
              "      <td>8969.000000</td>\n",
              "      <td>9999.000000</td>\n",
              "      <td>668.270000</td>\n",
              "      <td>524.960000</td>\n",
              "    </tr>\n",
              "  </tbody>\n",
              "</table>\n",
              "</div>\n",
              "    <div class=\"colab-df-buttons\">\n",
              "\n",
              "  <div class=\"colab-df-container\">\n",
              "    <button class=\"colab-df-convert\" onclick=\"convertToInteractive('df-0c497966-4bfa-448c-96d6-3e0d0b061d95')\"\n",
              "            title=\"Convert this dataframe to an interactive table.\"\n",
              "            style=\"display:none;\">\n",
              "\n",
              "  <svg xmlns=\"http://www.w3.org/2000/svg\" height=\"24px\" viewBox=\"0 -960 960 960\">\n",
              "    <path d=\"M120-120v-720h720v720H120Zm60-500h600v-160H180v160Zm220 220h160v-160H400v160Zm0 220h160v-160H400v160ZM180-400h160v-160H180v160Zm440 0h160v-160H620v160ZM180-180h160v-160H180v160Zm440 0h160v-160H620v160Z\"/>\n",
              "  </svg>\n",
              "    </button>\n",
              "\n",
              "  <style>\n",
              "    .colab-df-container {\n",
              "      display:flex;\n",
              "      gap: 12px;\n",
              "    }\n",
              "\n",
              "    .colab-df-convert {\n",
              "      background-color: #E8F0FE;\n",
              "      border: none;\n",
              "      border-radius: 50%;\n",
              "      cursor: pointer;\n",
              "      display: none;\n",
              "      fill: #1967D2;\n",
              "      height: 32px;\n",
              "      padding: 0 0 0 0;\n",
              "      width: 32px;\n",
              "    }\n",
              "\n",
              "    .colab-df-convert:hover {\n",
              "      background-color: #E2EBFA;\n",
              "      box-shadow: 0px 1px 2px rgba(60, 64, 67, 0.3), 0px 1px 3px 1px rgba(60, 64, 67, 0.15);\n",
              "      fill: #174EA6;\n",
              "    }\n",
              "\n",
              "    .colab-df-buttons div {\n",
              "      margin-bottom: 4px;\n",
              "    }\n",
              "\n",
              "    [theme=dark] .colab-df-convert {\n",
              "      background-color: #3B4455;\n",
              "      fill: #D2E3FC;\n",
              "    }\n",
              "\n",
              "    [theme=dark] .colab-df-convert:hover {\n",
              "      background-color: #434B5C;\n",
              "      box-shadow: 0px 1px 3px 1px rgba(0, 0, 0, 0.15);\n",
              "      filter: drop-shadow(0px 1px 2px rgba(0, 0, 0, 0.3));\n",
              "      fill: #FFFFFF;\n",
              "    }\n",
              "  </style>\n",
              "\n",
              "    <script>\n",
              "      const buttonEl =\n",
              "        document.querySelector('#df-0c497966-4bfa-448c-96d6-3e0d0b061d95 button.colab-df-convert');\n",
              "      buttonEl.style.display =\n",
              "        google.colab.kernel.accessAllowed ? 'block' : 'none';\n",
              "\n",
              "      async function convertToInteractive(key) {\n",
              "        const element = document.querySelector('#df-0c497966-4bfa-448c-96d6-3e0d0b061d95');\n",
              "        const dataTable =\n",
              "          await google.colab.kernel.invokeFunction('convertToInteractive',\n",
              "                                                    [key], {});\n",
              "        if (!dataTable) return;\n",
              "\n",
              "        const docLinkHtml = 'Like what you see? Visit the ' +\n",
              "          '<a target=\"_blank\" href=https://colab.research.google.com/notebooks/data_table.ipynb>data table notebook</a>'\n",
              "          + ' to learn more about interactive tables.';\n",
              "        element.innerHTML = '';\n",
              "        dataTable['output_type'] = 'display_data';\n",
              "        await google.colab.output.renderOutput(dataTable, element);\n",
              "        const docLink = document.createElement('div');\n",
              "        docLink.innerHTML = docLinkHtml;\n",
              "        element.appendChild(docLink);\n",
              "      }\n",
              "    </script>\n",
              "  </div>\n",
              "\n",
              "\n",
              "<div id=\"df-b8001ad0-2441-44f6-b1dc-3679f3e2a2fe\">\n",
              "  <button class=\"colab-df-quickchart\" onclick=\"quickchart('df-b8001ad0-2441-44f6-b1dc-3679f3e2a2fe')\"\n",
              "            title=\"Suggest charts\"\n",
              "            style=\"display:none;\">\n",
              "\n",
              "<svg xmlns=\"http://www.w3.org/2000/svg\" height=\"24px\"viewBox=\"0 0 24 24\"\n",
              "     width=\"24px\">\n",
              "    <g>\n",
              "        <path d=\"M19 3H5c-1.1 0-2 .9-2 2v14c0 1.1.9 2 2 2h14c1.1 0 2-.9 2-2V5c0-1.1-.9-2-2-2zM9 17H7v-7h2v7zm4 0h-2V7h2v10zm4 0h-2v-4h2v4z\"/>\n",
              "    </g>\n",
              "</svg>\n",
              "  </button>\n",
              "\n",
              "<style>\n",
              "  .colab-df-quickchart {\n",
              "      --bg-color: #E8F0FE;\n",
              "      --fill-color: #1967D2;\n",
              "      --hover-bg-color: #E2EBFA;\n",
              "      --hover-fill-color: #174EA6;\n",
              "      --disabled-fill-color: #AAA;\n",
              "      --disabled-bg-color: #DDD;\n",
              "  }\n",
              "\n",
              "  [theme=dark] .colab-df-quickchart {\n",
              "      --bg-color: #3B4455;\n",
              "      --fill-color: #D2E3FC;\n",
              "      --hover-bg-color: #434B5C;\n",
              "      --hover-fill-color: #FFFFFF;\n",
              "      --disabled-bg-color: #3B4455;\n",
              "      --disabled-fill-color: #666;\n",
              "  }\n",
              "\n",
              "  .colab-df-quickchart {\n",
              "    background-color: var(--bg-color);\n",
              "    border: none;\n",
              "    border-radius: 50%;\n",
              "    cursor: pointer;\n",
              "    display: none;\n",
              "    fill: var(--fill-color);\n",
              "    height: 32px;\n",
              "    padding: 0;\n",
              "    width: 32px;\n",
              "  }\n",
              "\n",
              "  .colab-df-quickchart:hover {\n",
              "    background-color: var(--hover-bg-color);\n",
              "    box-shadow: 0 1px 2px rgba(60, 64, 67, 0.3), 0 1px 3px 1px rgba(60, 64, 67, 0.15);\n",
              "    fill: var(--button-hover-fill-color);\n",
              "  }\n",
              "\n",
              "  .colab-df-quickchart-complete:disabled,\n",
              "  .colab-df-quickchart-complete:disabled:hover {\n",
              "    background-color: var(--disabled-bg-color);\n",
              "    fill: var(--disabled-fill-color);\n",
              "    box-shadow: none;\n",
              "  }\n",
              "\n",
              "  .colab-df-spinner {\n",
              "    border: 2px solid var(--fill-color);\n",
              "    border-color: transparent;\n",
              "    border-bottom-color: var(--fill-color);\n",
              "    animation:\n",
              "      spin 1s steps(1) infinite;\n",
              "  }\n",
              "\n",
              "  @keyframes spin {\n",
              "    0% {\n",
              "      border-color: transparent;\n",
              "      border-bottom-color: var(--fill-color);\n",
              "      border-left-color: var(--fill-color);\n",
              "    }\n",
              "    20% {\n",
              "      border-color: transparent;\n",
              "      border-left-color: var(--fill-color);\n",
              "      border-top-color: var(--fill-color);\n",
              "    }\n",
              "    30% {\n",
              "      border-color: transparent;\n",
              "      border-left-color: var(--fill-color);\n",
              "      border-top-color: var(--fill-color);\n",
              "      border-right-color: var(--fill-color);\n",
              "    }\n",
              "    40% {\n",
              "      border-color: transparent;\n",
              "      border-right-color: var(--fill-color);\n",
              "      border-top-color: var(--fill-color);\n",
              "    }\n",
              "    60% {\n",
              "      border-color: transparent;\n",
              "      border-right-color: var(--fill-color);\n",
              "    }\n",
              "    80% {\n",
              "      border-color: transparent;\n",
              "      border-right-color: var(--fill-color);\n",
              "      border-bottom-color: var(--fill-color);\n",
              "    }\n",
              "    90% {\n",
              "      border-color: transparent;\n",
              "      border-bottom-color: var(--fill-color);\n",
              "    }\n",
              "  }\n",
              "</style>\n",
              "\n",
              "  <script>\n",
              "    async function quickchart(key) {\n",
              "      const quickchartButtonEl =\n",
              "        document.querySelector('#' + key + ' button');\n",
              "      quickchartButtonEl.disabled = true;  // To prevent multiple clicks.\n",
              "      quickchartButtonEl.classList.add('colab-df-spinner');\n",
              "      try {\n",
              "        const charts = await google.colab.kernel.invokeFunction(\n",
              "            'suggestCharts', [key], {});\n",
              "      } catch (error) {\n",
              "        console.error('Error during call to suggestCharts:', error);\n",
              "      }\n",
              "      quickchartButtonEl.classList.remove('colab-df-spinner');\n",
              "      quickchartButtonEl.classList.add('colab-df-quickchart-complete');\n",
              "    }\n",
              "    (() => {\n",
              "      let quickchartButtonEl =\n",
              "        document.querySelector('#df-b8001ad0-2441-44f6-b1dc-3679f3e2a2fe button');\n",
              "      quickchartButtonEl.style.display =\n",
              "        google.colab.kernel.accessAllowed ? 'block' : 'none';\n",
              "    })();\n",
              "  </script>\n",
              "</div>\n",
              "    </div>\n",
              "  </div>\n"
            ],
            "application/vnd.google.colaboratory.intrinsic+json": {
              "type": "dataframe",
              "summary": "{\n  \"name\": \"df_events\",\n  \"rows\": 8,\n  \"fields\": [\n    {\n      \"column\": \"Order ID\",\n      \"properties\": {\n        \"dtype\": \"number\",\n        \"std\": 335746836.3370908,\n        \"min\": 1330.0,\n        \"max\": 999879729.0,\n        \"num_unique_values\": 8,\n        \"samples\": [\n          541204760.2428571,\n          538716375.5,\n          1330.0\n        ],\n        \"semantic_type\": \"\",\n        \"description\": \"\"\n      }\n    },\n    {\n      \"column\": \"Product ID\",\n      \"properties\": {\n        \"dtype\": \"number\",\n        \"std\": 3071.201259325377,\n        \"min\": 1270.0,\n        \"max\": 8969.0,\n        \"num_unique_values\": 8,\n        \"samples\": [\n          5788.096240601504,\n          5988.0,\n          1330.0\n        ],\n        \"semantic_type\": \"\",\n        \"description\": \"\"\n      }\n    },\n    {\n      \"column\": \"Units Sold\",\n      \"properties\": {\n        \"dtype\": \"number\",\n        \"std\": 3302.1257165250213,\n        \"min\": 2.0,\n        \"max\": 9999.0,\n        \"num_unique_values\": 8,\n        \"samples\": [\n          4952.201807228916,\n          4962.0,\n          1328.0\n        ],\n        \"semantic_type\": \"\",\n        \"description\": \"\"\n      }\n    },\n    {\n      \"column\": \"Unit Price\",\n      \"properties\": {\n        \"dtype\": \"number\",\n        \"std\": 431.62641204302764,\n        \"min\": 9.33,\n        \"max\": 1330.0,\n        \"num_unique_values\": 8,\n        \"samples\": [\n          264.89354135338345,\n          154.06,\n          1330.0\n        ],\n        \"semantic_type\": \"\",\n        \"description\": \"\"\n      }\n    },\n    {\n      \"column\": \"Unit Cost\",\n      \"properties\": {\n        \"dtype\": \"number\",\n        \"std\": 436.128066124073,\n        \"min\": 6.92,\n        \"max\": 1330.0,\n        \"num_unique_values\": 8,\n        \"samples\": [\n          187.2468120300752,\n          97.44,\n          1330.0\n        ],\n        \"semantic_type\": \"\",\n        \"description\": \"\"\n      }\n    }\n  ]\n}"
            }
          },
          "metadata": {},
          "execution_count": 13
        }
      ],
      "source": [
        "df_events.describe()"
      ]
    },
    {
      "cell_type": "code",
      "execution_count": 14,
      "metadata": {
        "colab": {
          "base_uri": "https://localhost:8080/"
        },
        "id": "PJDXYRYZmez9",
        "outputId": "2890cbd8-9678-439d-bfb9-d0ec5d96e42d"
      },
      "outputs": [
        {
          "output_type": "stream",
          "name": "stdout",
          "text": [
            "Order ID           0\n",
            "Order Date         0\n",
            "Ship Date          0\n",
            "Order Priority     0\n",
            "Country Code      82\n",
            "Product ID         0\n",
            "Sales Channel      0\n",
            "Units Sold         2\n",
            "Unit Price         0\n",
            "Unit Cost          0\n",
            "dtype: int64\n"
          ]
        }
      ],
      "source": [
        "print(df_events.isna().sum())"
      ]
    },
    {
      "cell_type": "code",
      "execution_count": 15,
      "metadata": {
        "colab": {
          "base_uri": "https://localhost:8080/"
        },
        "id": "w46X5-rUm_Dz",
        "outputId": "d1e08b7d-b67d-4f17-fb3c-1293557aa170"
      },
      "outputs": [
        {
          "output_type": "stream",
          "name": "stdout",
          "text": [
            "Order ID          0.000000\n",
            "Order Date        0.000000\n",
            "Ship Date         0.000000\n",
            "Order Priority    0.000000\n",
            "Country Code      0.061654\n",
            "Product ID        0.000000\n",
            "Sales Channel     0.000000\n",
            "Units Sold        0.001504\n",
            "Unit Price        0.000000\n",
            "Unit Cost         0.000000\n",
            "dtype: float64\n"
          ]
        }
      ],
      "source": [
        "proportion_missing_values = df_events.isna().sum()/df_events.shape[0]\n",
        "print(proportion_missing_values)"
      ]
    },
    {
      "cell_type": "markdown",
      "metadata": {
        "id": "-uo7LPO8DBT9"
      },
      "source": [
        "Оскільки, доля пропущених значень у колонці Units Sold  невелика (0.001504), можна видалити ці рядки вз датафрейму.\n",
        "У Колонці Country Code пропущені значення свідчать, про те, що ми не знаємо з якої країни були здійснені ці покупки. Доля пропусків цих значень більша, тому щоб не втратити ці данні, замінимо країну на \"Оther\""
      ]
    },
    {
      "cell_type": "code",
      "execution_count": 16,
      "metadata": {
        "id": "lAOHLTTV9ngT"
      },
      "outputs": [],
      "source": [
        "df_events['Country Code' ]=df_events['Country Code' ].fillna(\"Other\") # замінили пропуски в колонці коду країни"
      ]
    },
    {
      "cell_type": "code",
      "execution_count": 17,
      "metadata": {
        "colab": {
          "base_uri": "https://localhost:8080/"
        },
        "id": "S_t7szHKHdI8",
        "outputId": "d3831b6e-2550-49df-ff0a-3e76451982f1"
      },
      "outputs": [
        {
          "output_type": "stream",
          "name": "stdout",
          "text": [
            "       Order ID Order Date   Ship Date Order Priority Country Code  \\\n",
            "0     100640618  10/8/2014  10/18/2014              M          NOR   \n",
            "1     100983083  8/11/2016   8/11/2016              C          SRB   \n",
            "2     101025998  7/18/2014   8/11/2014              M        Other   \n",
            "3     102230632  5/13/2017   6/13/2017              L          MNE   \n",
            "4     103435266  8/11/2012   9/18/2012              H          SRB   \n",
            "...         ...        ...         ...            ...          ...   \n",
            "1325  994504153  1/10/2017   1/13/2017              M          SWE   \n",
            "1326  994978797  12/5/2014    1/2/2015              H          ITA   \n",
            "1327  996754205  9/20/2010   9/22/2010              L          RUS   \n",
            "1328  998043382  6/15/2010    7/3/2010              H          MLT   \n",
            "1329  999879729  3/31/2012    5/6/2012              M          ALB   \n",
            "\n",
            "      Product ID Sales Channel  Units Sold  Unit Price  Unit Cost  \n",
            "0           2103        Online       650.0      205.70     117.11  \n",
            "1           2103       Offline      1993.0      205.70     117.11  \n",
            "2           7940        Online      4693.0      668.27     502.54  \n",
            "3           2455        Online      1171.0      109.28      35.84  \n",
            "4           1270       Offline      7648.0       47.45      31.79  \n",
            "...          ...           ...         ...         ...        ...  \n",
            "1325        4594        Online      4734.0        9.33       6.92  \n",
            "1326        1270       Offline      5192.0       47.45      31.79  \n",
            "1327        7331       Offline       574.0      255.28     159.42  \n",
            "1328        8293        Online      2070.0      437.20     263.33  \n",
            "1329        7940       Offline      5486.0      668.27     502.54  \n",
            "\n",
            "[1328 rows x 10 columns]\n"
          ]
        }
      ],
      "source": [
        "missing_indices = df_events[df_events['Units Sold'].isna()].index[:2]\n",
        "df_events = df_events.drop(missing_indices)\n",
        "print(df_events)"
      ]
    },
    {
      "cell_type": "code",
      "execution_count": 18,
      "metadata": {
        "colab": {
          "base_uri": "https://localhost:8080/"
        },
        "id": "zHmW3BUDYlY7",
        "outputId": "e74c1ee0-e5c7-4b3b-922e-170a193cde7f"
      },
      "outputs": [
        {
          "output_type": "stream",
          "name": "stdout",
          "text": [
            "<class 'pandas.core.frame.DataFrame'>\n",
            "Index: 1328 entries, 0 to 1329\n",
            "Data columns (total 10 columns):\n",
            " #   Column          Non-Null Count  Dtype  \n",
            "---  ------          --------------  -----  \n",
            " 0   Order ID        1328 non-null   int64  \n",
            " 1   Order Date      1328 non-null   object \n",
            " 2   Ship Date       1328 non-null   object \n",
            " 3   Order Priority  1328 non-null   object \n",
            " 4   Country Code    1328 non-null   object \n",
            " 5   Product ID      1328 non-null   int64  \n",
            " 6   Sales Channel   1328 non-null   object \n",
            " 7   Units Sold      1328 non-null   float64\n",
            " 8   Unit Price      1328 non-null   float64\n",
            " 9   Unit Cost       1328 non-null   float64\n",
            "dtypes: float64(3), int64(2), object(5)\n",
            "memory usage: 114.1+ KB\n"
          ]
        }
      ],
      "source": [
        "df_events.info()"
      ]
    },
    {
      "cell_type": "code",
      "execution_count": 19,
      "metadata": {
        "id": "zJZOK-dZZFXX"
      },
      "outputs": [],
      "source": [
        "df_events['Order Date'] = pd.to_datetime(df_events['Order Date'], errors='coerce')\n",
        "df_events['Ship Date'] = pd.to_datetime(df_events['Ship Date'], errors='coerce') #перетворення на форомат дати"
      ]
    },
    {
      "cell_type": "code",
      "execution_count": 20,
      "metadata": {
        "colab": {
          "base_uri": "https://localhost:8080/"
        },
        "id": "RQkI876JaWTA",
        "outputId": "c5c464b8-0275-46fd-a214-75eb5727ce4a"
      },
      "outputs": [
        {
          "output_type": "stream",
          "name": "stdout",
          "text": [
            "<class 'pandas.core.frame.DataFrame'>\n",
            "Index: 1328 entries, 0 to 1329\n",
            "Data columns (total 10 columns):\n",
            " #   Column          Non-Null Count  Dtype         \n",
            "---  ------          --------------  -----         \n",
            " 0   Order ID        1328 non-null   int64         \n",
            " 1   Order Date      1328 non-null   datetime64[ns]\n",
            " 2   Ship Date       1328 non-null   datetime64[ns]\n",
            " 3   Order Priority  1328 non-null   object        \n",
            " 4   Country Code    1328 non-null   object        \n",
            " 5   Product ID      1328 non-null   int64         \n",
            " 6   Sales Channel   1328 non-null   object        \n",
            " 7   Units Sold      1328 non-null   float64       \n",
            " 8   Unit Price      1328 non-null   float64       \n",
            " 9   Unit Cost       1328 non-null   float64       \n",
            "dtypes: datetime64[ns](2), float64(3), int64(2), object(3)\n",
            "memory usage: 114.1+ KB\n"
          ]
        }
      ],
      "source": [
        "df_events.info()"
      ]
    },
    {
      "cell_type": "code",
      "execution_count": 21,
      "metadata": {
        "colab": {
          "base_uri": "https://localhost:8080/"
        },
        "id": "t56trQUxbosy",
        "outputId": "d9bd4913-e32e-475b-daa4-08ca0a5e32c5"
      },
      "outputs": [
        {
          "output_type": "stream",
          "name": "stdout",
          "text": [
            "Order ID          0\n",
            "Order Date        0\n",
            "Ship Date         0\n",
            "Order Priority    0\n",
            "Country Code      0\n",
            "Product ID        0\n",
            "Sales Channel     0\n",
            "Units Sold        0\n",
            "Unit Price        0\n",
            "Unit Cost         0\n",
            "dtype: int64\n"
          ]
        }
      ],
      "source": [
        "print(df_events.isna().sum()) #провіримо чи немає пропусків, чи все відпрацювало коректно"
      ]
    },
    {
      "cell_type": "code",
      "execution_count": 22,
      "metadata": {
        "colab": {
          "base_uri": "https://localhost:8080/"
        },
        "id": "qrIhqO36c8g2",
        "outputId": "59f35ec9-1cac-4d5a-f44b-021e439449cc"
      },
      "outputs": [
        {
          "output_type": "execute_result",
          "data": {
            "text/plain": [
              "np.int64(0)"
            ]
          },
          "metadata": {},
          "execution_count": 22
        }
      ],
      "source": [
        "df_events.duplicated().sum() # перевірка на наявність дублікатів"
      ]
    },
    {
      "cell_type": "markdown",
      "metadata": {
        "id": "RRMVs9IrfpGD"
      },
      "source": [
        "**Таблиця \"df_products\"**\n",
        "\n",
        "---\n",
        "\n"
      ]
    },
    {
      "cell_type": "code",
      "execution_count": 23,
      "metadata": {
        "colab": {
          "base_uri": "https://localhost:8080/"
        },
        "id": "ShnfIyAffuRD",
        "outputId": "7978400a-f9ca-407e-8e75-31efeffa7e25"
      },
      "outputs": [
        {
          "output_type": "stream",
          "name": "stdout",
          "text": [
            "<class 'pandas.core.frame.DataFrame'>\n",
            "RangeIndex: 12 entries, 0 to 11\n",
            "Data columns (total 2 columns):\n",
            " #   Column     Non-Null Count  Dtype \n",
            "---  ------     --------------  ----- \n",
            " 0   id         12 non-null     int64 \n",
            " 1   item_type  12 non-null     object\n",
            "dtypes: int64(1), object(1)\n",
            "memory usage: 324.0+ bytes\n"
          ]
        }
      ],
      "source": [
        "df_products.info()"
      ]
    },
    {
      "cell_type": "code",
      "execution_count": 24,
      "metadata": {
        "id": "kXc9m3difs0D"
      },
      "outputs": [],
      "source": [
        "df_products = df_products.rename(columns={'id':'Product ID'})# перейменуємо колонку для об'єднання"
      ]
    },
    {
      "cell_type": "code",
      "execution_count": 25,
      "metadata": {
        "colab": {
          "base_uri": "https://localhost:8080/"
        },
        "id": "7Y-HrUGXf9gn",
        "outputId": "e7ac9ee9-0b8b-4df9-bb2f-55a66bb440d9"
      },
      "outputs": [
        {
          "output_type": "stream",
          "name": "stdout",
          "text": [
            "Product ID    0\n",
            "item_type     0\n",
            "dtype: int64\n"
          ]
        }
      ],
      "source": [
        "print(df_products.isna().sum())"
      ]
    },
    {
      "cell_type": "code",
      "execution_count": 26,
      "metadata": {
        "colab": {
          "base_uri": "https://localhost:8080/",
          "height": 206
        },
        "id": "nY6Q78fBf6VD",
        "outputId": "37a89db6-32f5-4094-ee06-1c6f8f626b92"
      },
      "outputs": [
        {
          "output_type": "execute_result",
          "data": {
            "text/plain": [
              "   Product ID        item_type\n",
              "0        2103           Cereal\n",
              "1        7940        Household\n",
              "2        2455          Clothes\n",
              "3        1270        Beverages\n",
              "4        8681  Office Supplies"
            ],
            "text/html": [
              "\n",
              "  <div id=\"df-c7f6967e-28f5-4631-af6e-99054d7a6455\" class=\"colab-df-container\">\n",
              "    <div>\n",
              "<style scoped>\n",
              "    .dataframe tbody tr th:only-of-type {\n",
              "        vertical-align: middle;\n",
              "    }\n",
              "\n",
              "    .dataframe tbody tr th {\n",
              "        vertical-align: top;\n",
              "    }\n",
              "\n",
              "    .dataframe thead th {\n",
              "        text-align: right;\n",
              "    }\n",
              "</style>\n",
              "<table border=\"1\" class=\"dataframe\">\n",
              "  <thead>\n",
              "    <tr style=\"text-align: right;\">\n",
              "      <th></th>\n",
              "      <th>Product ID</th>\n",
              "      <th>item_type</th>\n",
              "    </tr>\n",
              "  </thead>\n",
              "  <tbody>\n",
              "    <tr>\n",
              "      <th>0</th>\n",
              "      <td>2103</td>\n",
              "      <td>Cereal</td>\n",
              "    </tr>\n",
              "    <tr>\n",
              "      <th>1</th>\n",
              "      <td>7940</td>\n",
              "      <td>Household</td>\n",
              "    </tr>\n",
              "    <tr>\n",
              "      <th>2</th>\n",
              "      <td>2455</td>\n",
              "      <td>Clothes</td>\n",
              "    </tr>\n",
              "    <tr>\n",
              "      <th>3</th>\n",
              "      <td>1270</td>\n",
              "      <td>Beverages</td>\n",
              "    </tr>\n",
              "    <tr>\n",
              "      <th>4</th>\n",
              "      <td>8681</td>\n",
              "      <td>Office Supplies</td>\n",
              "    </tr>\n",
              "  </tbody>\n",
              "</table>\n",
              "</div>\n",
              "    <div class=\"colab-df-buttons\">\n",
              "\n",
              "  <div class=\"colab-df-container\">\n",
              "    <button class=\"colab-df-convert\" onclick=\"convertToInteractive('df-c7f6967e-28f5-4631-af6e-99054d7a6455')\"\n",
              "            title=\"Convert this dataframe to an interactive table.\"\n",
              "            style=\"display:none;\">\n",
              "\n",
              "  <svg xmlns=\"http://www.w3.org/2000/svg\" height=\"24px\" viewBox=\"0 -960 960 960\">\n",
              "    <path d=\"M120-120v-720h720v720H120Zm60-500h600v-160H180v160Zm220 220h160v-160H400v160Zm0 220h160v-160H400v160ZM180-400h160v-160H180v160Zm440 0h160v-160H620v160ZM180-180h160v-160H180v160Zm440 0h160v-160H620v160Z\"/>\n",
              "  </svg>\n",
              "    </button>\n",
              "\n",
              "  <style>\n",
              "    .colab-df-container {\n",
              "      display:flex;\n",
              "      gap: 12px;\n",
              "    }\n",
              "\n",
              "    .colab-df-convert {\n",
              "      background-color: #E8F0FE;\n",
              "      border: none;\n",
              "      border-radius: 50%;\n",
              "      cursor: pointer;\n",
              "      display: none;\n",
              "      fill: #1967D2;\n",
              "      height: 32px;\n",
              "      padding: 0 0 0 0;\n",
              "      width: 32px;\n",
              "    }\n",
              "\n",
              "    .colab-df-convert:hover {\n",
              "      background-color: #E2EBFA;\n",
              "      box-shadow: 0px 1px 2px rgba(60, 64, 67, 0.3), 0px 1px 3px 1px rgba(60, 64, 67, 0.15);\n",
              "      fill: #174EA6;\n",
              "    }\n",
              "\n",
              "    .colab-df-buttons div {\n",
              "      margin-bottom: 4px;\n",
              "    }\n",
              "\n",
              "    [theme=dark] .colab-df-convert {\n",
              "      background-color: #3B4455;\n",
              "      fill: #D2E3FC;\n",
              "    }\n",
              "\n",
              "    [theme=dark] .colab-df-convert:hover {\n",
              "      background-color: #434B5C;\n",
              "      box-shadow: 0px 1px 3px 1px rgba(0, 0, 0, 0.15);\n",
              "      filter: drop-shadow(0px 1px 2px rgba(0, 0, 0, 0.3));\n",
              "      fill: #FFFFFF;\n",
              "    }\n",
              "  </style>\n",
              "\n",
              "    <script>\n",
              "      const buttonEl =\n",
              "        document.querySelector('#df-c7f6967e-28f5-4631-af6e-99054d7a6455 button.colab-df-convert');\n",
              "      buttonEl.style.display =\n",
              "        google.colab.kernel.accessAllowed ? 'block' : 'none';\n",
              "\n",
              "      async function convertToInteractive(key) {\n",
              "        const element = document.querySelector('#df-c7f6967e-28f5-4631-af6e-99054d7a6455');\n",
              "        const dataTable =\n",
              "          await google.colab.kernel.invokeFunction('convertToInteractive',\n",
              "                                                    [key], {});\n",
              "        if (!dataTable) return;\n",
              "\n",
              "        const docLinkHtml = 'Like what you see? Visit the ' +\n",
              "          '<a target=\"_blank\" href=https://colab.research.google.com/notebooks/data_table.ipynb>data table notebook</a>'\n",
              "          + ' to learn more about interactive tables.';\n",
              "        element.innerHTML = '';\n",
              "        dataTable['output_type'] = 'display_data';\n",
              "        await google.colab.output.renderOutput(dataTable, element);\n",
              "        const docLink = document.createElement('div');\n",
              "        docLink.innerHTML = docLinkHtml;\n",
              "        element.appendChild(docLink);\n",
              "      }\n",
              "    </script>\n",
              "  </div>\n",
              "\n",
              "\n",
              "<div id=\"df-bc0e87f5-5518-4d86-a900-7e4877ddc9da\">\n",
              "  <button class=\"colab-df-quickchart\" onclick=\"quickchart('df-bc0e87f5-5518-4d86-a900-7e4877ddc9da')\"\n",
              "            title=\"Suggest charts\"\n",
              "            style=\"display:none;\">\n",
              "\n",
              "<svg xmlns=\"http://www.w3.org/2000/svg\" height=\"24px\"viewBox=\"0 0 24 24\"\n",
              "     width=\"24px\">\n",
              "    <g>\n",
              "        <path d=\"M19 3H5c-1.1 0-2 .9-2 2v14c0 1.1.9 2 2 2h14c1.1 0 2-.9 2-2V5c0-1.1-.9-2-2-2zM9 17H7v-7h2v7zm4 0h-2V7h2v10zm4 0h-2v-4h2v4z\"/>\n",
              "    </g>\n",
              "</svg>\n",
              "  </button>\n",
              "\n",
              "<style>\n",
              "  .colab-df-quickchart {\n",
              "      --bg-color: #E8F0FE;\n",
              "      --fill-color: #1967D2;\n",
              "      --hover-bg-color: #E2EBFA;\n",
              "      --hover-fill-color: #174EA6;\n",
              "      --disabled-fill-color: #AAA;\n",
              "      --disabled-bg-color: #DDD;\n",
              "  }\n",
              "\n",
              "  [theme=dark] .colab-df-quickchart {\n",
              "      --bg-color: #3B4455;\n",
              "      --fill-color: #D2E3FC;\n",
              "      --hover-bg-color: #434B5C;\n",
              "      --hover-fill-color: #FFFFFF;\n",
              "      --disabled-bg-color: #3B4455;\n",
              "      --disabled-fill-color: #666;\n",
              "  }\n",
              "\n",
              "  .colab-df-quickchart {\n",
              "    background-color: var(--bg-color);\n",
              "    border: none;\n",
              "    border-radius: 50%;\n",
              "    cursor: pointer;\n",
              "    display: none;\n",
              "    fill: var(--fill-color);\n",
              "    height: 32px;\n",
              "    padding: 0;\n",
              "    width: 32px;\n",
              "  }\n",
              "\n",
              "  .colab-df-quickchart:hover {\n",
              "    background-color: var(--hover-bg-color);\n",
              "    box-shadow: 0 1px 2px rgba(60, 64, 67, 0.3), 0 1px 3px 1px rgba(60, 64, 67, 0.15);\n",
              "    fill: var(--button-hover-fill-color);\n",
              "  }\n",
              "\n",
              "  .colab-df-quickchart-complete:disabled,\n",
              "  .colab-df-quickchart-complete:disabled:hover {\n",
              "    background-color: var(--disabled-bg-color);\n",
              "    fill: var(--disabled-fill-color);\n",
              "    box-shadow: none;\n",
              "  }\n",
              "\n",
              "  .colab-df-spinner {\n",
              "    border: 2px solid var(--fill-color);\n",
              "    border-color: transparent;\n",
              "    border-bottom-color: var(--fill-color);\n",
              "    animation:\n",
              "      spin 1s steps(1) infinite;\n",
              "  }\n",
              "\n",
              "  @keyframes spin {\n",
              "    0% {\n",
              "      border-color: transparent;\n",
              "      border-bottom-color: var(--fill-color);\n",
              "      border-left-color: var(--fill-color);\n",
              "    }\n",
              "    20% {\n",
              "      border-color: transparent;\n",
              "      border-left-color: var(--fill-color);\n",
              "      border-top-color: var(--fill-color);\n",
              "    }\n",
              "    30% {\n",
              "      border-color: transparent;\n",
              "      border-left-color: var(--fill-color);\n",
              "      border-top-color: var(--fill-color);\n",
              "      border-right-color: var(--fill-color);\n",
              "    }\n",
              "    40% {\n",
              "      border-color: transparent;\n",
              "      border-right-color: var(--fill-color);\n",
              "      border-top-color: var(--fill-color);\n",
              "    }\n",
              "    60% {\n",
              "      border-color: transparent;\n",
              "      border-right-color: var(--fill-color);\n",
              "    }\n",
              "    80% {\n",
              "      border-color: transparent;\n",
              "      border-right-color: var(--fill-color);\n",
              "      border-bottom-color: var(--fill-color);\n",
              "    }\n",
              "    90% {\n",
              "      border-color: transparent;\n",
              "      border-bottom-color: var(--fill-color);\n",
              "    }\n",
              "  }\n",
              "</style>\n",
              "\n",
              "  <script>\n",
              "    async function quickchart(key) {\n",
              "      const quickchartButtonEl =\n",
              "        document.querySelector('#' + key + ' button');\n",
              "      quickchartButtonEl.disabled = true;  // To prevent multiple clicks.\n",
              "      quickchartButtonEl.classList.add('colab-df-spinner');\n",
              "      try {\n",
              "        const charts = await google.colab.kernel.invokeFunction(\n",
              "            'suggestCharts', [key], {});\n",
              "      } catch (error) {\n",
              "        console.error('Error during call to suggestCharts:', error);\n",
              "      }\n",
              "      quickchartButtonEl.classList.remove('colab-df-spinner');\n",
              "      quickchartButtonEl.classList.add('colab-df-quickchart-complete');\n",
              "    }\n",
              "    (() => {\n",
              "      let quickchartButtonEl =\n",
              "        document.querySelector('#df-bc0e87f5-5518-4d86-a900-7e4877ddc9da button');\n",
              "      quickchartButtonEl.style.display =\n",
              "        google.colab.kernel.accessAllowed ? 'block' : 'none';\n",
              "    })();\n",
              "  </script>\n",
              "</div>\n",
              "    </div>\n",
              "  </div>\n"
            ],
            "application/vnd.google.colaboratory.intrinsic+json": {
              "type": "dataframe",
              "variable_name": "df_products",
              "summary": "{\n  \"name\": \"df_products\",\n  \"rows\": 12,\n  \"fields\": [\n    {\n      \"column\": \"Product ID\",\n      \"properties\": {\n        \"dtype\": \"number\",\n        \"std\": 2937,\n        \"min\": 1270,\n        \"max\": 8969,\n        \"num_unique_values\": 12,\n        \"samples\": [\n          8969,\n          8293,\n          2103\n        ],\n        \"semantic_type\": \"\",\n        \"description\": \"\"\n      }\n    },\n    {\n      \"column\": \"item_type\",\n      \"properties\": {\n        \"dtype\": \"string\",\n        \"num_unique_values\": 12,\n        \"samples\": [\n          \"Snacks\",\n          \"Cosmetics\",\n          \"Cereal\"\n        ],\n        \"semantic_type\": \"\",\n        \"description\": \"\"\n      }\n    }\n  ]\n}"
            }
          },
          "metadata": {},
          "execution_count": 26
        }
      ],
      "source": [
        "df_products.head()"
      ]
    },
    {
      "cell_type": "markdown",
      "metadata": {
        "id": "27Ikl-E3Xsv0"
      },
      "source": [
        "У таблиці 'df_products' всі дані розпізнаються коректно аномалій не виявлено"
      ]
    },
    {
      "cell_type": "markdown",
      "metadata": {
        "id": "DROO4WvgiM0C"
      },
      "source": [
        "**Таблиця \"df_countries \"**\n",
        "\n",
        "---\n",
        "\n"
      ]
    },
    {
      "cell_type": "code",
      "execution_count": 27,
      "metadata": {
        "colab": {
          "base_uri": "https://localhost:8080/",
          "height": 206
        },
        "id": "0Yevg6c3iaxd",
        "outputId": "3195ec96-435b-4021-e874-d5b8c086a365"
      },
      "outputs": [
        {
          "output_type": "execute_result",
          "data": {
            "text/plain": [
              "             name alpha-2 alpha-3   region       sub-region\n",
              "0     Afghanistan      AF     AFG     Asia    Southern Asia\n",
              "1   Åland Islands      AX     ALA   Europe  Northern Europe\n",
              "2         Albania      AL     ALB   Europe  Southern Europe\n",
              "3         Algeria      DZ     DZA   Africa  Northern Africa\n",
              "4  American Samoa      AS     ASM  Oceania        Polynesia"
            ],
            "text/html": [
              "\n",
              "  <div id=\"df-898fdda3-f1d7-4f4a-8c84-08f3d1dcdee5\" class=\"colab-df-container\">\n",
              "    <div>\n",
              "<style scoped>\n",
              "    .dataframe tbody tr th:only-of-type {\n",
              "        vertical-align: middle;\n",
              "    }\n",
              "\n",
              "    .dataframe tbody tr th {\n",
              "        vertical-align: top;\n",
              "    }\n",
              "\n",
              "    .dataframe thead th {\n",
              "        text-align: right;\n",
              "    }\n",
              "</style>\n",
              "<table border=\"1\" class=\"dataframe\">\n",
              "  <thead>\n",
              "    <tr style=\"text-align: right;\">\n",
              "      <th></th>\n",
              "      <th>name</th>\n",
              "      <th>alpha-2</th>\n",
              "      <th>alpha-3</th>\n",
              "      <th>region</th>\n",
              "      <th>sub-region</th>\n",
              "    </tr>\n",
              "  </thead>\n",
              "  <tbody>\n",
              "    <tr>\n",
              "      <th>0</th>\n",
              "      <td>Afghanistan</td>\n",
              "      <td>AF</td>\n",
              "      <td>AFG</td>\n",
              "      <td>Asia</td>\n",
              "      <td>Southern Asia</td>\n",
              "    </tr>\n",
              "    <tr>\n",
              "      <th>1</th>\n",
              "      <td>Åland Islands</td>\n",
              "      <td>AX</td>\n",
              "      <td>ALA</td>\n",
              "      <td>Europe</td>\n",
              "      <td>Northern Europe</td>\n",
              "    </tr>\n",
              "    <tr>\n",
              "      <th>2</th>\n",
              "      <td>Albania</td>\n",
              "      <td>AL</td>\n",
              "      <td>ALB</td>\n",
              "      <td>Europe</td>\n",
              "      <td>Southern Europe</td>\n",
              "    </tr>\n",
              "    <tr>\n",
              "      <th>3</th>\n",
              "      <td>Algeria</td>\n",
              "      <td>DZ</td>\n",
              "      <td>DZA</td>\n",
              "      <td>Africa</td>\n",
              "      <td>Northern Africa</td>\n",
              "    </tr>\n",
              "    <tr>\n",
              "      <th>4</th>\n",
              "      <td>American Samoa</td>\n",
              "      <td>AS</td>\n",
              "      <td>ASM</td>\n",
              "      <td>Oceania</td>\n",
              "      <td>Polynesia</td>\n",
              "    </tr>\n",
              "  </tbody>\n",
              "</table>\n",
              "</div>\n",
              "    <div class=\"colab-df-buttons\">\n",
              "\n",
              "  <div class=\"colab-df-container\">\n",
              "    <button class=\"colab-df-convert\" onclick=\"convertToInteractive('df-898fdda3-f1d7-4f4a-8c84-08f3d1dcdee5')\"\n",
              "            title=\"Convert this dataframe to an interactive table.\"\n",
              "            style=\"display:none;\">\n",
              "\n",
              "  <svg xmlns=\"http://www.w3.org/2000/svg\" height=\"24px\" viewBox=\"0 -960 960 960\">\n",
              "    <path d=\"M120-120v-720h720v720H120Zm60-500h600v-160H180v160Zm220 220h160v-160H400v160Zm0 220h160v-160H400v160ZM180-400h160v-160H180v160Zm440 0h160v-160H620v160ZM180-180h160v-160H180v160Zm440 0h160v-160H620v160Z\"/>\n",
              "  </svg>\n",
              "    </button>\n",
              "\n",
              "  <style>\n",
              "    .colab-df-container {\n",
              "      display:flex;\n",
              "      gap: 12px;\n",
              "    }\n",
              "\n",
              "    .colab-df-convert {\n",
              "      background-color: #E8F0FE;\n",
              "      border: none;\n",
              "      border-radius: 50%;\n",
              "      cursor: pointer;\n",
              "      display: none;\n",
              "      fill: #1967D2;\n",
              "      height: 32px;\n",
              "      padding: 0 0 0 0;\n",
              "      width: 32px;\n",
              "    }\n",
              "\n",
              "    .colab-df-convert:hover {\n",
              "      background-color: #E2EBFA;\n",
              "      box-shadow: 0px 1px 2px rgba(60, 64, 67, 0.3), 0px 1px 3px 1px rgba(60, 64, 67, 0.15);\n",
              "      fill: #174EA6;\n",
              "    }\n",
              "\n",
              "    .colab-df-buttons div {\n",
              "      margin-bottom: 4px;\n",
              "    }\n",
              "\n",
              "    [theme=dark] .colab-df-convert {\n",
              "      background-color: #3B4455;\n",
              "      fill: #D2E3FC;\n",
              "    }\n",
              "\n",
              "    [theme=dark] .colab-df-convert:hover {\n",
              "      background-color: #434B5C;\n",
              "      box-shadow: 0px 1px 3px 1px rgba(0, 0, 0, 0.15);\n",
              "      filter: drop-shadow(0px 1px 2px rgba(0, 0, 0, 0.3));\n",
              "      fill: #FFFFFF;\n",
              "    }\n",
              "  </style>\n",
              "\n",
              "    <script>\n",
              "      const buttonEl =\n",
              "        document.querySelector('#df-898fdda3-f1d7-4f4a-8c84-08f3d1dcdee5 button.colab-df-convert');\n",
              "      buttonEl.style.display =\n",
              "        google.colab.kernel.accessAllowed ? 'block' : 'none';\n",
              "\n",
              "      async function convertToInteractive(key) {\n",
              "        const element = document.querySelector('#df-898fdda3-f1d7-4f4a-8c84-08f3d1dcdee5');\n",
              "        const dataTable =\n",
              "          await google.colab.kernel.invokeFunction('convertToInteractive',\n",
              "                                                    [key], {});\n",
              "        if (!dataTable) return;\n",
              "\n",
              "        const docLinkHtml = 'Like what you see? Visit the ' +\n",
              "          '<a target=\"_blank\" href=https://colab.research.google.com/notebooks/data_table.ipynb>data table notebook</a>'\n",
              "          + ' to learn more about interactive tables.';\n",
              "        element.innerHTML = '';\n",
              "        dataTable['output_type'] = 'display_data';\n",
              "        await google.colab.output.renderOutput(dataTable, element);\n",
              "        const docLink = document.createElement('div');\n",
              "        docLink.innerHTML = docLinkHtml;\n",
              "        element.appendChild(docLink);\n",
              "      }\n",
              "    </script>\n",
              "  </div>\n",
              "\n",
              "\n",
              "<div id=\"df-5d806f3f-7ed5-477c-89a4-ec7c8afe9cb3\">\n",
              "  <button class=\"colab-df-quickchart\" onclick=\"quickchart('df-5d806f3f-7ed5-477c-89a4-ec7c8afe9cb3')\"\n",
              "            title=\"Suggest charts\"\n",
              "            style=\"display:none;\">\n",
              "\n",
              "<svg xmlns=\"http://www.w3.org/2000/svg\" height=\"24px\"viewBox=\"0 0 24 24\"\n",
              "     width=\"24px\">\n",
              "    <g>\n",
              "        <path d=\"M19 3H5c-1.1 0-2 .9-2 2v14c0 1.1.9 2 2 2h14c1.1 0 2-.9 2-2V5c0-1.1-.9-2-2-2zM9 17H7v-7h2v7zm4 0h-2V7h2v10zm4 0h-2v-4h2v4z\"/>\n",
              "    </g>\n",
              "</svg>\n",
              "  </button>\n",
              "\n",
              "<style>\n",
              "  .colab-df-quickchart {\n",
              "      --bg-color: #E8F0FE;\n",
              "      --fill-color: #1967D2;\n",
              "      --hover-bg-color: #E2EBFA;\n",
              "      --hover-fill-color: #174EA6;\n",
              "      --disabled-fill-color: #AAA;\n",
              "      --disabled-bg-color: #DDD;\n",
              "  }\n",
              "\n",
              "  [theme=dark] .colab-df-quickchart {\n",
              "      --bg-color: #3B4455;\n",
              "      --fill-color: #D2E3FC;\n",
              "      --hover-bg-color: #434B5C;\n",
              "      --hover-fill-color: #FFFFFF;\n",
              "      --disabled-bg-color: #3B4455;\n",
              "      --disabled-fill-color: #666;\n",
              "  }\n",
              "\n",
              "  .colab-df-quickchart {\n",
              "    background-color: var(--bg-color);\n",
              "    border: none;\n",
              "    border-radius: 50%;\n",
              "    cursor: pointer;\n",
              "    display: none;\n",
              "    fill: var(--fill-color);\n",
              "    height: 32px;\n",
              "    padding: 0;\n",
              "    width: 32px;\n",
              "  }\n",
              "\n",
              "  .colab-df-quickchart:hover {\n",
              "    background-color: var(--hover-bg-color);\n",
              "    box-shadow: 0 1px 2px rgba(60, 64, 67, 0.3), 0 1px 3px 1px rgba(60, 64, 67, 0.15);\n",
              "    fill: var(--button-hover-fill-color);\n",
              "  }\n",
              "\n",
              "  .colab-df-quickchart-complete:disabled,\n",
              "  .colab-df-quickchart-complete:disabled:hover {\n",
              "    background-color: var(--disabled-bg-color);\n",
              "    fill: var(--disabled-fill-color);\n",
              "    box-shadow: none;\n",
              "  }\n",
              "\n",
              "  .colab-df-spinner {\n",
              "    border: 2px solid var(--fill-color);\n",
              "    border-color: transparent;\n",
              "    border-bottom-color: var(--fill-color);\n",
              "    animation:\n",
              "      spin 1s steps(1) infinite;\n",
              "  }\n",
              "\n",
              "  @keyframes spin {\n",
              "    0% {\n",
              "      border-color: transparent;\n",
              "      border-bottom-color: var(--fill-color);\n",
              "      border-left-color: var(--fill-color);\n",
              "    }\n",
              "    20% {\n",
              "      border-color: transparent;\n",
              "      border-left-color: var(--fill-color);\n",
              "      border-top-color: var(--fill-color);\n",
              "    }\n",
              "    30% {\n",
              "      border-color: transparent;\n",
              "      border-left-color: var(--fill-color);\n",
              "      border-top-color: var(--fill-color);\n",
              "      border-right-color: var(--fill-color);\n",
              "    }\n",
              "    40% {\n",
              "      border-color: transparent;\n",
              "      border-right-color: var(--fill-color);\n",
              "      border-top-color: var(--fill-color);\n",
              "    }\n",
              "    60% {\n",
              "      border-color: transparent;\n",
              "      border-right-color: var(--fill-color);\n",
              "    }\n",
              "    80% {\n",
              "      border-color: transparent;\n",
              "      border-right-color: var(--fill-color);\n",
              "      border-bottom-color: var(--fill-color);\n",
              "    }\n",
              "    90% {\n",
              "      border-color: transparent;\n",
              "      border-bottom-color: var(--fill-color);\n",
              "    }\n",
              "  }\n",
              "</style>\n",
              "\n",
              "  <script>\n",
              "    async function quickchart(key) {\n",
              "      const quickchartButtonEl =\n",
              "        document.querySelector('#' + key + ' button');\n",
              "      quickchartButtonEl.disabled = true;  // To prevent multiple clicks.\n",
              "      quickchartButtonEl.classList.add('colab-df-spinner');\n",
              "      try {\n",
              "        const charts = await google.colab.kernel.invokeFunction(\n",
              "            'suggestCharts', [key], {});\n",
              "      } catch (error) {\n",
              "        console.error('Error during call to suggestCharts:', error);\n",
              "      }\n",
              "      quickchartButtonEl.classList.remove('colab-df-spinner');\n",
              "      quickchartButtonEl.classList.add('colab-df-quickchart-complete');\n",
              "    }\n",
              "    (() => {\n",
              "      let quickchartButtonEl =\n",
              "        document.querySelector('#df-5d806f3f-7ed5-477c-89a4-ec7c8afe9cb3 button');\n",
              "      quickchartButtonEl.style.display =\n",
              "        google.colab.kernel.accessAllowed ? 'block' : 'none';\n",
              "    })();\n",
              "  </script>\n",
              "</div>\n",
              "    </div>\n",
              "  </div>\n"
            ],
            "application/vnd.google.colaboratory.intrinsic+json": {
              "type": "dataframe",
              "variable_name": "df_countries",
              "summary": "{\n  \"name\": \"df_countries\",\n  \"rows\": 249,\n  \"fields\": [\n    {\n      \"column\": \"name\",\n      \"properties\": {\n        \"dtype\": \"string\",\n        \"num_unique_values\": 249,\n        \"samples\": [\n          \"Malta\",\n          \"Angola\",\n          \"Heard Island and McDonald Islands\"\n        ],\n        \"semantic_type\": \"\",\n        \"description\": \"\"\n      }\n    },\n    {\n      \"column\": \"alpha-2\",\n      \"properties\": {\n        \"dtype\": \"string\",\n        \"num_unique_values\": 248,\n        \"samples\": [\n          \"BN\",\n          \"AO\",\n          \"RU\"\n        ],\n        \"semantic_type\": \"\",\n        \"description\": \"\"\n      }\n    },\n    {\n      \"column\": \"alpha-3\",\n      \"properties\": {\n        \"dtype\": \"string\",\n        \"num_unique_values\": 249,\n        \"samples\": [\n          \"MLT\",\n          \"AGO\",\n          \"HMD\"\n        ],\n        \"semantic_type\": \"\",\n        \"description\": \"\"\n      }\n    },\n    {\n      \"column\": \"region\",\n      \"properties\": {\n        \"dtype\": \"category\",\n        \"num_unique_values\": 5,\n        \"samples\": [\n          \"Europe\",\n          \"Americas\",\n          \"Africa\"\n        ],\n        \"semantic_type\": \"\",\n        \"description\": \"\"\n      }\n    },\n    {\n      \"column\": \"sub-region\",\n      \"properties\": {\n        \"dtype\": \"category\",\n        \"num_unique_values\": 17,\n        \"samples\": [\n          \"Southern Asia\",\n          \"Northern Europe\",\n          \"Sub-Saharan Africa\"\n        ],\n        \"semantic_type\": \"\",\n        \"description\": \"\"\n      }\n    }\n  ]\n}"
            }
          },
          "metadata": {},
          "execution_count": 27
        }
      ],
      "source": [
        "df_countries.head()"
      ]
    },
    {
      "cell_type": "code",
      "execution_count": 28,
      "metadata": {
        "colab": {
          "base_uri": "https://localhost:8080/"
        },
        "id": "28tyqH7zifKJ",
        "outputId": "30e13346-f90e-448b-a5ba-4fe73e656b75"
      },
      "outputs": [
        {
          "output_type": "stream",
          "name": "stdout",
          "text": [
            "<class 'pandas.core.frame.DataFrame'>\n",
            "RangeIndex: 249 entries, 0 to 248\n",
            "Data columns (total 5 columns):\n",
            " #   Column      Non-Null Count  Dtype \n",
            "---  ------      --------------  ----- \n",
            " 0   name        249 non-null    object\n",
            " 1   alpha-2     248 non-null    object\n",
            " 2   alpha-3     249 non-null    object\n",
            " 3   region      248 non-null    object\n",
            " 4   sub-region  248 non-null    object\n",
            "dtypes: object(5)\n",
            "memory usage: 9.9+ KB\n"
          ]
        }
      ],
      "source": [
        "df_countries.info()"
      ]
    },
    {
      "cell_type": "code",
      "execution_count": 29,
      "metadata": {
        "colab": {
          "base_uri": "https://localhost:8080/"
        },
        "id": "f9pLaLdIilbh",
        "outputId": "ec200b0b-10e4-4621-d1ba-7b627dabd1f3"
      },
      "outputs": [
        {
          "output_type": "stream",
          "name": "stdout",
          "text": [
            "name          0\n",
            "alpha-2       1\n",
            "alpha-3       0\n",
            "region        1\n",
            "sub-region    1\n",
            "dtype: int64\n"
          ]
        }
      ],
      "source": [
        "print(df_countries.isna().sum())"
      ]
    },
    {
      "cell_type": "markdown",
      "metadata": {
        "id": "dCkXpB1QYgwT"
      },
      "source": [
        "Оскільки у таблиці 'df_cleaned_events' є колонка із трьохзначним кодом країни, то ми можемо видалити колонку 'alpha-2' із df_countries, та видалити рядок у якому є пропуски у колонці region та sub-region."
      ]
    },
    {
      "cell_type": "code",
      "execution_count": 30,
      "metadata": {
        "id": "YX-1Ma-xY_j6"
      },
      "outputs": [],
      "source": [
        "df_countries=df_countries.dropna()"
      ]
    },
    {
      "cell_type": "code",
      "execution_count": 31,
      "metadata": {
        "colab": {
          "base_uri": "https://localhost:8080/",
          "height": 241
        },
        "id": "9Y-c4m_OZ3x-",
        "outputId": "075e77df-6e50-41dc-84e0-1dba321c21bb"
      },
      "outputs": [
        {
          "output_type": "execute_result",
          "data": {
            "text/plain": [
              "name          0\n",
              "alpha-2       0\n",
              "alpha-3       0\n",
              "region        0\n",
              "sub-region    0\n",
              "dtype: int64"
            ],
            "text/html": [
              "<div>\n",
              "<style scoped>\n",
              "    .dataframe tbody tr th:only-of-type {\n",
              "        vertical-align: middle;\n",
              "    }\n",
              "\n",
              "    .dataframe tbody tr th {\n",
              "        vertical-align: top;\n",
              "    }\n",
              "\n",
              "    .dataframe thead th {\n",
              "        text-align: right;\n",
              "    }\n",
              "</style>\n",
              "<table border=\"1\" class=\"dataframe\">\n",
              "  <thead>\n",
              "    <tr style=\"text-align: right;\">\n",
              "      <th></th>\n",
              "      <th>0</th>\n",
              "    </tr>\n",
              "  </thead>\n",
              "  <tbody>\n",
              "    <tr>\n",
              "      <th>name</th>\n",
              "      <td>0</td>\n",
              "    </tr>\n",
              "    <tr>\n",
              "      <th>alpha-2</th>\n",
              "      <td>0</td>\n",
              "    </tr>\n",
              "    <tr>\n",
              "      <th>alpha-3</th>\n",
              "      <td>0</td>\n",
              "    </tr>\n",
              "    <tr>\n",
              "      <th>region</th>\n",
              "      <td>0</td>\n",
              "    </tr>\n",
              "    <tr>\n",
              "      <th>sub-region</th>\n",
              "      <td>0</td>\n",
              "    </tr>\n",
              "  </tbody>\n",
              "</table>\n",
              "</div><br><label><b>dtype:</b> int64</label>"
            ]
          },
          "metadata": {},
          "execution_count": 31
        }
      ],
      "source": [
        "df_countries.isna().sum()"
      ]
    },
    {
      "cell_type": "code",
      "execution_count": 32,
      "metadata": {
        "id": "CrRw3yuxZ-X7"
      },
      "outputs": [],
      "source": [
        "df_countries=df_countries.drop(columns=['alpha-2'])"
      ]
    },
    {
      "cell_type": "code",
      "execution_count": 33,
      "metadata": {
        "id": "a9xeW914fAG3"
      },
      "outputs": [],
      "source": [
        "df_countries = df_countries.rename(columns={'alpha-3':'Country Code'})# перейменуємо колонку для об'єднання"
      ]
    },
    {
      "cell_type": "code",
      "execution_count": 34,
      "metadata": {
        "id": "fGC7NK43d015"
      },
      "outputs": [],
      "source": [
        "new_row = {'name':'Other', 'Country Code': 'Other', 'region': 'Other', 'sub-region': 'Other'}\n",
        "df_countries.loc[len(df_countries)] = new_row# додамо рядок для ідентифікації тих країн які нам невідомі, але у них були продажі"
      ]
    },
    {
      "cell_type": "code",
      "execution_count": 35,
      "metadata": {
        "colab": {
          "base_uri": "https://localhost:8080/",
          "height": 206
        },
        "id": "InU7IHUtae3D",
        "outputId": "cce9f2f0-f9d3-4e84-e341-624020b39a08"
      },
      "outputs": [
        {
          "output_type": "execute_result",
          "data": {
            "text/plain": [
              "             name Country Code   region       sub-region\n",
              "0     Afghanistan          AFG     Asia    Southern Asia\n",
              "1   Åland Islands          ALA   Europe  Northern Europe\n",
              "2         Albania          ALB   Europe  Southern Europe\n",
              "3         Algeria          DZA   Africa  Northern Africa\n",
              "4  American Samoa          ASM  Oceania        Polynesia"
            ],
            "text/html": [
              "\n",
              "  <div id=\"df-d033a2ba-b549-41c6-a163-e0689ed7e808\" class=\"colab-df-container\">\n",
              "    <div>\n",
              "<style scoped>\n",
              "    .dataframe tbody tr th:only-of-type {\n",
              "        vertical-align: middle;\n",
              "    }\n",
              "\n",
              "    .dataframe tbody tr th {\n",
              "        vertical-align: top;\n",
              "    }\n",
              "\n",
              "    .dataframe thead th {\n",
              "        text-align: right;\n",
              "    }\n",
              "</style>\n",
              "<table border=\"1\" class=\"dataframe\">\n",
              "  <thead>\n",
              "    <tr style=\"text-align: right;\">\n",
              "      <th></th>\n",
              "      <th>name</th>\n",
              "      <th>Country Code</th>\n",
              "      <th>region</th>\n",
              "      <th>sub-region</th>\n",
              "    </tr>\n",
              "  </thead>\n",
              "  <tbody>\n",
              "    <tr>\n",
              "      <th>0</th>\n",
              "      <td>Afghanistan</td>\n",
              "      <td>AFG</td>\n",
              "      <td>Asia</td>\n",
              "      <td>Southern Asia</td>\n",
              "    </tr>\n",
              "    <tr>\n",
              "      <th>1</th>\n",
              "      <td>Åland Islands</td>\n",
              "      <td>ALA</td>\n",
              "      <td>Europe</td>\n",
              "      <td>Northern Europe</td>\n",
              "    </tr>\n",
              "    <tr>\n",
              "      <th>2</th>\n",
              "      <td>Albania</td>\n",
              "      <td>ALB</td>\n",
              "      <td>Europe</td>\n",
              "      <td>Southern Europe</td>\n",
              "    </tr>\n",
              "    <tr>\n",
              "      <th>3</th>\n",
              "      <td>Algeria</td>\n",
              "      <td>DZA</td>\n",
              "      <td>Africa</td>\n",
              "      <td>Northern Africa</td>\n",
              "    </tr>\n",
              "    <tr>\n",
              "      <th>4</th>\n",
              "      <td>American Samoa</td>\n",
              "      <td>ASM</td>\n",
              "      <td>Oceania</td>\n",
              "      <td>Polynesia</td>\n",
              "    </tr>\n",
              "  </tbody>\n",
              "</table>\n",
              "</div>\n",
              "    <div class=\"colab-df-buttons\">\n",
              "\n",
              "  <div class=\"colab-df-container\">\n",
              "    <button class=\"colab-df-convert\" onclick=\"convertToInteractive('df-d033a2ba-b549-41c6-a163-e0689ed7e808')\"\n",
              "            title=\"Convert this dataframe to an interactive table.\"\n",
              "            style=\"display:none;\">\n",
              "\n",
              "  <svg xmlns=\"http://www.w3.org/2000/svg\" height=\"24px\" viewBox=\"0 -960 960 960\">\n",
              "    <path d=\"M120-120v-720h720v720H120Zm60-500h600v-160H180v160Zm220 220h160v-160H400v160Zm0 220h160v-160H400v160ZM180-400h160v-160H180v160Zm440 0h160v-160H620v160ZM180-180h160v-160H180v160Zm440 0h160v-160H620v160Z\"/>\n",
              "  </svg>\n",
              "    </button>\n",
              "\n",
              "  <style>\n",
              "    .colab-df-container {\n",
              "      display:flex;\n",
              "      gap: 12px;\n",
              "    }\n",
              "\n",
              "    .colab-df-convert {\n",
              "      background-color: #E8F0FE;\n",
              "      border: none;\n",
              "      border-radius: 50%;\n",
              "      cursor: pointer;\n",
              "      display: none;\n",
              "      fill: #1967D2;\n",
              "      height: 32px;\n",
              "      padding: 0 0 0 0;\n",
              "      width: 32px;\n",
              "    }\n",
              "\n",
              "    .colab-df-convert:hover {\n",
              "      background-color: #E2EBFA;\n",
              "      box-shadow: 0px 1px 2px rgba(60, 64, 67, 0.3), 0px 1px 3px 1px rgba(60, 64, 67, 0.15);\n",
              "      fill: #174EA6;\n",
              "    }\n",
              "\n",
              "    .colab-df-buttons div {\n",
              "      margin-bottom: 4px;\n",
              "    }\n",
              "\n",
              "    [theme=dark] .colab-df-convert {\n",
              "      background-color: #3B4455;\n",
              "      fill: #D2E3FC;\n",
              "    }\n",
              "\n",
              "    [theme=dark] .colab-df-convert:hover {\n",
              "      background-color: #434B5C;\n",
              "      box-shadow: 0px 1px 3px 1px rgba(0, 0, 0, 0.15);\n",
              "      filter: drop-shadow(0px 1px 2px rgba(0, 0, 0, 0.3));\n",
              "      fill: #FFFFFF;\n",
              "    }\n",
              "  </style>\n",
              "\n",
              "    <script>\n",
              "      const buttonEl =\n",
              "        document.querySelector('#df-d033a2ba-b549-41c6-a163-e0689ed7e808 button.colab-df-convert');\n",
              "      buttonEl.style.display =\n",
              "        google.colab.kernel.accessAllowed ? 'block' : 'none';\n",
              "\n",
              "      async function convertToInteractive(key) {\n",
              "        const element = document.querySelector('#df-d033a2ba-b549-41c6-a163-e0689ed7e808');\n",
              "        const dataTable =\n",
              "          await google.colab.kernel.invokeFunction('convertToInteractive',\n",
              "                                                    [key], {});\n",
              "        if (!dataTable) return;\n",
              "\n",
              "        const docLinkHtml = 'Like what you see? Visit the ' +\n",
              "          '<a target=\"_blank\" href=https://colab.research.google.com/notebooks/data_table.ipynb>data table notebook</a>'\n",
              "          + ' to learn more about interactive tables.';\n",
              "        element.innerHTML = '';\n",
              "        dataTable['output_type'] = 'display_data';\n",
              "        await google.colab.output.renderOutput(dataTable, element);\n",
              "        const docLink = document.createElement('div');\n",
              "        docLink.innerHTML = docLinkHtml;\n",
              "        element.appendChild(docLink);\n",
              "      }\n",
              "    </script>\n",
              "  </div>\n",
              "\n",
              "\n",
              "<div id=\"df-ee1c20d8-12ec-4653-9409-f3b83d10b58f\">\n",
              "  <button class=\"colab-df-quickchart\" onclick=\"quickchart('df-ee1c20d8-12ec-4653-9409-f3b83d10b58f')\"\n",
              "            title=\"Suggest charts\"\n",
              "            style=\"display:none;\">\n",
              "\n",
              "<svg xmlns=\"http://www.w3.org/2000/svg\" height=\"24px\"viewBox=\"0 0 24 24\"\n",
              "     width=\"24px\">\n",
              "    <g>\n",
              "        <path d=\"M19 3H5c-1.1 0-2 .9-2 2v14c0 1.1.9 2 2 2h14c1.1 0 2-.9 2-2V5c0-1.1-.9-2-2-2zM9 17H7v-7h2v7zm4 0h-2V7h2v10zm4 0h-2v-4h2v4z\"/>\n",
              "    </g>\n",
              "</svg>\n",
              "  </button>\n",
              "\n",
              "<style>\n",
              "  .colab-df-quickchart {\n",
              "      --bg-color: #E8F0FE;\n",
              "      --fill-color: #1967D2;\n",
              "      --hover-bg-color: #E2EBFA;\n",
              "      --hover-fill-color: #174EA6;\n",
              "      --disabled-fill-color: #AAA;\n",
              "      --disabled-bg-color: #DDD;\n",
              "  }\n",
              "\n",
              "  [theme=dark] .colab-df-quickchart {\n",
              "      --bg-color: #3B4455;\n",
              "      --fill-color: #D2E3FC;\n",
              "      --hover-bg-color: #434B5C;\n",
              "      --hover-fill-color: #FFFFFF;\n",
              "      --disabled-bg-color: #3B4455;\n",
              "      --disabled-fill-color: #666;\n",
              "  }\n",
              "\n",
              "  .colab-df-quickchart {\n",
              "    background-color: var(--bg-color);\n",
              "    border: none;\n",
              "    border-radius: 50%;\n",
              "    cursor: pointer;\n",
              "    display: none;\n",
              "    fill: var(--fill-color);\n",
              "    height: 32px;\n",
              "    padding: 0;\n",
              "    width: 32px;\n",
              "  }\n",
              "\n",
              "  .colab-df-quickchart:hover {\n",
              "    background-color: var(--hover-bg-color);\n",
              "    box-shadow: 0 1px 2px rgba(60, 64, 67, 0.3), 0 1px 3px 1px rgba(60, 64, 67, 0.15);\n",
              "    fill: var(--button-hover-fill-color);\n",
              "  }\n",
              "\n",
              "  .colab-df-quickchart-complete:disabled,\n",
              "  .colab-df-quickchart-complete:disabled:hover {\n",
              "    background-color: var(--disabled-bg-color);\n",
              "    fill: var(--disabled-fill-color);\n",
              "    box-shadow: none;\n",
              "  }\n",
              "\n",
              "  .colab-df-spinner {\n",
              "    border: 2px solid var(--fill-color);\n",
              "    border-color: transparent;\n",
              "    border-bottom-color: var(--fill-color);\n",
              "    animation:\n",
              "      spin 1s steps(1) infinite;\n",
              "  }\n",
              "\n",
              "  @keyframes spin {\n",
              "    0% {\n",
              "      border-color: transparent;\n",
              "      border-bottom-color: var(--fill-color);\n",
              "      border-left-color: var(--fill-color);\n",
              "    }\n",
              "    20% {\n",
              "      border-color: transparent;\n",
              "      border-left-color: var(--fill-color);\n",
              "      border-top-color: var(--fill-color);\n",
              "    }\n",
              "    30% {\n",
              "      border-color: transparent;\n",
              "      border-left-color: var(--fill-color);\n",
              "      border-top-color: var(--fill-color);\n",
              "      border-right-color: var(--fill-color);\n",
              "    }\n",
              "    40% {\n",
              "      border-color: transparent;\n",
              "      border-right-color: var(--fill-color);\n",
              "      border-top-color: var(--fill-color);\n",
              "    }\n",
              "    60% {\n",
              "      border-color: transparent;\n",
              "      border-right-color: var(--fill-color);\n",
              "    }\n",
              "    80% {\n",
              "      border-color: transparent;\n",
              "      border-right-color: var(--fill-color);\n",
              "      border-bottom-color: var(--fill-color);\n",
              "    }\n",
              "    90% {\n",
              "      border-color: transparent;\n",
              "      border-bottom-color: var(--fill-color);\n",
              "    }\n",
              "  }\n",
              "</style>\n",
              "\n",
              "  <script>\n",
              "    async function quickchart(key) {\n",
              "      const quickchartButtonEl =\n",
              "        document.querySelector('#' + key + ' button');\n",
              "      quickchartButtonEl.disabled = true;  // To prevent multiple clicks.\n",
              "      quickchartButtonEl.classList.add('colab-df-spinner');\n",
              "      try {\n",
              "        const charts = await google.colab.kernel.invokeFunction(\n",
              "            'suggestCharts', [key], {});\n",
              "      } catch (error) {\n",
              "        console.error('Error during call to suggestCharts:', error);\n",
              "      }\n",
              "      quickchartButtonEl.classList.remove('colab-df-spinner');\n",
              "      quickchartButtonEl.classList.add('colab-df-quickchart-complete');\n",
              "    }\n",
              "    (() => {\n",
              "      let quickchartButtonEl =\n",
              "        document.querySelector('#df-ee1c20d8-12ec-4653-9409-f3b83d10b58f button');\n",
              "      quickchartButtonEl.style.display =\n",
              "        google.colab.kernel.accessAllowed ? 'block' : 'none';\n",
              "    })();\n",
              "  </script>\n",
              "</div>\n",
              "    </div>\n",
              "  </div>\n"
            ],
            "application/vnd.google.colaboratory.intrinsic+json": {
              "type": "dataframe",
              "variable_name": "df_countries",
              "summary": "{\n  \"name\": \"df_countries\",\n  \"rows\": 247,\n  \"fields\": [\n    {\n      \"column\": \"name\",\n      \"properties\": {\n        \"dtype\": \"string\",\n        \"num_unique_values\": 247,\n        \"samples\": [\n          \"Bulgaria\",\n          \"Angola\",\n          \"Russia\"\n        ],\n        \"semantic_type\": \"\",\n        \"description\": \"\"\n      }\n    },\n    {\n      \"column\": \"Country Code\",\n      \"properties\": {\n        \"dtype\": \"string\",\n        \"num_unique_values\": 247,\n        \"samples\": [\n          \"BGR\",\n          \"AGO\",\n          \"RUS\"\n        ],\n        \"semantic_type\": \"\",\n        \"description\": \"\"\n      }\n    },\n    {\n      \"column\": \"region\",\n      \"properties\": {\n        \"dtype\": \"category\",\n        \"num_unique_values\": 6,\n        \"samples\": [\n          \"Asia\",\n          \"Europe\",\n          \"Other\"\n        ],\n        \"semantic_type\": \"\",\n        \"description\": \"\"\n      }\n    },\n    {\n      \"column\": \"sub-region\",\n      \"properties\": {\n        \"dtype\": \"category\",\n        \"num_unique_values\": 18,\n        \"samples\": [\n          \"Southern Asia\",\n          \"Northern Europe\",\n          \"Australia and New Zealand\"\n        ],\n        \"semantic_type\": \"\",\n        \"description\": \"\"\n      }\n    }\n  ]\n}"
            }
          },
          "metadata": {},
          "execution_count": 35
        }
      ],
      "source": [
        "df_countries.head()"
      ]
    },
    {
      "cell_type": "code",
      "execution_count": 36,
      "metadata": {
        "colab": {
          "base_uri": "https://localhost:8080/"
        },
        "id": "vqrbhj2Jahyz",
        "outputId": "b2e9cd54-4257-4c49-e111-4beeb00c0d63"
      },
      "outputs": [
        {
          "output_type": "execute_result",
          "data": {
            "text/plain": [
              "np.int64(0)"
            ]
          },
          "metadata": {},
          "execution_count": 36
        }
      ],
      "source": [
        "df_countries.duplicated().sum()"
      ]
    },
    {
      "cell_type": "markdown",
      "metadata": {
        "id": "u-EFScM_d19m"
      },
      "source": [
        "#Data analysis and visualization"
      ]
    },
    {
      "cell_type": "markdown",
      "metadata": {
        "id": "SXin6nNXjYEe"
      },
      "source": [
        "## З’єднання трьох таблиць в один датафрейм:"
      ]
    },
    {
      "cell_type": "code",
      "execution_count": 37,
      "metadata": {
        "id": "e_5QsDLDavI1"
      },
      "outputs": [],
      "source": [
        "df_basic = df_events.merge(df_products, on='Product ID').merge(df_countries, on='Country Code')"
      ]
    },
    {
      "cell_type": "code",
      "execution_count": 38,
      "metadata": {
        "colab": {
          "base_uri": "https://localhost:8080/",
          "height": 206
        },
        "id": "mrJVNT7Neybb",
        "outputId": "f2de25c2-66ba-4933-ed36-84a3e156d071"
      },
      "outputs": [
        {
          "output_type": "execute_result",
          "data": {
            "text/plain": [
              "    Order ID Order Date  Ship Date Order Priority Country Code  Product ID  \\\n",
              "0  100640618 2014-10-08 2014-10-18              M          NOR        2103   \n",
              "1  100983083 2016-08-11 2016-08-11              C          SRB        2103   \n",
              "2  101025998 2014-07-18 2014-08-11              M        Other        7940   \n",
              "3  102230632 2017-05-13 2017-06-13              L          MNE        2455   \n",
              "4  103435266 2012-08-11 2012-09-18              H          SRB        1270   \n",
              "\n",
              "  Sales Channel  Units Sold  Unit Price  Unit Cost  item_type        name  \\\n",
              "0        Online       650.0      205.70     117.11     Cereal      Norway   \n",
              "1       Offline      1993.0      205.70     117.11     Cereal      Serbia   \n",
              "2        Online      4693.0      668.27     502.54  Household       Other   \n",
              "3        Online      1171.0      109.28      35.84    Clothes  Montenegro   \n",
              "4       Offline      7648.0       47.45      31.79  Beverages      Serbia   \n",
              "\n",
              "   region       sub-region  \n",
              "0  Europe  Northern Europe  \n",
              "1  Europe  Southern Europe  \n",
              "2   Other            Other  \n",
              "3  Europe  Southern Europe  \n",
              "4  Europe  Southern Europe  "
            ],
            "text/html": [
              "\n",
              "  <div id=\"df-c1ef80c6-2bff-4223-9bc6-c7d55eee0c50\" class=\"colab-df-container\">\n",
              "    <div>\n",
              "<style scoped>\n",
              "    .dataframe tbody tr th:only-of-type {\n",
              "        vertical-align: middle;\n",
              "    }\n",
              "\n",
              "    .dataframe tbody tr th {\n",
              "        vertical-align: top;\n",
              "    }\n",
              "\n",
              "    .dataframe thead th {\n",
              "        text-align: right;\n",
              "    }\n",
              "</style>\n",
              "<table border=\"1\" class=\"dataframe\">\n",
              "  <thead>\n",
              "    <tr style=\"text-align: right;\">\n",
              "      <th></th>\n",
              "      <th>Order ID</th>\n",
              "      <th>Order Date</th>\n",
              "      <th>Ship Date</th>\n",
              "      <th>Order Priority</th>\n",
              "      <th>Country Code</th>\n",
              "      <th>Product ID</th>\n",
              "      <th>Sales Channel</th>\n",
              "      <th>Units Sold</th>\n",
              "      <th>Unit Price</th>\n",
              "      <th>Unit Cost</th>\n",
              "      <th>item_type</th>\n",
              "      <th>name</th>\n",
              "      <th>region</th>\n",
              "      <th>sub-region</th>\n",
              "    </tr>\n",
              "  </thead>\n",
              "  <tbody>\n",
              "    <tr>\n",
              "      <th>0</th>\n",
              "      <td>100640618</td>\n",
              "      <td>2014-10-08</td>\n",
              "      <td>2014-10-18</td>\n",
              "      <td>M</td>\n",
              "      <td>NOR</td>\n",
              "      <td>2103</td>\n",
              "      <td>Online</td>\n",
              "      <td>650.0</td>\n",
              "      <td>205.70</td>\n",
              "      <td>117.11</td>\n",
              "      <td>Cereal</td>\n",
              "      <td>Norway</td>\n",
              "      <td>Europe</td>\n",
              "      <td>Northern Europe</td>\n",
              "    </tr>\n",
              "    <tr>\n",
              "      <th>1</th>\n",
              "      <td>100983083</td>\n",
              "      <td>2016-08-11</td>\n",
              "      <td>2016-08-11</td>\n",
              "      <td>C</td>\n",
              "      <td>SRB</td>\n",
              "      <td>2103</td>\n",
              "      <td>Offline</td>\n",
              "      <td>1993.0</td>\n",
              "      <td>205.70</td>\n",
              "      <td>117.11</td>\n",
              "      <td>Cereal</td>\n",
              "      <td>Serbia</td>\n",
              "      <td>Europe</td>\n",
              "      <td>Southern Europe</td>\n",
              "    </tr>\n",
              "    <tr>\n",
              "      <th>2</th>\n",
              "      <td>101025998</td>\n",
              "      <td>2014-07-18</td>\n",
              "      <td>2014-08-11</td>\n",
              "      <td>M</td>\n",
              "      <td>Other</td>\n",
              "      <td>7940</td>\n",
              "      <td>Online</td>\n",
              "      <td>4693.0</td>\n",
              "      <td>668.27</td>\n",
              "      <td>502.54</td>\n",
              "      <td>Household</td>\n",
              "      <td>Other</td>\n",
              "      <td>Other</td>\n",
              "      <td>Other</td>\n",
              "    </tr>\n",
              "    <tr>\n",
              "      <th>3</th>\n",
              "      <td>102230632</td>\n",
              "      <td>2017-05-13</td>\n",
              "      <td>2017-06-13</td>\n",
              "      <td>L</td>\n",
              "      <td>MNE</td>\n",
              "      <td>2455</td>\n",
              "      <td>Online</td>\n",
              "      <td>1171.0</td>\n",
              "      <td>109.28</td>\n",
              "      <td>35.84</td>\n",
              "      <td>Clothes</td>\n",
              "      <td>Montenegro</td>\n",
              "      <td>Europe</td>\n",
              "      <td>Southern Europe</td>\n",
              "    </tr>\n",
              "    <tr>\n",
              "      <th>4</th>\n",
              "      <td>103435266</td>\n",
              "      <td>2012-08-11</td>\n",
              "      <td>2012-09-18</td>\n",
              "      <td>H</td>\n",
              "      <td>SRB</td>\n",
              "      <td>1270</td>\n",
              "      <td>Offline</td>\n",
              "      <td>7648.0</td>\n",
              "      <td>47.45</td>\n",
              "      <td>31.79</td>\n",
              "      <td>Beverages</td>\n",
              "      <td>Serbia</td>\n",
              "      <td>Europe</td>\n",
              "      <td>Southern Europe</td>\n",
              "    </tr>\n",
              "  </tbody>\n",
              "</table>\n",
              "</div>\n",
              "    <div class=\"colab-df-buttons\">\n",
              "\n",
              "  <div class=\"colab-df-container\">\n",
              "    <button class=\"colab-df-convert\" onclick=\"convertToInteractive('df-c1ef80c6-2bff-4223-9bc6-c7d55eee0c50')\"\n",
              "            title=\"Convert this dataframe to an interactive table.\"\n",
              "            style=\"display:none;\">\n",
              "\n",
              "  <svg xmlns=\"http://www.w3.org/2000/svg\" height=\"24px\" viewBox=\"0 -960 960 960\">\n",
              "    <path d=\"M120-120v-720h720v720H120Zm60-500h600v-160H180v160Zm220 220h160v-160H400v160Zm0 220h160v-160H400v160ZM180-400h160v-160H180v160Zm440 0h160v-160H620v160ZM180-180h160v-160H180v160Zm440 0h160v-160H620v160Z\"/>\n",
              "  </svg>\n",
              "    </button>\n",
              "\n",
              "  <style>\n",
              "    .colab-df-container {\n",
              "      display:flex;\n",
              "      gap: 12px;\n",
              "    }\n",
              "\n",
              "    .colab-df-convert {\n",
              "      background-color: #E8F0FE;\n",
              "      border: none;\n",
              "      border-radius: 50%;\n",
              "      cursor: pointer;\n",
              "      display: none;\n",
              "      fill: #1967D2;\n",
              "      height: 32px;\n",
              "      padding: 0 0 0 0;\n",
              "      width: 32px;\n",
              "    }\n",
              "\n",
              "    .colab-df-convert:hover {\n",
              "      background-color: #E2EBFA;\n",
              "      box-shadow: 0px 1px 2px rgba(60, 64, 67, 0.3), 0px 1px 3px 1px rgba(60, 64, 67, 0.15);\n",
              "      fill: #174EA6;\n",
              "    }\n",
              "\n",
              "    .colab-df-buttons div {\n",
              "      margin-bottom: 4px;\n",
              "    }\n",
              "\n",
              "    [theme=dark] .colab-df-convert {\n",
              "      background-color: #3B4455;\n",
              "      fill: #D2E3FC;\n",
              "    }\n",
              "\n",
              "    [theme=dark] .colab-df-convert:hover {\n",
              "      background-color: #434B5C;\n",
              "      box-shadow: 0px 1px 3px 1px rgba(0, 0, 0, 0.15);\n",
              "      filter: drop-shadow(0px 1px 2px rgba(0, 0, 0, 0.3));\n",
              "      fill: #FFFFFF;\n",
              "    }\n",
              "  </style>\n",
              "\n",
              "    <script>\n",
              "      const buttonEl =\n",
              "        document.querySelector('#df-c1ef80c6-2bff-4223-9bc6-c7d55eee0c50 button.colab-df-convert');\n",
              "      buttonEl.style.display =\n",
              "        google.colab.kernel.accessAllowed ? 'block' : 'none';\n",
              "\n",
              "      async function convertToInteractive(key) {\n",
              "        const element = document.querySelector('#df-c1ef80c6-2bff-4223-9bc6-c7d55eee0c50');\n",
              "        const dataTable =\n",
              "          await google.colab.kernel.invokeFunction('convertToInteractive',\n",
              "                                                    [key], {});\n",
              "        if (!dataTable) return;\n",
              "\n",
              "        const docLinkHtml = 'Like what you see? Visit the ' +\n",
              "          '<a target=\"_blank\" href=https://colab.research.google.com/notebooks/data_table.ipynb>data table notebook</a>'\n",
              "          + ' to learn more about interactive tables.';\n",
              "        element.innerHTML = '';\n",
              "        dataTable['output_type'] = 'display_data';\n",
              "        await google.colab.output.renderOutput(dataTable, element);\n",
              "        const docLink = document.createElement('div');\n",
              "        docLink.innerHTML = docLinkHtml;\n",
              "        element.appendChild(docLink);\n",
              "      }\n",
              "    </script>\n",
              "  </div>\n",
              "\n",
              "\n",
              "<div id=\"df-db4c8b41-7e6f-4df4-81e0-5d15e3c45d02\">\n",
              "  <button class=\"colab-df-quickchart\" onclick=\"quickchart('df-db4c8b41-7e6f-4df4-81e0-5d15e3c45d02')\"\n",
              "            title=\"Suggest charts\"\n",
              "            style=\"display:none;\">\n",
              "\n",
              "<svg xmlns=\"http://www.w3.org/2000/svg\" height=\"24px\"viewBox=\"0 0 24 24\"\n",
              "     width=\"24px\">\n",
              "    <g>\n",
              "        <path d=\"M19 3H5c-1.1 0-2 .9-2 2v14c0 1.1.9 2 2 2h14c1.1 0 2-.9 2-2V5c0-1.1-.9-2-2-2zM9 17H7v-7h2v7zm4 0h-2V7h2v10zm4 0h-2v-4h2v4z\"/>\n",
              "    </g>\n",
              "</svg>\n",
              "  </button>\n",
              "\n",
              "<style>\n",
              "  .colab-df-quickchart {\n",
              "      --bg-color: #E8F0FE;\n",
              "      --fill-color: #1967D2;\n",
              "      --hover-bg-color: #E2EBFA;\n",
              "      --hover-fill-color: #174EA6;\n",
              "      --disabled-fill-color: #AAA;\n",
              "      --disabled-bg-color: #DDD;\n",
              "  }\n",
              "\n",
              "  [theme=dark] .colab-df-quickchart {\n",
              "      --bg-color: #3B4455;\n",
              "      --fill-color: #D2E3FC;\n",
              "      --hover-bg-color: #434B5C;\n",
              "      --hover-fill-color: #FFFFFF;\n",
              "      --disabled-bg-color: #3B4455;\n",
              "      --disabled-fill-color: #666;\n",
              "  }\n",
              "\n",
              "  .colab-df-quickchart {\n",
              "    background-color: var(--bg-color);\n",
              "    border: none;\n",
              "    border-radius: 50%;\n",
              "    cursor: pointer;\n",
              "    display: none;\n",
              "    fill: var(--fill-color);\n",
              "    height: 32px;\n",
              "    padding: 0;\n",
              "    width: 32px;\n",
              "  }\n",
              "\n",
              "  .colab-df-quickchart:hover {\n",
              "    background-color: var(--hover-bg-color);\n",
              "    box-shadow: 0 1px 2px rgba(60, 64, 67, 0.3), 0 1px 3px 1px rgba(60, 64, 67, 0.15);\n",
              "    fill: var(--button-hover-fill-color);\n",
              "  }\n",
              "\n",
              "  .colab-df-quickchart-complete:disabled,\n",
              "  .colab-df-quickchart-complete:disabled:hover {\n",
              "    background-color: var(--disabled-bg-color);\n",
              "    fill: var(--disabled-fill-color);\n",
              "    box-shadow: none;\n",
              "  }\n",
              "\n",
              "  .colab-df-spinner {\n",
              "    border: 2px solid var(--fill-color);\n",
              "    border-color: transparent;\n",
              "    border-bottom-color: var(--fill-color);\n",
              "    animation:\n",
              "      spin 1s steps(1) infinite;\n",
              "  }\n",
              "\n",
              "  @keyframes spin {\n",
              "    0% {\n",
              "      border-color: transparent;\n",
              "      border-bottom-color: var(--fill-color);\n",
              "      border-left-color: var(--fill-color);\n",
              "    }\n",
              "    20% {\n",
              "      border-color: transparent;\n",
              "      border-left-color: var(--fill-color);\n",
              "      border-top-color: var(--fill-color);\n",
              "    }\n",
              "    30% {\n",
              "      border-color: transparent;\n",
              "      border-left-color: var(--fill-color);\n",
              "      border-top-color: var(--fill-color);\n",
              "      border-right-color: var(--fill-color);\n",
              "    }\n",
              "    40% {\n",
              "      border-color: transparent;\n",
              "      border-right-color: var(--fill-color);\n",
              "      border-top-color: var(--fill-color);\n",
              "    }\n",
              "    60% {\n",
              "      border-color: transparent;\n",
              "      border-right-color: var(--fill-color);\n",
              "    }\n",
              "    80% {\n",
              "      border-color: transparent;\n",
              "      border-right-color: var(--fill-color);\n",
              "      border-bottom-color: var(--fill-color);\n",
              "    }\n",
              "    90% {\n",
              "      border-color: transparent;\n",
              "      border-bottom-color: var(--fill-color);\n",
              "    }\n",
              "  }\n",
              "</style>\n",
              "\n",
              "  <script>\n",
              "    async function quickchart(key) {\n",
              "      const quickchartButtonEl =\n",
              "        document.querySelector('#' + key + ' button');\n",
              "      quickchartButtonEl.disabled = true;  // To prevent multiple clicks.\n",
              "      quickchartButtonEl.classList.add('colab-df-spinner');\n",
              "      try {\n",
              "        const charts = await google.colab.kernel.invokeFunction(\n",
              "            'suggestCharts', [key], {});\n",
              "      } catch (error) {\n",
              "        console.error('Error during call to suggestCharts:', error);\n",
              "      }\n",
              "      quickchartButtonEl.classList.remove('colab-df-spinner');\n",
              "      quickchartButtonEl.classList.add('colab-df-quickchart-complete');\n",
              "    }\n",
              "    (() => {\n",
              "      let quickchartButtonEl =\n",
              "        document.querySelector('#df-db4c8b41-7e6f-4df4-81e0-5d15e3c45d02 button');\n",
              "      quickchartButtonEl.style.display =\n",
              "        google.colab.kernel.accessAllowed ? 'block' : 'none';\n",
              "    })();\n",
              "  </script>\n",
              "</div>\n",
              "    </div>\n",
              "  </div>\n"
            ],
            "application/vnd.google.colaboratory.intrinsic+json": {
              "type": "dataframe",
              "variable_name": "df_basic",
              "summary": "{\n  \"name\": \"df_basic\",\n  \"rows\": 1328,\n  \"fields\": [\n    {\n      \"column\": \"Order ID\",\n      \"properties\": {\n        \"dtype\": \"number\",\n        \"std\": 257349633,\n        \"min\": 100640618,\n        \"max\": 999879729,\n        \"num_unique_values\": 1328,\n        \"samples\": [\n          913729751,\n          174614226,\n          743769109\n        ],\n        \"semantic_type\": \"\",\n        \"description\": \"\"\n      }\n    },\n    {\n      \"column\": \"Order Date\",\n      \"properties\": {\n        \"dtype\": \"date\",\n        \"min\": \"2010-01-01 00:00:00\",\n        \"max\": \"2017-07-23 00:00:00\",\n        \"num_unique_values\": 1049,\n        \"samples\": [\n          \"2016-06-27 00:00:00\",\n          \"2013-06-25 00:00:00\",\n          \"2016-03-28 00:00:00\"\n        ],\n        \"semantic_type\": \"\",\n        \"description\": \"\"\n      }\n    },\n    {\n      \"column\": \"Ship Date\",\n      \"properties\": {\n        \"dtype\": \"date\",\n        \"min\": \"2010-01-10 00:00:00\",\n        \"max\": \"2017-08-31 00:00:00\",\n        \"num_unique_values\": 1069,\n        \"samples\": [\n          \"2015-06-23 00:00:00\",\n          \"2014-05-01 00:00:00\",\n          \"2017-03-14 00:00:00\"\n        ],\n        \"semantic_type\": \"\",\n        \"description\": \"\"\n      }\n    },\n    {\n      \"column\": \"Order Priority\",\n      \"properties\": {\n        \"dtype\": \"category\",\n        \"num_unique_values\": 6,\n        \"samples\": [\n          \"M\",\n          \"C\",\n          \"M \"\n        ],\n        \"semantic_type\": \"\",\n        \"description\": \"\"\n      }\n    },\n    {\n      \"column\": \"Country Code\",\n      \"properties\": {\n        \"dtype\": \"category\",\n        \"num_unique_values\": 46,\n        \"samples\": [\n          \"ALB\",\n          \"EST\",\n          \"AUT\"\n        ],\n        \"semantic_type\": \"\",\n        \"description\": \"\"\n      }\n    },\n    {\n      \"column\": \"Product ID\",\n      \"properties\": {\n        \"dtype\": \"number\",\n        \"std\": 2820,\n        \"min\": 1270,\n        \"max\": 8969,\n        \"num_unique_values\": 12,\n        \"samples\": [\n          8969,\n          8293,\n          2103\n        ],\n        \"semantic_type\": \"\",\n        \"description\": \"\"\n      }\n    },\n    {\n      \"column\": \"Sales Channel\",\n      \"properties\": {\n        \"dtype\": \"category\",\n        \"num_unique_values\": 3,\n        \"samples\": [\n          \"Online\",\n          \"Offline\",\n          \"online\"\n        ],\n        \"semantic_type\": \"\",\n        \"description\": \"\"\n      }\n    },\n    {\n      \"column\": \"Units Sold\",\n      \"properties\": {\n        \"dtype\": \"number\",\n        \"std\": 2905.198996399036,\n        \"min\": 2.0,\n        \"max\": 9999.0,\n        \"num_unique_values\": 1239,\n        \"samples\": [\n          4681.0,\n          7069.0,\n          7923.0\n        ],\n        \"semantic_type\": \"\",\n        \"description\": \"\"\n      }\n    },\n    {\n      \"column\": \"Unit Price\",\n      \"properties\": {\n        \"dtype\": \"number\",\n        \"std\": 217.3863199939379,\n        \"min\": 9.33,\n        \"max\": 668.27,\n        \"num_unique_values\": 12,\n        \"samples\": [\n          152.58,\n          437.2,\n          205.7\n        ],\n        \"semantic_type\": \"\",\n        \"description\": \"\"\n      }\n    },\n    {\n      \"column\": \"Unit Cost\",\n      \"properties\": {\n        \"dtype\": \"number\",\n        \"std\": 176.1878011043068,\n        \"min\": 6.92,\n        \"max\": 524.96,\n        \"num_unique_values\": 12,\n        \"samples\": [\n          97.44,\n          263.33,\n          117.11\n        ],\n        \"semantic_type\": \"\",\n        \"description\": \"\"\n      }\n    },\n    {\n      \"column\": \"item_type\",\n      \"properties\": {\n        \"dtype\": \"category\",\n        \"num_unique_values\": 12,\n        \"samples\": [\n          \"Snacks\",\n          \"Cosmetics\",\n          \"Cereal\"\n        ],\n        \"semantic_type\": \"\",\n        \"description\": \"\"\n      }\n    },\n    {\n      \"column\": \"name\",\n      \"properties\": {\n        \"dtype\": \"category\",\n        \"num_unique_values\": 46,\n        \"samples\": [\n          \"Albania\",\n          \"Estonia\",\n          \"Austria\"\n        ],\n        \"semantic_type\": \"\",\n        \"description\": \"\"\n      }\n    },\n    {\n      \"column\": \"region\",\n      \"properties\": {\n        \"dtype\": \"category\",\n        \"num_unique_values\": 3,\n        \"samples\": [\n          \"Europe\",\n          \"Other\",\n          \"Asia\"\n        ],\n        \"semantic_type\": \"\",\n        \"description\": \"\"\n      }\n    },\n    {\n      \"column\": \"sub-region\",\n      \"properties\": {\n        \"dtype\": \"category\",\n        \"num_unique_values\": 6,\n        \"samples\": [\n          \"Northern Europe\",\n          \"Southern Europe\",\n          \"Western Asia\"\n        ],\n        \"semantic_type\": \"\",\n        \"description\": \"\"\n      }\n    }\n  ]\n}"
            }
          },
          "metadata": {},
          "execution_count": 38
        }
      ],
      "source": [
        "df_basic.head() #проведемо додаткову перевірку даних, після об'єднання даних"
      ]
    },
    {
      "cell_type": "code",
      "execution_count": 39,
      "metadata": {
        "id": "Gi-9t5ctgN_z"
      },
      "outputs": [],
      "source": [
        "df_basic.columns = df_basic.columns.str.lower().str.replace(\" \", \"_\")#перневедемо назви колонок у snake_case"
      ]
    },
    {
      "cell_type": "code",
      "execution_count": 40,
      "metadata": {
        "colab": {
          "base_uri": "https://localhost:8080/",
          "height": 206
        },
        "id": "uADzSmtvtEE7",
        "outputId": "f1134e68-deef-4186-be2b-b960b7a74e38"
      },
      "outputs": [
        {
          "output_type": "execute_result",
          "data": {
            "text/plain": [
              "    order_id order_date  ship_date order_priority country_code  product_id  \\\n",
              "0  100640618 2014-10-08 2014-10-18              M          NOR        2103   \n",
              "1  100983083 2016-08-11 2016-08-11              C          SRB        2103   \n",
              "2  101025998 2014-07-18 2014-08-11              M        Other        7940   \n",
              "3  102230632 2017-05-13 2017-06-13              L          MNE        2455   \n",
              "4  103435266 2012-08-11 2012-09-18              H          SRB        1270   \n",
              "\n",
              "  sales_channel  units_sold  unit_price  unit_cost  item_type        name  \\\n",
              "0        Online       650.0      205.70     117.11     Cereal      Norway   \n",
              "1       Offline      1993.0      205.70     117.11     Cereal      Serbia   \n",
              "2        Online      4693.0      668.27     502.54  Household       Other   \n",
              "3        Online      1171.0      109.28      35.84    Clothes  Montenegro   \n",
              "4       Offline      7648.0       47.45      31.79  Beverages      Serbia   \n",
              "\n",
              "   region       sub-region  \n",
              "0  Europe  Northern Europe  \n",
              "1  Europe  Southern Europe  \n",
              "2   Other            Other  \n",
              "3  Europe  Southern Europe  \n",
              "4  Europe  Southern Europe  "
            ],
            "text/html": [
              "\n",
              "  <div id=\"df-8dfd883b-2d39-4c35-9543-3eed3294e023\" class=\"colab-df-container\">\n",
              "    <div>\n",
              "<style scoped>\n",
              "    .dataframe tbody tr th:only-of-type {\n",
              "        vertical-align: middle;\n",
              "    }\n",
              "\n",
              "    .dataframe tbody tr th {\n",
              "        vertical-align: top;\n",
              "    }\n",
              "\n",
              "    .dataframe thead th {\n",
              "        text-align: right;\n",
              "    }\n",
              "</style>\n",
              "<table border=\"1\" class=\"dataframe\">\n",
              "  <thead>\n",
              "    <tr style=\"text-align: right;\">\n",
              "      <th></th>\n",
              "      <th>order_id</th>\n",
              "      <th>order_date</th>\n",
              "      <th>ship_date</th>\n",
              "      <th>order_priority</th>\n",
              "      <th>country_code</th>\n",
              "      <th>product_id</th>\n",
              "      <th>sales_channel</th>\n",
              "      <th>units_sold</th>\n",
              "      <th>unit_price</th>\n",
              "      <th>unit_cost</th>\n",
              "      <th>item_type</th>\n",
              "      <th>name</th>\n",
              "      <th>region</th>\n",
              "      <th>sub-region</th>\n",
              "    </tr>\n",
              "  </thead>\n",
              "  <tbody>\n",
              "    <tr>\n",
              "      <th>0</th>\n",
              "      <td>100640618</td>\n",
              "      <td>2014-10-08</td>\n",
              "      <td>2014-10-18</td>\n",
              "      <td>M</td>\n",
              "      <td>NOR</td>\n",
              "      <td>2103</td>\n",
              "      <td>Online</td>\n",
              "      <td>650.0</td>\n",
              "      <td>205.70</td>\n",
              "      <td>117.11</td>\n",
              "      <td>Cereal</td>\n",
              "      <td>Norway</td>\n",
              "      <td>Europe</td>\n",
              "      <td>Northern Europe</td>\n",
              "    </tr>\n",
              "    <tr>\n",
              "      <th>1</th>\n",
              "      <td>100983083</td>\n",
              "      <td>2016-08-11</td>\n",
              "      <td>2016-08-11</td>\n",
              "      <td>C</td>\n",
              "      <td>SRB</td>\n",
              "      <td>2103</td>\n",
              "      <td>Offline</td>\n",
              "      <td>1993.0</td>\n",
              "      <td>205.70</td>\n",
              "      <td>117.11</td>\n",
              "      <td>Cereal</td>\n",
              "      <td>Serbia</td>\n",
              "      <td>Europe</td>\n",
              "      <td>Southern Europe</td>\n",
              "    </tr>\n",
              "    <tr>\n",
              "      <th>2</th>\n",
              "      <td>101025998</td>\n",
              "      <td>2014-07-18</td>\n",
              "      <td>2014-08-11</td>\n",
              "      <td>M</td>\n",
              "      <td>Other</td>\n",
              "      <td>7940</td>\n",
              "      <td>Online</td>\n",
              "      <td>4693.0</td>\n",
              "      <td>668.27</td>\n",
              "      <td>502.54</td>\n",
              "      <td>Household</td>\n",
              "      <td>Other</td>\n",
              "      <td>Other</td>\n",
              "      <td>Other</td>\n",
              "    </tr>\n",
              "    <tr>\n",
              "      <th>3</th>\n",
              "      <td>102230632</td>\n",
              "      <td>2017-05-13</td>\n",
              "      <td>2017-06-13</td>\n",
              "      <td>L</td>\n",
              "      <td>MNE</td>\n",
              "      <td>2455</td>\n",
              "      <td>Online</td>\n",
              "      <td>1171.0</td>\n",
              "      <td>109.28</td>\n",
              "      <td>35.84</td>\n",
              "      <td>Clothes</td>\n",
              "      <td>Montenegro</td>\n",
              "      <td>Europe</td>\n",
              "      <td>Southern Europe</td>\n",
              "    </tr>\n",
              "    <tr>\n",
              "      <th>4</th>\n",
              "      <td>103435266</td>\n",
              "      <td>2012-08-11</td>\n",
              "      <td>2012-09-18</td>\n",
              "      <td>H</td>\n",
              "      <td>SRB</td>\n",
              "      <td>1270</td>\n",
              "      <td>Offline</td>\n",
              "      <td>7648.0</td>\n",
              "      <td>47.45</td>\n",
              "      <td>31.79</td>\n",
              "      <td>Beverages</td>\n",
              "      <td>Serbia</td>\n",
              "      <td>Europe</td>\n",
              "      <td>Southern Europe</td>\n",
              "    </tr>\n",
              "  </tbody>\n",
              "</table>\n",
              "</div>\n",
              "    <div class=\"colab-df-buttons\">\n",
              "\n",
              "  <div class=\"colab-df-container\">\n",
              "    <button class=\"colab-df-convert\" onclick=\"convertToInteractive('df-8dfd883b-2d39-4c35-9543-3eed3294e023')\"\n",
              "            title=\"Convert this dataframe to an interactive table.\"\n",
              "            style=\"display:none;\">\n",
              "\n",
              "  <svg xmlns=\"http://www.w3.org/2000/svg\" height=\"24px\" viewBox=\"0 -960 960 960\">\n",
              "    <path d=\"M120-120v-720h720v720H120Zm60-500h600v-160H180v160Zm220 220h160v-160H400v160Zm0 220h160v-160H400v160ZM180-400h160v-160H180v160Zm440 0h160v-160H620v160ZM180-180h160v-160H180v160Zm440 0h160v-160H620v160Z\"/>\n",
              "  </svg>\n",
              "    </button>\n",
              "\n",
              "  <style>\n",
              "    .colab-df-container {\n",
              "      display:flex;\n",
              "      gap: 12px;\n",
              "    }\n",
              "\n",
              "    .colab-df-convert {\n",
              "      background-color: #E8F0FE;\n",
              "      border: none;\n",
              "      border-radius: 50%;\n",
              "      cursor: pointer;\n",
              "      display: none;\n",
              "      fill: #1967D2;\n",
              "      height: 32px;\n",
              "      padding: 0 0 0 0;\n",
              "      width: 32px;\n",
              "    }\n",
              "\n",
              "    .colab-df-convert:hover {\n",
              "      background-color: #E2EBFA;\n",
              "      box-shadow: 0px 1px 2px rgba(60, 64, 67, 0.3), 0px 1px 3px 1px rgba(60, 64, 67, 0.15);\n",
              "      fill: #174EA6;\n",
              "    }\n",
              "\n",
              "    .colab-df-buttons div {\n",
              "      margin-bottom: 4px;\n",
              "    }\n",
              "\n",
              "    [theme=dark] .colab-df-convert {\n",
              "      background-color: #3B4455;\n",
              "      fill: #D2E3FC;\n",
              "    }\n",
              "\n",
              "    [theme=dark] .colab-df-convert:hover {\n",
              "      background-color: #434B5C;\n",
              "      box-shadow: 0px 1px 3px 1px rgba(0, 0, 0, 0.15);\n",
              "      filter: drop-shadow(0px 1px 2px rgba(0, 0, 0, 0.3));\n",
              "      fill: #FFFFFF;\n",
              "    }\n",
              "  </style>\n",
              "\n",
              "    <script>\n",
              "      const buttonEl =\n",
              "        document.querySelector('#df-8dfd883b-2d39-4c35-9543-3eed3294e023 button.colab-df-convert');\n",
              "      buttonEl.style.display =\n",
              "        google.colab.kernel.accessAllowed ? 'block' : 'none';\n",
              "\n",
              "      async function convertToInteractive(key) {\n",
              "        const element = document.querySelector('#df-8dfd883b-2d39-4c35-9543-3eed3294e023');\n",
              "        const dataTable =\n",
              "          await google.colab.kernel.invokeFunction('convertToInteractive',\n",
              "                                                    [key], {});\n",
              "        if (!dataTable) return;\n",
              "\n",
              "        const docLinkHtml = 'Like what you see? Visit the ' +\n",
              "          '<a target=\"_blank\" href=https://colab.research.google.com/notebooks/data_table.ipynb>data table notebook</a>'\n",
              "          + ' to learn more about interactive tables.';\n",
              "        element.innerHTML = '';\n",
              "        dataTable['output_type'] = 'display_data';\n",
              "        await google.colab.output.renderOutput(dataTable, element);\n",
              "        const docLink = document.createElement('div');\n",
              "        docLink.innerHTML = docLinkHtml;\n",
              "        element.appendChild(docLink);\n",
              "      }\n",
              "    </script>\n",
              "  </div>\n",
              "\n",
              "\n",
              "<div id=\"df-52e98c8d-f1ab-47fa-aab3-d2398f0e4983\">\n",
              "  <button class=\"colab-df-quickchart\" onclick=\"quickchart('df-52e98c8d-f1ab-47fa-aab3-d2398f0e4983')\"\n",
              "            title=\"Suggest charts\"\n",
              "            style=\"display:none;\">\n",
              "\n",
              "<svg xmlns=\"http://www.w3.org/2000/svg\" height=\"24px\"viewBox=\"0 0 24 24\"\n",
              "     width=\"24px\">\n",
              "    <g>\n",
              "        <path d=\"M19 3H5c-1.1 0-2 .9-2 2v14c0 1.1.9 2 2 2h14c1.1 0 2-.9 2-2V5c0-1.1-.9-2-2-2zM9 17H7v-7h2v7zm4 0h-2V7h2v10zm4 0h-2v-4h2v4z\"/>\n",
              "    </g>\n",
              "</svg>\n",
              "  </button>\n",
              "\n",
              "<style>\n",
              "  .colab-df-quickchart {\n",
              "      --bg-color: #E8F0FE;\n",
              "      --fill-color: #1967D2;\n",
              "      --hover-bg-color: #E2EBFA;\n",
              "      --hover-fill-color: #174EA6;\n",
              "      --disabled-fill-color: #AAA;\n",
              "      --disabled-bg-color: #DDD;\n",
              "  }\n",
              "\n",
              "  [theme=dark] .colab-df-quickchart {\n",
              "      --bg-color: #3B4455;\n",
              "      --fill-color: #D2E3FC;\n",
              "      --hover-bg-color: #434B5C;\n",
              "      --hover-fill-color: #FFFFFF;\n",
              "      --disabled-bg-color: #3B4455;\n",
              "      --disabled-fill-color: #666;\n",
              "  }\n",
              "\n",
              "  .colab-df-quickchart {\n",
              "    background-color: var(--bg-color);\n",
              "    border: none;\n",
              "    border-radius: 50%;\n",
              "    cursor: pointer;\n",
              "    display: none;\n",
              "    fill: var(--fill-color);\n",
              "    height: 32px;\n",
              "    padding: 0;\n",
              "    width: 32px;\n",
              "  }\n",
              "\n",
              "  .colab-df-quickchart:hover {\n",
              "    background-color: var(--hover-bg-color);\n",
              "    box-shadow: 0 1px 2px rgba(60, 64, 67, 0.3), 0 1px 3px 1px rgba(60, 64, 67, 0.15);\n",
              "    fill: var(--button-hover-fill-color);\n",
              "  }\n",
              "\n",
              "  .colab-df-quickchart-complete:disabled,\n",
              "  .colab-df-quickchart-complete:disabled:hover {\n",
              "    background-color: var(--disabled-bg-color);\n",
              "    fill: var(--disabled-fill-color);\n",
              "    box-shadow: none;\n",
              "  }\n",
              "\n",
              "  .colab-df-spinner {\n",
              "    border: 2px solid var(--fill-color);\n",
              "    border-color: transparent;\n",
              "    border-bottom-color: var(--fill-color);\n",
              "    animation:\n",
              "      spin 1s steps(1) infinite;\n",
              "  }\n",
              "\n",
              "  @keyframes spin {\n",
              "    0% {\n",
              "      border-color: transparent;\n",
              "      border-bottom-color: var(--fill-color);\n",
              "      border-left-color: var(--fill-color);\n",
              "    }\n",
              "    20% {\n",
              "      border-color: transparent;\n",
              "      border-left-color: var(--fill-color);\n",
              "      border-top-color: var(--fill-color);\n",
              "    }\n",
              "    30% {\n",
              "      border-color: transparent;\n",
              "      border-left-color: var(--fill-color);\n",
              "      border-top-color: var(--fill-color);\n",
              "      border-right-color: var(--fill-color);\n",
              "    }\n",
              "    40% {\n",
              "      border-color: transparent;\n",
              "      border-right-color: var(--fill-color);\n",
              "      border-top-color: var(--fill-color);\n",
              "    }\n",
              "    60% {\n",
              "      border-color: transparent;\n",
              "      border-right-color: var(--fill-color);\n",
              "    }\n",
              "    80% {\n",
              "      border-color: transparent;\n",
              "      border-right-color: var(--fill-color);\n",
              "      border-bottom-color: var(--fill-color);\n",
              "    }\n",
              "    90% {\n",
              "      border-color: transparent;\n",
              "      border-bottom-color: var(--fill-color);\n",
              "    }\n",
              "  }\n",
              "</style>\n",
              "\n",
              "  <script>\n",
              "    async function quickchart(key) {\n",
              "      const quickchartButtonEl =\n",
              "        document.querySelector('#' + key + ' button');\n",
              "      quickchartButtonEl.disabled = true;  // To prevent multiple clicks.\n",
              "      quickchartButtonEl.classList.add('colab-df-spinner');\n",
              "      try {\n",
              "        const charts = await google.colab.kernel.invokeFunction(\n",
              "            'suggestCharts', [key], {});\n",
              "      } catch (error) {\n",
              "        console.error('Error during call to suggestCharts:', error);\n",
              "      }\n",
              "      quickchartButtonEl.classList.remove('colab-df-spinner');\n",
              "      quickchartButtonEl.classList.add('colab-df-quickchart-complete');\n",
              "    }\n",
              "    (() => {\n",
              "      let quickchartButtonEl =\n",
              "        document.querySelector('#df-52e98c8d-f1ab-47fa-aab3-d2398f0e4983 button');\n",
              "      quickchartButtonEl.style.display =\n",
              "        google.colab.kernel.accessAllowed ? 'block' : 'none';\n",
              "    })();\n",
              "  </script>\n",
              "</div>\n",
              "    </div>\n",
              "  </div>\n"
            ],
            "application/vnd.google.colaboratory.intrinsic+json": {
              "type": "dataframe",
              "variable_name": "df_basic",
              "summary": "{\n  \"name\": \"df_basic\",\n  \"rows\": 1328,\n  \"fields\": [\n    {\n      \"column\": \"order_id\",\n      \"properties\": {\n        \"dtype\": \"number\",\n        \"std\": 257349633,\n        \"min\": 100640618,\n        \"max\": 999879729,\n        \"num_unique_values\": 1328,\n        \"samples\": [\n          913729751,\n          174614226,\n          743769109\n        ],\n        \"semantic_type\": \"\",\n        \"description\": \"\"\n      }\n    },\n    {\n      \"column\": \"order_date\",\n      \"properties\": {\n        \"dtype\": \"date\",\n        \"min\": \"2010-01-01 00:00:00\",\n        \"max\": \"2017-07-23 00:00:00\",\n        \"num_unique_values\": 1049,\n        \"samples\": [\n          \"2016-06-27 00:00:00\",\n          \"2013-06-25 00:00:00\",\n          \"2016-03-28 00:00:00\"\n        ],\n        \"semantic_type\": \"\",\n        \"description\": \"\"\n      }\n    },\n    {\n      \"column\": \"ship_date\",\n      \"properties\": {\n        \"dtype\": \"date\",\n        \"min\": \"2010-01-10 00:00:00\",\n        \"max\": \"2017-08-31 00:00:00\",\n        \"num_unique_values\": 1069,\n        \"samples\": [\n          \"2015-06-23 00:00:00\",\n          \"2014-05-01 00:00:00\",\n          \"2017-03-14 00:00:00\"\n        ],\n        \"semantic_type\": \"\",\n        \"description\": \"\"\n      }\n    },\n    {\n      \"column\": \"order_priority\",\n      \"properties\": {\n        \"dtype\": \"category\",\n        \"num_unique_values\": 6,\n        \"samples\": [\n          \"M\",\n          \"C\",\n          \"M \"\n        ],\n        \"semantic_type\": \"\",\n        \"description\": \"\"\n      }\n    },\n    {\n      \"column\": \"country_code\",\n      \"properties\": {\n        \"dtype\": \"category\",\n        \"num_unique_values\": 46,\n        \"samples\": [\n          \"ALB\",\n          \"EST\",\n          \"AUT\"\n        ],\n        \"semantic_type\": \"\",\n        \"description\": \"\"\n      }\n    },\n    {\n      \"column\": \"product_id\",\n      \"properties\": {\n        \"dtype\": \"number\",\n        \"std\": 2820,\n        \"min\": 1270,\n        \"max\": 8969,\n        \"num_unique_values\": 12,\n        \"samples\": [\n          8969,\n          8293,\n          2103\n        ],\n        \"semantic_type\": \"\",\n        \"description\": \"\"\n      }\n    },\n    {\n      \"column\": \"sales_channel\",\n      \"properties\": {\n        \"dtype\": \"category\",\n        \"num_unique_values\": 3,\n        \"samples\": [\n          \"Online\",\n          \"Offline\",\n          \"online\"\n        ],\n        \"semantic_type\": \"\",\n        \"description\": \"\"\n      }\n    },\n    {\n      \"column\": \"units_sold\",\n      \"properties\": {\n        \"dtype\": \"number\",\n        \"std\": 2905.198996399036,\n        \"min\": 2.0,\n        \"max\": 9999.0,\n        \"num_unique_values\": 1239,\n        \"samples\": [\n          4681.0,\n          7069.0,\n          7923.0\n        ],\n        \"semantic_type\": \"\",\n        \"description\": \"\"\n      }\n    },\n    {\n      \"column\": \"unit_price\",\n      \"properties\": {\n        \"dtype\": \"number\",\n        \"std\": 217.3863199939379,\n        \"min\": 9.33,\n        \"max\": 668.27,\n        \"num_unique_values\": 12,\n        \"samples\": [\n          152.58,\n          437.2,\n          205.7\n        ],\n        \"semantic_type\": \"\",\n        \"description\": \"\"\n      }\n    },\n    {\n      \"column\": \"unit_cost\",\n      \"properties\": {\n        \"dtype\": \"number\",\n        \"std\": 176.1878011043068,\n        \"min\": 6.92,\n        \"max\": 524.96,\n        \"num_unique_values\": 12,\n        \"samples\": [\n          97.44,\n          263.33,\n          117.11\n        ],\n        \"semantic_type\": \"\",\n        \"description\": \"\"\n      }\n    },\n    {\n      \"column\": \"item_type\",\n      \"properties\": {\n        \"dtype\": \"category\",\n        \"num_unique_values\": 12,\n        \"samples\": [\n          \"Snacks\",\n          \"Cosmetics\",\n          \"Cereal\"\n        ],\n        \"semantic_type\": \"\",\n        \"description\": \"\"\n      }\n    },\n    {\n      \"column\": \"name\",\n      \"properties\": {\n        \"dtype\": \"category\",\n        \"num_unique_values\": 46,\n        \"samples\": [\n          \"Albania\",\n          \"Estonia\",\n          \"Austria\"\n        ],\n        \"semantic_type\": \"\",\n        \"description\": \"\"\n      }\n    },\n    {\n      \"column\": \"region\",\n      \"properties\": {\n        \"dtype\": \"category\",\n        \"num_unique_values\": 3,\n        \"samples\": [\n          \"Europe\",\n          \"Other\",\n          \"Asia\"\n        ],\n        \"semantic_type\": \"\",\n        \"description\": \"\"\n      }\n    },\n    {\n      \"column\": \"sub-region\",\n      \"properties\": {\n        \"dtype\": \"category\",\n        \"num_unique_values\": 6,\n        \"samples\": [\n          \"Northern Europe\",\n          \"Southern Europe\",\n          \"Western Asia\"\n        ],\n        \"semantic_type\": \"\",\n        \"description\": \"\"\n      }\n    }\n  ]\n}"
            }
          },
          "metadata": {},
          "execution_count": 40
        }
      ],
      "source": [
        "df_basic.head()"
      ]
    },
    {
      "cell_type": "code",
      "execution_count": 41,
      "metadata": {
        "colab": {
          "base_uri": "https://localhost:8080/"
        },
        "id": "A5GNUgvBtein",
        "outputId": "b3551bae-3fdd-4f60-c300-97da2ed934d2"
      },
      "outputs": [
        {
          "output_type": "stream",
          "name": "stdout",
          "text": [
            "<class 'pandas.core.frame.DataFrame'>\n",
            "RangeIndex: 1328 entries, 0 to 1327\n",
            "Data columns (total 14 columns):\n",
            " #   Column          Non-Null Count  Dtype         \n",
            "---  ------          --------------  -----         \n",
            " 0   order_id        1328 non-null   int64         \n",
            " 1   order_date      1328 non-null   datetime64[ns]\n",
            " 2   ship_date       1328 non-null   datetime64[ns]\n",
            " 3   order_priority  1328 non-null   object        \n",
            " 4   country_code    1328 non-null   object        \n",
            " 5   product_id      1328 non-null   int64         \n",
            " 6   sales_channel   1328 non-null   object        \n",
            " 7   units_sold      1328 non-null   float64       \n",
            " 8   unit_price      1328 non-null   float64       \n",
            " 9   unit_cost       1328 non-null   float64       \n",
            " 10  item_type       1328 non-null   object        \n",
            " 11  name            1328 non-null   object        \n",
            " 12  region          1328 non-null   object        \n",
            " 13  sub-region      1328 non-null   object        \n",
            "dtypes: datetime64[ns](2), float64(3), int64(2), object(7)\n",
            "memory usage: 145.4+ KB\n"
          ]
        }
      ],
      "source": [
        "df_basic.info()"
      ]
    },
    {
      "cell_type": "code",
      "execution_count": 42,
      "metadata": {
        "id": "yw2UpX_NtkKE"
      },
      "outputs": [],
      "source": [
        "df_basic = df_basic.rename(columns={'sub-region':'sub_region'})"
      ]
    },
    {
      "cell_type": "code",
      "execution_count": 43,
      "metadata": {
        "id": "S4pc4mEU49sP"
      },
      "outputs": [],
      "source": [
        "df_basic = df_basic.rename(columns={'name':'country'})"
      ]
    },
    {
      "cell_type": "code",
      "execution_count": 44,
      "metadata": {
        "colab": {
          "base_uri": "https://localhost:8080/"
        },
        "id": "5kmam3RdukpG",
        "outputId": "71d03f5c-c467-449b-8c18-d32b243f37c7"
      },
      "outputs": [
        {
          "output_type": "stream",
          "name": "stdout",
          "text": [
            "        units_sold   unit_price    unit_cost\n",
            "count  1328.000000  1328.000000  1328.000000\n",
            "mean   4952.201807   264.913245   187.211521\n",
            "std    2905.198996   217.386320   176.187801\n",
            "min       2.000000     9.330000     6.920000\n",
            "25%    2356.750000    81.730000    35.840000\n",
            "50%    4962.000000   154.060000    97.440000\n",
            "75%    7459.500000   437.200000   263.330000\n",
            "max    9999.000000   668.270000   524.960000\n"
          ]
        }
      ],
      "source": [
        "print(df_basic[['units_sold', 'unit_price', 'unit_cost']].describe())# оцінка числових даних"
      ]
    },
    {
      "cell_type": "code",
      "execution_count": 45,
      "metadata": {
        "colab": {
          "base_uri": "https://localhost:8080/"
        },
        "id": "fQrGEr11vbFO",
        "outputId": "c0bce163-3e16-4122-ed43-18aff8c681c9"
      },
      "outputs": [
        {
          "output_type": "execute_result",
          "data": {
            "text/plain": [
              "np.int64(0)"
            ]
          },
          "metadata": {},
          "execution_count": 45
        }
      ],
      "source": [
        "df_basic.duplicated().sum()"
      ]
    },
    {
      "cell_type": "markdown",
      "metadata": {
        "id": "nBG9Q7zKvu1V"
      },
      "source": [
        "df_basic немає аномальних значень, дублікатів чи пропусків, всі дані розпізнаються коректо."
      ]
    },
    {
      "cell_type": "markdown",
      "metadata": {
        "id": "qHAvq1w8wNqR"
      },
      "source": [
        "##Ключові метрики діяльності підприємства:"
      ]
    },
    {
      "cell_type": "code",
      "execution_count": 46,
      "metadata": {
        "colab": {
          "base_uri": "https://localhost:8080/",
          "height": 206
        },
        "id": "aGKkRp2GvtOi",
        "outputId": "a36674f5-c999-4c60-e727-b0395f6e707a"
      },
      "outputs": [
        {
          "output_type": "execute_result",
          "data": {
            "text/plain": [
              "    order_id order_date  ship_date order_priority country_code  product_id  \\\n",
              "0  100640618 2014-10-08 2014-10-18              M          NOR        2103   \n",
              "1  100983083 2016-08-11 2016-08-11              C          SRB        2103   \n",
              "2  101025998 2014-07-18 2014-08-11              M        Other        7940   \n",
              "3  102230632 2017-05-13 2017-06-13              L          MNE        2455   \n",
              "4  103435266 2012-08-11 2012-09-18              H          SRB        1270   \n",
              "\n",
              "  sales_channel  units_sold  unit_price  unit_cost  item_type     country  \\\n",
              "0        Online       650.0      205.70     117.11     Cereal      Norway   \n",
              "1       Offline      1993.0      205.70     117.11     Cereal      Serbia   \n",
              "2        Online      4693.0      668.27     502.54  Household       Other   \n",
              "3        Online      1171.0      109.28      35.84    Clothes  Montenegro   \n",
              "4       Offline      7648.0       47.45      31.79  Beverages      Serbia   \n",
              "\n",
              "   region       sub_region  \n",
              "0  Europe  Northern Europe  \n",
              "1  Europe  Southern Europe  \n",
              "2   Other            Other  \n",
              "3  Europe  Southern Europe  \n",
              "4  Europe  Southern Europe  "
            ],
            "text/html": [
              "\n",
              "  <div id=\"df-d99b3451-0abf-44c0-8e6e-13b7219d4f61\" class=\"colab-df-container\">\n",
              "    <div>\n",
              "<style scoped>\n",
              "    .dataframe tbody tr th:only-of-type {\n",
              "        vertical-align: middle;\n",
              "    }\n",
              "\n",
              "    .dataframe tbody tr th {\n",
              "        vertical-align: top;\n",
              "    }\n",
              "\n",
              "    .dataframe thead th {\n",
              "        text-align: right;\n",
              "    }\n",
              "</style>\n",
              "<table border=\"1\" class=\"dataframe\">\n",
              "  <thead>\n",
              "    <tr style=\"text-align: right;\">\n",
              "      <th></th>\n",
              "      <th>order_id</th>\n",
              "      <th>order_date</th>\n",
              "      <th>ship_date</th>\n",
              "      <th>order_priority</th>\n",
              "      <th>country_code</th>\n",
              "      <th>product_id</th>\n",
              "      <th>sales_channel</th>\n",
              "      <th>units_sold</th>\n",
              "      <th>unit_price</th>\n",
              "      <th>unit_cost</th>\n",
              "      <th>item_type</th>\n",
              "      <th>country</th>\n",
              "      <th>region</th>\n",
              "      <th>sub_region</th>\n",
              "    </tr>\n",
              "  </thead>\n",
              "  <tbody>\n",
              "    <tr>\n",
              "      <th>0</th>\n",
              "      <td>100640618</td>\n",
              "      <td>2014-10-08</td>\n",
              "      <td>2014-10-18</td>\n",
              "      <td>M</td>\n",
              "      <td>NOR</td>\n",
              "      <td>2103</td>\n",
              "      <td>Online</td>\n",
              "      <td>650.0</td>\n",
              "      <td>205.70</td>\n",
              "      <td>117.11</td>\n",
              "      <td>Cereal</td>\n",
              "      <td>Norway</td>\n",
              "      <td>Europe</td>\n",
              "      <td>Northern Europe</td>\n",
              "    </tr>\n",
              "    <tr>\n",
              "      <th>1</th>\n",
              "      <td>100983083</td>\n",
              "      <td>2016-08-11</td>\n",
              "      <td>2016-08-11</td>\n",
              "      <td>C</td>\n",
              "      <td>SRB</td>\n",
              "      <td>2103</td>\n",
              "      <td>Offline</td>\n",
              "      <td>1993.0</td>\n",
              "      <td>205.70</td>\n",
              "      <td>117.11</td>\n",
              "      <td>Cereal</td>\n",
              "      <td>Serbia</td>\n",
              "      <td>Europe</td>\n",
              "      <td>Southern Europe</td>\n",
              "    </tr>\n",
              "    <tr>\n",
              "      <th>2</th>\n",
              "      <td>101025998</td>\n",
              "      <td>2014-07-18</td>\n",
              "      <td>2014-08-11</td>\n",
              "      <td>M</td>\n",
              "      <td>Other</td>\n",
              "      <td>7940</td>\n",
              "      <td>Online</td>\n",
              "      <td>4693.0</td>\n",
              "      <td>668.27</td>\n",
              "      <td>502.54</td>\n",
              "      <td>Household</td>\n",
              "      <td>Other</td>\n",
              "      <td>Other</td>\n",
              "      <td>Other</td>\n",
              "    </tr>\n",
              "    <tr>\n",
              "      <th>3</th>\n",
              "      <td>102230632</td>\n",
              "      <td>2017-05-13</td>\n",
              "      <td>2017-06-13</td>\n",
              "      <td>L</td>\n",
              "      <td>MNE</td>\n",
              "      <td>2455</td>\n",
              "      <td>Online</td>\n",
              "      <td>1171.0</td>\n",
              "      <td>109.28</td>\n",
              "      <td>35.84</td>\n",
              "      <td>Clothes</td>\n",
              "      <td>Montenegro</td>\n",
              "      <td>Europe</td>\n",
              "      <td>Southern Europe</td>\n",
              "    </tr>\n",
              "    <tr>\n",
              "      <th>4</th>\n",
              "      <td>103435266</td>\n",
              "      <td>2012-08-11</td>\n",
              "      <td>2012-09-18</td>\n",
              "      <td>H</td>\n",
              "      <td>SRB</td>\n",
              "      <td>1270</td>\n",
              "      <td>Offline</td>\n",
              "      <td>7648.0</td>\n",
              "      <td>47.45</td>\n",
              "      <td>31.79</td>\n",
              "      <td>Beverages</td>\n",
              "      <td>Serbia</td>\n",
              "      <td>Europe</td>\n",
              "      <td>Southern Europe</td>\n",
              "    </tr>\n",
              "  </tbody>\n",
              "</table>\n",
              "</div>\n",
              "    <div class=\"colab-df-buttons\">\n",
              "\n",
              "  <div class=\"colab-df-container\">\n",
              "    <button class=\"colab-df-convert\" onclick=\"convertToInteractive('df-d99b3451-0abf-44c0-8e6e-13b7219d4f61')\"\n",
              "            title=\"Convert this dataframe to an interactive table.\"\n",
              "            style=\"display:none;\">\n",
              "\n",
              "  <svg xmlns=\"http://www.w3.org/2000/svg\" height=\"24px\" viewBox=\"0 -960 960 960\">\n",
              "    <path d=\"M120-120v-720h720v720H120Zm60-500h600v-160H180v160Zm220 220h160v-160H400v160Zm0 220h160v-160H400v160ZM180-400h160v-160H180v160Zm440 0h160v-160H620v160ZM180-180h160v-160H180v160Zm440 0h160v-160H620v160Z\"/>\n",
              "  </svg>\n",
              "    </button>\n",
              "\n",
              "  <style>\n",
              "    .colab-df-container {\n",
              "      display:flex;\n",
              "      gap: 12px;\n",
              "    }\n",
              "\n",
              "    .colab-df-convert {\n",
              "      background-color: #E8F0FE;\n",
              "      border: none;\n",
              "      border-radius: 50%;\n",
              "      cursor: pointer;\n",
              "      display: none;\n",
              "      fill: #1967D2;\n",
              "      height: 32px;\n",
              "      padding: 0 0 0 0;\n",
              "      width: 32px;\n",
              "    }\n",
              "\n",
              "    .colab-df-convert:hover {\n",
              "      background-color: #E2EBFA;\n",
              "      box-shadow: 0px 1px 2px rgba(60, 64, 67, 0.3), 0px 1px 3px 1px rgba(60, 64, 67, 0.15);\n",
              "      fill: #174EA6;\n",
              "    }\n",
              "\n",
              "    .colab-df-buttons div {\n",
              "      margin-bottom: 4px;\n",
              "    }\n",
              "\n",
              "    [theme=dark] .colab-df-convert {\n",
              "      background-color: #3B4455;\n",
              "      fill: #D2E3FC;\n",
              "    }\n",
              "\n",
              "    [theme=dark] .colab-df-convert:hover {\n",
              "      background-color: #434B5C;\n",
              "      box-shadow: 0px 1px 3px 1px rgba(0, 0, 0, 0.15);\n",
              "      filter: drop-shadow(0px 1px 2px rgba(0, 0, 0, 0.3));\n",
              "      fill: #FFFFFF;\n",
              "    }\n",
              "  </style>\n",
              "\n",
              "    <script>\n",
              "      const buttonEl =\n",
              "        document.querySelector('#df-d99b3451-0abf-44c0-8e6e-13b7219d4f61 button.colab-df-convert');\n",
              "      buttonEl.style.display =\n",
              "        google.colab.kernel.accessAllowed ? 'block' : 'none';\n",
              "\n",
              "      async function convertToInteractive(key) {\n",
              "        const element = document.querySelector('#df-d99b3451-0abf-44c0-8e6e-13b7219d4f61');\n",
              "        const dataTable =\n",
              "          await google.colab.kernel.invokeFunction('convertToInteractive',\n",
              "                                                    [key], {});\n",
              "        if (!dataTable) return;\n",
              "\n",
              "        const docLinkHtml = 'Like what you see? Visit the ' +\n",
              "          '<a target=\"_blank\" href=https://colab.research.google.com/notebooks/data_table.ipynb>data table notebook</a>'\n",
              "          + ' to learn more about interactive tables.';\n",
              "        element.innerHTML = '';\n",
              "        dataTable['output_type'] = 'display_data';\n",
              "        await google.colab.output.renderOutput(dataTable, element);\n",
              "        const docLink = document.createElement('div');\n",
              "        docLink.innerHTML = docLinkHtml;\n",
              "        element.appendChild(docLink);\n",
              "      }\n",
              "    </script>\n",
              "  </div>\n",
              "\n",
              "\n",
              "<div id=\"df-dde2a9e2-6cb1-4442-b36c-0940479ae002\">\n",
              "  <button class=\"colab-df-quickchart\" onclick=\"quickchart('df-dde2a9e2-6cb1-4442-b36c-0940479ae002')\"\n",
              "            title=\"Suggest charts\"\n",
              "            style=\"display:none;\">\n",
              "\n",
              "<svg xmlns=\"http://www.w3.org/2000/svg\" height=\"24px\"viewBox=\"0 0 24 24\"\n",
              "     width=\"24px\">\n",
              "    <g>\n",
              "        <path d=\"M19 3H5c-1.1 0-2 .9-2 2v14c0 1.1.9 2 2 2h14c1.1 0 2-.9 2-2V5c0-1.1-.9-2-2-2zM9 17H7v-7h2v7zm4 0h-2V7h2v10zm4 0h-2v-4h2v4z\"/>\n",
              "    </g>\n",
              "</svg>\n",
              "  </button>\n",
              "\n",
              "<style>\n",
              "  .colab-df-quickchart {\n",
              "      --bg-color: #E8F0FE;\n",
              "      --fill-color: #1967D2;\n",
              "      --hover-bg-color: #E2EBFA;\n",
              "      --hover-fill-color: #174EA6;\n",
              "      --disabled-fill-color: #AAA;\n",
              "      --disabled-bg-color: #DDD;\n",
              "  }\n",
              "\n",
              "  [theme=dark] .colab-df-quickchart {\n",
              "      --bg-color: #3B4455;\n",
              "      --fill-color: #D2E3FC;\n",
              "      --hover-bg-color: #434B5C;\n",
              "      --hover-fill-color: #FFFFFF;\n",
              "      --disabled-bg-color: #3B4455;\n",
              "      --disabled-fill-color: #666;\n",
              "  }\n",
              "\n",
              "  .colab-df-quickchart {\n",
              "    background-color: var(--bg-color);\n",
              "    border: none;\n",
              "    border-radius: 50%;\n",
              "    cursor: pointer;\n",
              "    display: none;\n",
              "    fill: var(--fill-color);\n",
              "    height: 32px;\n",
              "    padding: 0;\n",
              "    width: 32px;\n",
              "  }\n",
              "\n",
              "  .colab-df-quickchart:hover {\n",
              "    background-color: var(--hover-bg-color);\n",
              "    box-shadow: 0 1px 2px rgba(60, 64, 67, 0.3), 0 1px 3px 1px rgba(60, 64, 67, 0.15);\n",
              "    fill: var(--button-hover-fill-color);\n",
              "  }\n",
              "\n",
              "  .colab-df-quickchart-complete:disabled,\n",
              "  .colab-df-quickchart-complete:disabled:hover {\n",
              "    background-color: var(--disabled-bg-color);\n",
              "    fill: var(--disabled-fill-color);\n",
              "    box-shadow: none;\n",
              "  }\n",
              "\n",
              "  .colab-df-spinner {\n",
              "    border: 2px solid var(--fill-color);\n",
              "    border-color: transparent;\n",
              "    border-bottom-color: var(--fill-color);\n",
              "    animation:\n",
              "      spin 1s steps(1) infinite;\n",
              "  }\n",
              "\n",
              "  @keyframes spin {\n",
              "    0% {\n",
              "      border-color: transparent;\n",
              "      border-bottom-color: var(--fill-color);\n",
              "      border-left-color: var(--fill-color);\n",
              "    }\n",
              "    20% {\n",
              "      border-color: transparent;\n",
              "      border-left-color: var(--fill-color);\n",
              "      border-top-color: var(--fill-color);\n",
              "    }\n",
              "    30% {\n",
              "      border-color: transparent;\n",
              "      border-left-color: var(--fill-color);\n",
              "      border-top-color: var(--fill-color);\n",
              "      border-right-color: var(--fill-color);\n",
              "    }\n",
              "    40% {\n",
              "      border-color: transparent;\n",
              "      border-right-color: var(--fill-color);\n",
              "      border-top-color: var(--fill-color);\n",
              "    }\n",
              "    60% {\n",
              "      border-color: transparent;\n",
              "      border-right-color: var(--fill-color);\n",
              "    }\n",
              "    80% {\n",
              "      border-color: transparent;\n",
              "      border-right-color: var(--fill-color);\n",
              "      border-bottom-color: var(--fill-color);\n",
              "    }\n",
              "    90% {\n",
              "      border-color: transparent;\n",
              "      border-bottom-color: var(--fill-color);\n",
              "    }\n",
              "  }\n",
              "</style>\n",
              "\n",
              "  <script>\n",
              "    async function quickchart(key) {\n",
              "      const quickchartButtonEl =\n",
              "        document.querySelector('#' + key + ' button');\n",
              "      quickchartButtonEl.disabled = true;  // To prevent multiple clicks.\n",
              "      quickchartButtonEl.classList.add('colab-df-spinner');\n",
              "      try {\n",
              "        const charts = await google.colab.kernel.invokeFunction(\n",
              "            'suggestCharts', [key], {});\n",
              "      } catch (error) {\n",
              "        console.error('Error during call to suggestCharts:', error);\n",
              "      }\n",
              "      quickchartButtonEl.classList.remove('colab-df-spinner');\n",
              "      quickchartButtonEl.classList.add('colab-df-quickchart-complete');\n",
              "    }\n",
              "    (() => {\n",
              "      let quickchartButtonEl =\n",
              "        document.querySelector('#df-dde2a9e2-6cb1-4442-b36c-0940479ae002 button');\n",
              "      quickchartButtonEl.style.display =\n",
              "        google.colab.kernel.accessAllowed ? 'block' : 'none';\n",
              "    })();\n",
              "  </script>\n",
              "</div>\n",
              "    </div>\n",
              "  </div>\n"
            ],
            "application/vnd.google.colaboratory.intrinsic+json": {
              "type": "dataframe",
              "variable_name": "df_basic",
              "summary": "{\n  \"name\": \"df_basic\",\n  \"rows\": 1328,\n  \"fields\": [\n    {\n      \"column\": \"order_id\",\n      \"properties\": {\n        \"dtype\": \"number\",\n        \"std\": 257349633,\n        \"min\": 100640618,\n        \"max\": 999879729,\n        \"num_unique_values\": 1328,\n        \"samples\": [\n          913729751,\n          174614226,\n          743769109\n        ],\n        \"semantic_type\": \"\",\n        \"description\": \"\"\n      }\n    },\n    {\n      \"column\": \"order_date\",\n      \"properties\": {\n        \"dtype\": \"date\",\n        \"min\": \"2010-01-01 00:00:00\",\n        \"max\": \"2017-07-23 00:00:00\",\n        \"num_unique_values\": 1049,\n        \"samples\": [\n          \"2016-06-27 00:00:00\",\n          \"2013-06-25 00:00:00\",\n          \"2016-03-28 00:00:00\"\n        ],\n        \"semantic_type\": \"\",\n        \"description\": \"\"\n      }\n    },\n    {\n      \"column\": \"ship_date\",\n      \"properties\": {\n        \"dtype\": \"date\",\n        \"min\": \"2010-01-10 00:00:00\",\n        \"max\": \"2017-08-31 00:00:00\",\n        \"num_unique_values\": 1069,\n        \"samples\": [\n          \"2015-06-23 00:00:00\",\n          \"2014-05-01 00:00:00\",\n          \"2017-03-14 00:00:00\"\n        ],\n        \"semantic_type\": \"\",\n        \"description\": \"\"\n      }\n    },\n    {\n      \"column\": \"order_priority\",\n      \"properties\": {\n        \"dtype\": \"category\",\n        \"num_unique_values\": 6,\n        \"samples\": [\n          \"M\",\n          \"C\",\n          \"M \"\n        ],\n        \"semantic_type\": \"\",\n        \"description\": \"\"\n      }\n    },\n    {\n      \"column\": \"country_code\",\n      \"properties\": {\n        \"dtype\": \"category\",\n        \"num_unique_values\": 46,\n        \"samples\": [\n          \"ALB\",\n          \"EST\",\n          \"AUT\"\n        ],\n        \"semantic_type\": \"\",\n        \"description\": \"\"\n      }\n    },\n    {\n      \"column\": \"product_id\",\n      \"properties\": {\n        \"dtype\": \"number\",\n        \"std\": 2820,\n        \"min\": 1270,\n        \"max\": 8969,\n        \"num_unique_values\": 12,\n        \"samples\": [\n          8969,\n          8293,\n          2103\n        ],\n        \"semantic_type\": \"\",\n        \"description\": \"\"\n      }\n    },\n    {\n      \"column\": \"sales_channel\",\n      \"properties\": {\n        \"dtype\": \"category\",\n        \"num_unique_values\": 3,\n        \"samples\": [\n          \"Online\",\n          \"Offline\",\n          \"online\"\n        ],\n        \"semantic_type\": \"\",\n        \"description\": \"\"\n      }\n    },\n    {\n      \"column\": \"units_sold\",\n      \"properties\": {\n        \"dtype\": \"number\",\n        \"std\": 2905.198996399036,\n        \"min\": 2.0,\n        \"max\": 9999.0,\n        \"num_unique_values\": 1239,\n        \"samples\": [\n          4681.0,\n          7069.0,\n          7923.0\n        ],\n        \"semantic_type\": \"\",\n        \"description\": \"\"\n      }\n    },\n    {\n      \"column\": \"unit_price\",\n      \"properties\": {\n        \"dtype\": \"number\",\n        \"std\": 217.3863199939379,\n        \"min\": 9.33,\n        \"max\": 668.27,\n        \"num_unique_values\": 12,\n        \"samples\": [\n          152.58,\n          437.2,\n          205.7\n        ],\n        \"semantic_type\": \"\",\n        \"description\": \"\"\n      }\n    },\n    {\n      \"column\": \"unit_cost\",\n      \"properties\": {\n        \"dtype\": \"number\",\n        \"std\": 176.1878011043068,\n        \"min\": 6.92,\n        \"max\": 524.96,\n        \"num_unique_values\": 12,\n        \"samples\": [\n          97.44,\n          263.33,\n          117.11\n        ],\n        \"semantic_type\": \"\",\n        \"description\": \"\"\n      }\n    },\n    {\n      \"column\": \"item_type\",\n      \"properties\": {\n        \"dtype\": \"category\",\n        \"num_unique_values\": 12,\n        \"samples\": [\n          \"Snacks\",\n          \"Cosmetics\",\n          \"Cereal\"\n        ],\n        \"semantic_type\": \"\",\n        \"description\": \"\"\n      }\n    },\n    {\n      \"column\": \"country\",\n      \"properties\": {\n        \"dtype\": \"category\",\n        \"num_unique_values\": 46,\n        \"samples\": [\n          \"Albania\",\n          \"Estonia\",\n          \"Austria\"\n        ],\n        \"semantic_type\": \"\",\n        \"description\": \"\"\n      }\n    },\n    {\n      \"column\": \"region\",\n      \"properties\": {\n        \"dtype\": \"category\",\n        \"num_unique_values\": 3,\n        \"samples\": [\n          \"Europe\",\n          \"Other\",\n          \"Asia\"\n        ],\n        \"semantic_type\": \"\",\n        \"description\": \"\"\n      }\n    },\n    {\n      \"column\": \"sub_region\",\n      \"properties\": {\n        \"dtype\": \"category\",\n        \"num_unique_values\": 6,\n        \"samples\": [\n          \"Northern Europe\",\n          \"Southern Europe\",\n          \"Western Asia\"\n        ],\n        \"semantic_type\": \"\",\n        \"description\": \"\"\n      }\n    }\n  ]\n}"
            }
          },
          "metadata": {},
          "execution_count": 46
        }
      ],
      "source": [
        "df_basic.head()"
      ]
    },
    {
      "cell_type": "code",
      "execution_count": 47,
      "metadata": {
        "colab": {
          "base_uri": "https://localhost:8080/"
        },
        "id": "9a57xFhrw3Sx",
        "outputId": "4c81f108-420f-450c-ef07-4b832b60ab4e"
      },
      "outputs": [
        {
          "output_type": "stream",
          "name": "stdout",
          "text": [
            "Total revenue:1702129408.21\n"
          ]
        }
      ],
      "source": [
        "total_revenue = df_basic['units_sold']*df_basic['unit_price']\n",
        "print(f\"Total revenue:{total_revenue.sum()}\")"
      ]
    },
    {
      "cell_type": "markdown",
      "metadata": {
        "id": "f6ALqJyI2fLK"
      },
      "source": [
        "Маємо досить великий Total Revenue (1702129408.21$), що вказує на досить значні обсяги прожажів.Однак. високий рівень доходу не означає високу прибутковість."
      ]
    },
    {
      "cell_type": "code",
      "execution_count": 48,
      "metadata": {
        "colab": {
          "base_uri": "https://localhost:8080/"
        },
        "id": "2V2bGLIDy3cM",
        "outputId": "7c56daf9-988e-4d94-e425-65df310d8392"
      },
      "outputs": [
        {
          "output_type": "stream",
          "name": "stdout",
          "text": [
            "Total cost:1200694949.21\n"
          ]
        }
      ],
      "source": [
        "total_cost = df_basic['units_sold']*df_basic['unit_cost']\n",
        "print(f\"Total cost:{total_cost.sum()}\")"
      ]
    },
    {
      "cell_type": "code",
      "execution_count": 49,
      "metadata": {
        "colab": {
          "base_uri": "https://localhost:8080/"
        },
        "id": "Ka5_HhjlzWjP",
        "outputId": "1250b9c0-7282-46a0-e06b-d12a54d61a87"
      },
      "outputs": [
        {
          "output_type": "stream",
          "name": "stdout",
          "text": [
            "Total profit:501434459.0\n"
          ]
        }
      ],
      "source": [
        "total_profit=total_revenue-total_cost\n",
        "print(f\"Total profit:{total_profit.sum()}\")"
      ]
    },
    {
      "cell_type": "code",
      "execution_count": 50,
      "metadata": {
        "colab": {
          "base_uri": "https://localhost:8080/"
        },
        "id": "IYnmnTjWz5bK",
        "outputId": "4e6393fd-3906-4697-c44d-7b9151fd305b"
      },
      "outputs": [
        {
          "output_type": "stream",
          "name": "stdout",
          "text": [
            "Profitability:29.45924420207982%\n"
          ]
        }
      ],
      "source": [
        "profitability=(total_profit.sum()/total_revenue.sum())*100\n",
        "print(f\"Profitability:{profitability}%\")"
      ]
    },
    {
      "cell_type": "markdown",
      "metadata": {
        "id": "Bh2fZY3V17q6"
      },
      "source": [
        "Рівень рентабельності 29,46% є досить хорошим показником для компанії, це 0,30 $ прибутку з кожного заробленого долара."
      ]
    },
    {
      "cell_type": "code",
      "execution_count": 51,
      "metadata": {
        "colab": {
          "base_uri": "https://localhost:8080/"
        },
        "id": "_YjgBUFO0rCN",
        "outputId": "43f740af-ccbd-43f6-b163-fc5cc534c152"
      },
      "outputs": [
        {
          "output_type": "stream",
          "name": "stdout",
          "text": [
            "Persetn cost/revenue:70.54075579792017%\n"
          ]
        }
      ],
      "source": [
        "persent_cost_revenue=(total_cost.sum()/total_revenue.sum())*100\n",
        "print(f\"Persetn cost/revenue:{persent_cost_revenue}%\")"
      ]
    },
    {
      "cell_type": "markdown",
      "metadata": {
        "id": "tY0vAEd-2TPM"
      },
      "source": [
        "Значну частину від загального доходу становлять витрати ( 70,54%), це сідчить про те що витрачається дуже багато ресурсів для досягнення таких обсягів продажу."
      ]
    },
    {
      "cell_type": "code",
      "execution_count": 52,
      "metadata": {
        "colab": {
          "base_uri": "https://localhost:8080/"
        },
        "id": "qtkYfzBR2NNs",
        "outputId": "2d9e9973-7b3c-40e6-8f6c-dc9991615c2f"
      },
      "outputs": [
        {
          "output_type": "stream",
          "name": "stdout",
          "text": [
            "Total count orders:1328\n"
          ]
        }
      ],
      "source": [
        "total_count_orders=df_basic['order_id'].count()\n",
        "print(f\"Total count orders:{total_count_orders}\")"
      ]
    },
    {
      "cell_type": "code",
      "execution_count": 53,
      "metadata": {
        "colab": {
          "base_uri": "https://localhost:8080/"
        },
        "id": "-R6_ucfL3iz3",
        "outputId": "e4cf40cd-c79e-4bd6-aa49-6f4ee84fc8d4"
      },
      "outputs": [
        {
          "output_type": "stream",
          "name": "stdout",
          "text": [
            "Total units sold:6576524.0\n"
          ]
        }
      ],
      "source": [
        "total_units_sold=df_basic['units_sold'].sum()\n",
        "print(f\"Total units sold:{total_units_sold}\")"
      ]
    },
    {
      "cell_type": "code",
      "execution_count": 54,
      "metadata": {
        "colab": {
          "base_uri": "https://localhost:8080/"
        },
        "id": "j5Oo2szt4FVt",
        "outputId": "5dbe47fe-15de-4805-e448-b305ff1fcaed"
      },
      "outputs": [
        {
          "output_type": "stream",
          "name": "stdout",
          "text": [
            "Count countries covered:46\n"
          ]
        }
      ],
      "source": [
        "countries_covered=df_basic['country'].nunique()\n",
        "print(f\"Count countries covered:{countries_covered}\")"
      ]
    },
    {
      "cell_type": "code",
      "execution_count": 55,
      "metadata": {
        "colab": {
          "base_uri": "https://localhost:8080/"
        },
        "id": "TttuHDek4mjP",
        "outputId": "3811bd50-be7f-4cdb-d787-0ebf88930cb8"
      },
      "outputs": [
        {
          "output_type": "stream",
          "name": "stdout",
          "text": [
            "Regions covered :['Europe' 'Other' 'Asia']\n"
          ]
        }
      ],
      "source": [
        "region_covered=df_basic['region'].unique()\n",
        "print(f\"Regions covered :{region_covered}\")"
      ]
    },
    {
      "cell_type": "markdown",
      "metadata": {
        "id": "caaxuAaWjhVn"
      },
      "source": [
        "##Аналіз продажів:\n",
        "в розрізі: **категорій товару**"
      ]
    },
    {
      "cell_type": "code",
      "execution_count": 56,
      "metadata": {
        "colab": {
          "base_uri": "https://localhost:8080/"
        },
        "id": "MsoEnr1u7rbv",
        "outputId": "725f3c74-6f2d-4416-dda1-d14e0b30fef8"
      },
      "outputs": [
        {
          "output_type": "stream",
          "name": "stdout",
          "text": [
            "item_type\n",
            "Office Supplies    617641.0\n",
            "Beverages          613133.0\n",
            "Fruits             591672.0\n",
            "Clothes            591385.0\n",
            "Vegetables         582544.0\n",
            "Baby Food          562706.0\n",
            "Personal Care      557678.0\n",
            "Cosmetics          533291.0\n",
            "Meat               530380.0\n",
            "Snacks             490160.0\n",
            "Cereal             465685.0\n",
            "Household          440249.0\n",
            "Name: units_sold, dtype: float64\n"
          ]
        }
      ],
      "source": [
        "sales_by_category=df_basic.groupby('item_type')['units_sold'].sum().sort_values(ascending=False)\n",
        "print(sales_by_category)"
      ]
    },
    {
      "cell_type": "code",
      "execution_count": 57,
      "metadata": {
        "colab": {
          "base_uri": "https://localhost:8080/"
        },
        "id": "iaDKXW5rt606",
        "outputId": "c5076180-76c3-4c53-8ae9-7fe172c7c797"
      },
      "outputs": [
        {
          "output_type": "stream",
          "name": "stdout",
          "text": [
            "item_type\n",
            "Office Supplies    4.022140e+08\n",
            "Household          2.942052e+08\n",
            "Cosmetics          2.331548e+08\n",
            "Meat               2.237620e+08\n",
            "Baby Food          1.436476e+08\n",
            "Cereal             9.579140e+07\n",
            "Vegetables         8.974673e+07\n",
            "Snacks             7.478861e+07\n",
            "Clothes            6.462655e+07\n",
            "Personal Care      4.557902e+07\n",
            "Beverages          2.909316e+07\n",
            "Fruits             5.520300e+06\n",
            "Name: revenue, dtype: float64\n"
          ]
        }
      ],
      "source": [
        "revenue_by_category = (df_basic.assign(revenue=df_basic['units_sold'] * df_basic['unit_price']).groupby('item_type')['revenue'] .sum().sort_values(ascending=False))\n",
        "print(revenue_by_category)"
      ]
    },
    {
      "cell_type": "code",
      "execution_count": 58,
      "metadata": {
        "colab": {
          "base_uri": "https://localhost:8080/"
        },
        "id": "gSTaw0BTAfyv",
        "outputId": "c0239508-05de-413e-dbf1-5e8382a2c036"
      },
      "outputs": [
        {
          "output_type": "stream",
          "name": "stdout",
          "text": [
            "item_type\n",
            "Office Supplies    3.242368e+08\n",
            "Household          2.212427e+08\n",
            "Meat               1.934243e+08\n",
            "Cosmetics          1.404315e+08\n",
            "Baby Food          8.970659e+07\n",
            "Cereal             5.453637e+07\n",
            "Vegetables         5.297073e+07\n",
            "Snacks             4.776119e+07\n",
            "Personal Care      3.160361e+07\n",
            "Clothes            2.119524e+07\n",
            "Beverages          1.949150e+07\n",
            "Fruits             4.094370e+06\n",
            "Name: cost, dtype: float64\n"
          ]
        }
      ],
      "source": [
        "cost_by_category = (df_basic.assign(cost=df_basic['units_sold'] * df_basic['unit_cost']).groupby('item_type')['cost'] .sum().sort_values(ascending=False))\n",
        "print(cost_by_category)"
      ]
    },
    {
      "cell_type": "code",
      "execution_count": 59,
      "metadata": {
        "colab": {
          "base_uri": "https://localhost:8080/"
        },
        "id": "KU6uAceDDl9T",
        "outputId": "c94dfad4-3bc5-45d3-ad54-9046aa4b7ff6"
      },
      "outputs": [
        {
          "output_type": "stream",
          "name": "stdout",
          "text": [
            "item_type\n",
            "Cosmetics          92723306.17\n",
            "Office Supplies    77977176.25\n",
            "Household          72962466.77\n",
            "Baby Food          53940997.16\n",
            "Clothes            43431314.40\n",
            "Cereal             41255034.15\n",
            "Vegetables         36776002.72\n",
            "Meat               30337736.00\n",
            "Snacks             27027422.40\n",
            "Personal Care      13975410.68\n",
            "Beverages           9601662.78\n",
            "Fruits              1425929.52\n",
            "dtype: float64\n"
          ]
        }
      ],
      "source": [
        "profit_by_category=(revenue_by_category-cost_by_category).sort_values(ascending=False)\n",
        "print(profit_by_category)"
      ]
    },
    {
      "cell_type": "code",
      "execution_count": 60,
      "metadata": {
        "colab": {
          "base_uri": "https://localhost:8080/"
        },
        "id": "E1U8JLIrXE0l",
        "outputId": "e3d7ddbe-a516-4651-8a0a-3953b4657423"
      },
      "outputs": [
        {
          "output_type": "stream",
          "name": "stdout",
          "text": [
            "item_type\n",
            "Baby Food          37.550924\n",
            "Beverages          33.003161\n",
            "Cereal             43.067574\n",
            "Clothes            67.203514\n",
            "Cosmetics          39.768984\n",
            "Fruits             25.830654\n",
            "Household          24.799856\n",
            "Meat               13.558036\n",
            "Office Supplies    19.386987\n",
            "Personal Care      30.661936\n",
            "Snacks             36.138419\n",
            "Vegetables         40.977541\n",
            "dtype: float64\n"
          ]
        }
      ],
      "source": [
        "profitability_by_profit=(profit_by_category/revenue_by_category)*100\n",
        "print(profitability_by_profit)"
      ]
    },
    {
      "cell_type": "code",
      "execution_count": 61,
      "metadata": {
        "id": "Gfg4zjGdK44u"
      },
      "outputs": [],
      "source": [
        "import pandas as pd\n",
        "import seaborn as sns\n",
        "import matplotlib.pyplot as plt"
      ]
    },
    {
      "cell_type": "code",
      "execution_count": 62,
      "metadata": {
        "id": "UuFlwsHLUlnb"
      },
      "outputs": [],
      "source": [
        "df_category = pd.DataFrame({\n",
        "    \"sales_by_category\": sales_by_category,\n",
        "    \"revenue_by_category\": revenue_by_category,\n",
        "    \"cost_by_category\": cost_by_category,\n",
        "    \"profit_by_category\": profit_by_category,\n",
        "    \"profitability_by_profit\": profitability_by_profit\n",
        "}).reset_index()"
      ]
    },
    {
      "cell_type": "code",
      "execution_count": 63,
      "metadata": {
        "colab": {
          "base_uri": "https://localhost:8080/"
        },
        "id": "94kC4FljVS4W",
        "outputId": "e348629e-67d9-4e82-ce62-5139b46fe78b"
      },
      "outputs": [
        {
          "output_type": "stream",
          "name": "stdout",
          "text": [
            "          item_type  sales_by_category  revenue_by_category  cost_by_category  \\\n",
            "0         Baby Food           562706.0         1.436476e+08      8.970659e+07   \n",
            "1         Beverages           613133.0         2.909316e+07      1.949150e+07   \n",
            "2            Cereal           465685.0         9.579140e+07      5.453637e+07   \n",
            "3           Clothes           591385.0         6.462655e+07      2.119524e+07   \n",
            "4         Cosmetics           533291.0         2.331548e+08      1.404315e+08   \n",
            "5            Fruits           591672.0         5.520300e+06      4.094370e+06   \n",
            "6         Household           440249.0         2.942052e+08      2.212427e+08   \n",
            "7              Meat           530380.0         2.237620e+08      1.934243e+08   \n",
            "8   Office Supplies           617641.0         4.022140e+08      3.242368e+08   \n",
            "9     Personal Care           557678.0         4.557902e+07      3.160361e+07   \n",
            "10           Snacks           490160.0         7.478861e+07      4.776119e+07   \n",
            "11       Vegetables           582544.0         8.974673e+07      5.297073e+07   \n",
            "\n",
            "    profit_by_category  profitability_by_profit  \n",
            "0          53940997.16                37.550924  \n",
            "1           9601662.78                33.003161  \n",
            "2          41255034.15                43.067574  \n",
            "3          43431314.40                67.203514  \n",
            "4          92723306.17                39.768984  \n",
            "5           1425929.52                25.830654  \n",
            "6          72962466.77                24.799856  \n",
            "7          30337736.00                13.558036  \n",
            "8          77977176.25                19.386987  \n",
            "9          13975410.68                30.661936  \n",
            "10         27027422.40                36.138419  \n",
            "11         36776002.72                40.977541  \n"
          ]
        }
      ],
      "source": [
        "print(df_category)"
      ]
    },
    {
      "cell_type": "code",
      "execution_count": 64,
      "metadata": {
        "colab": {
          "base_uri": "https://localhost:8080/",
          "height": 300
        },
        "id": "jVYPakRab5cV",
        "outputId": "5a1b16be-2596-44a7-cccc-d2f505db704f"
      },
      "outputs": [
        {
          "output_type": "execute_result",
          "data": {
            "text/plain": [
              "       sales_by_category  revenue_by_category  cost_by_category  \\\n",
              "count          12.000000         1.200000e+01      1.200000e+01   \n",
              "mean       548043.666667         1.418441e+08      1.000579e+08   \n",
              "std         57716.545178         1.213244e+08      9.955630e+07   \n",
              "min        440249.000000         5.520300e+06      4.094370e+06   \n",
              "25%        520325.000000         5.986467e+07      2.900152e+07   \n",
              "50%        560192.000000         9.276907e+07      5.375355e+07   \n",
              "75%        591456.750000         2.261102e+08      1.536797e+08   \n",
              "max        617641.000000         4.022140e+08      3.242368e+08   \n",
              "\n",
              "       profit_by_category  profitability_by_profit  \n",
              "count        1.200000e+01                12.000000  \n",
              "mean         4.178620e+07                34.328966  \n",
              "std          2.834734e+07                13.742687  \n",
              "min          1.425930e+06                13.558036  \n",
              "25%          2.376442e+07                25.572954  \n",
              "50%          3.901552e+07                34.570790  \n",
              "75%          5.869636e+07                40.071124  \n",
              "max          9.272331e+07                67.203514  "
            ],
            "text/html": [
              "\n",
              "  <div id=\"df-41ac6eaa-2669-4eb2-943a-54559bc9f8d5\" class=\"colab-df-container\">\n",
              "    <div>\n",
              "<style scoped>\n",
              "    .dataframe tbody tr th:only-of-type {\n",
              "        vertical-align: middle;\n",
              "    }\n",
              "\n",
              "    .dataframe tbody tr th {\n",
              "        vertical-align: top;\n",
              "    }\n",
              "\n",
              "    .dataframe thead th {\n",
              "        text-align: right;\n",
              "    }\n",
              "</style>\n",
              "<table border=\"1\" class=\"dataframe\">\n",
              "  <thead>\n",
              "    <tr style=\"text-align: right;\">\n",
              "      <th></th>\n",
              "      <th>sales_by_category</th>\n",
              "      <th>revenue_by_category</th>\n",
              "      <th>cost_by_category</th>\n",
              "      <th>profit_by_category</th>\n",
              "      <th>profitability_by_profit</th>\n",
              "    </tr>\n",
              "  </thead>\n",
              "  <tbody>\n",
              "    <tr>\n",
              "      <th>count</th>\n",
              "      <td>12.000000</td>\n",
              "      <td>1.200000e+01</td>\n",
              "      <td>1.200000e+01</td>\n",
              "      <td>1.200000e+01</td>\n",
              "      <td>12.000000</td>\n",
              "    </tr>\n",
              "    <tr>\n",
              "      <th>mean</th>\n",
              "      <td>548043.666667</td>\n",
              "      <td>1.418441e+08</td>\n",
              "      <td>1.000579e+08</td>\n",
              "      <td>4.178620e+07</td>\n",
              "      <td>34.328966</td>\n",
              "    </tr>\n",
              "    <tr>\n",
              "      <th>std</th>\n",
              "      <td>57716.545178</td>\n",
              "      <td>1.213244e+08</td>\n",
              "      <td>9.955630e+07</td>\n",
              "      <td>2.834734e+07</td>\n",
              "      <td>13.742687</td>\n",
              "    </tr>\n",
              "    <tr>\n",
              "      <th>min</th>\n",
              "      <td>440249.000000</td>\n",
              "      <td>5.520300e+06</td>\n",
              "      <td>4.094370e+06</td>\n",
              "      <td>1.425930e+06</td>\n",
              "      <td>13.558036</td>\n",
              "    </tr>\n",
              "    <tr>\n",
              "      <th>25%</th>\n",
              "      <td>520325.000000</td>\n",
              "      <td>5.986467e+07</td>\n",
              "      <td>2.900152e+07</td>\n",
              "      <td>2.376442e+07</td>\n",
              "      <td>25.572954</td>\n",
              "    </tr>\n",
              "    <tr>\n",
              "      <th>50%</th>\n",
              "      <td>560192.000000</td>\n",
              "      <td>9.276907e+07</td>\n",
              "      <td>5.375355e+07</td>\n",
              "      <td>3.901552e+07</td>\n",
              "      <td>34.570790</td>\n",
              "    </tr>\n",
              "    <tr>\n",
              "      <th>75%</th>\n",
              "      <td>591456.750000</td>\n",
              "      <td>2.261102e+08</td>\n",
              "      <td>1.536797e+08</td>\n",
              "      <td>5.869636e+07</td>\n",
              "      <td>40.071124</td>\n",
              "    </tr>\n",
              "    <tr>\n",
              "      <th>max</th>\n",
              "      <td>617641.000000</td>\n",
              "      <td>4.022140e+08</td>\n",
              "      <td>3.242368e+08</td>\n",
              "      <td>9.272331e+07</td>\n",
              "      <td>67.203514</td>\n",
              "    </tr>\n",
              "  </tbody>\n",
              "</table>\n",
              "</div>\n",
              "    <div class=\"colab-df-buttons\">\n",
              "\n",
              "  <div class=\"colab-df-container\">\n",
              "    <button class=\"colab-df-convert\" onclick=\"convertToInteractive('df-41ac6eaa-2669-4eb2-943a-54559bc9f8d5')\"\n",
              "            title=\"Convert this dataframe to an interactive table.\"\n",
              "            style=\"display:none;\">\n",
              "\n",
              "  <svg xmlns=\"http://www.w3.org/2000/svg\" height=\"24px\" viewBox=\"0 -960 960 960\">\n",
              "    <path d=\"M120-120v-720h720v720H120Zm60-500h600v-160H180v160Zm220 220h160v-160H400v160Zm0 220h160v-160H400v160ZM180-400h160v-160H180v160Zm440 0h160v-160H620v160ZM180-180h160v-160H180v160Zm440 0h160v-160H620v160Z\"/>\n",
              "  </svg>\n",
              "    </button>\n",
              "\n",
              "  <style>\n",
              "    .colab-df-container {\n",
              "      display:flex;\n",
              "      gap: 12px;\n",
              "    }\n",
              "\n",
              "    .colab-df-convert {\n",
              "      background-color: #E8F0FE;\n",
              "      border: none;\n",
              "      border-radius: 50%;\n",
              "      cursor: pointer;\n",
              "      display: none;\n",
              "      fill: #1967D2;\n",
              "      height: 32px;\n",
              "      padding: 0 0 0 0;\n",
              "      width: 32px;\n",
              "    }\n",
              "\n",
              "    .colab-df-convert:hover {\n",
              "      background-color: #E2EBFA;\n",
              "      box-shadow: 0px 1px 2px rgba(60, 64, 67, 0.3), 0px 1px 3px 1px rgba(60, 64, 67, 0.15);\n",
              "      fill: #174EA6;\n",
              "    }\n",
              "\n",
              "    .colab-df-buttons div {\n",
              "      margin-bottom: 4px;\n",
              "    }\n",
              "\n",
              "    [theme=dark] .colab-df-convert {\n",
              "      background-color: #3B4455;\n",
              "      fill: #D2E3FC;\n",
              "    }\n",
              "\n",
              "    [theme=dark] .colab-df-convert:hover {\n",
              "      background-color: #434B5C;\n",
              "      box-shadow: 0px 1px 3px 1px rgba(0, 0, 0, 0.15);\n",
              "      filter: drop-shadow(0px 1px 2px rgba(0, 0, 0, 0.3));\n",
              "      fill: #FFFFFF;\n",
              "    }\n",
              "  </style>\n",
              "\n",
              "    <script>\n",
              "      const buttonEl =\n",
              "        document.querySelector('#df-41ac6eaa-2669-4eb2-943a-54559bc9f8d5 button.colab-df-convert');\n",
              "      buttonEl.style.display =\n",
              "        google.colab.kernel.accessAllowed ? 'block' : 'none';\n",
              "\n",
              "      async function convertToInteractive(key) {\n",
              "        const element = document.querySelector('#df-41ac6eaa-2669-4eb2-943a-54559bc9f8d5');\n",
              "        const dataTable =\n",
              "          await google.colab.kernel.invokeFunction('convertToInteractive',\n",
              "                                                    [key], {});\n",
              "        if (!dataTable) return;\n",
              "\n",
              "        const docLinkHtml = 'Like what you see? Visit the ' +\n",
              "          '<a target=\"_blank\" href=https://colab.research.google.com/notebooks/data_table.ipynb>data table notebook</a>'\n",
              "          + ' to learn more about interactive tables.';\n",
              "        element.innerHTML = '';\n",
              "        dataTable['output_type'] = 'display_data';\n",
              "        await google.colab.output.renderOutput(dataTable, element);\n",
              "        const docLink = document.createElement('div');\n",
              "        docLink.innerHTML = docLinkHtml;\n",
              "        element.appendChild(docLink);\n",
              "      }\n",
              "    </script>\n",
              "  </div>\n",
              "\n",
              "\n",
              "<div id=\"df-de047770-bdc8-46f5-b9dd-a2334b529691\">\n",
              "  <button class=\"colab-df-quickchart\" onclick=\"quickchart('df-de047770-bdc8-46f5-b9dd-a2334b529691')\"\n",
              "            title=\"Suggest charts\"\n",
              "            style=\"display:none;\">\n",
              "\n",
              "<svg xmlns=\"http://www.w3.org/2000/svg\" height=\"24px\"viewBox=\"0 0 24 24\"\n",
              "     width=\"24px\">\n",
              "    <g>\n",
              "        <path d=\"M19 3H5c-1.1 0-2 .9-2 2v14c0 1.1.9 2 2 2h14c1.1 0 2-.9 2-2V5c0-1.1-.9-2-2-2zM9 17H7v-7h2v7zm4 0h-2V7h2v10zm4 0h-2v-4h2v4z\"/>\n",
              "    </g>\n",
              "</svg>\n",
              "  </button>\n",
              "\n",
              "<style>\n",
              "  .colab-df-quickchart {\n",
              "      --bg-color: #E8F0FE;\n",
              "      --fill-color: #1967D2;\n",
              "      --hover-bg-color: #E2EBFA;\n",
              "      --hover-fill-color: #174EA6;\n",
              "      --disabled-fill-color: #AAA;\n",
              "      --disabled-bg-color: #DDD;\n",
              "  }\n",
              "\n",
              "  [theme=dark] .colab-df-quickchart {\n",
              "      --bg-color: #3B4455;\n",
              "      --fill-color: #D2E3FC;\n",
              "      --hover-bg-color: #434B5C;\n",
              "      --hover-fill-color: #FFFFFF;\n",
              "      --disabled-bg-color: #3B4455;\n",
              "      --disabled-fill-color: #666;\n",
              "  }\n",
              "\n",
              "  .colab-df-quickchart {\n",
              "    background-color: var(--bg-color);\n",
              "    border: none;\n",
              "    border-radius: 50%;\n",
              "    cursor: pointer;\n",
              "    display: none;\n",
              "    fill: var(--fill-color);\n",
              "    height: 32px;\n",
              "    padding: 0;\n",
              "    width: 32px;\n",
              "  }\n",
              "\n",
              "  .colab-df-quickchart:hover {\n",
              "    background-color: var(--hover-bg-color);\n",
              "    box-shadow: 0 1px 2px rgba(60, 64, 67, 0.3), 0 1px 3px 1px rgba(60, 64, 67, 0.15);\n",
              "    fill: var(--button-hover-fill-color);\n",
              "  }\n",
              "\n",
              "  .colab-df-quickchart-complete:disabled,\n",
              "  .colab-df-quickchart-complete:disabled:hover {\n",
              "    background-color: var(--disabled-bg-color);\n",
              "    fill: var(--disabled-fill-color);\n",
              "    box-shadow: none;\n",
              "  }\n",
              "\n",
              "  .colab-df-spinner {\n",
              "    border: 2px solid var(--fill-color);\n",
              "    border-color: transparent;\n",
              "    border-bottom-color: var(--fill-color);\n",
              "    animation:\n",
              "      spin 1s steps(1) infinite;\n",
              "  }\n",
              "\n",
              "  @keyframes spin {\n",
              "    0% {\n",
              "      border-color: transparent;\n",
              "      border-bottom-color: var(--fill-color);\n",
              "      border-left-color: var(--fill-color);\n",
              "    }\n",
              "    20% {\n",
              "      border-color: transparent;\n",
              "      border-left-color: var(--fill-color);\n",
              "      border-top-color: var(--fill-color);\n",
              "    }\n",
              "    30% {\n",
              "      border-color: transparent;\n",
              "      border-left-color: var(--fill-color);\n",
              "      border-top-color: var(--fill-color);\n",
              "      border-right-color: var(--fill-color);\n",
              "    }\n",
              "    40% {\n",
              "      border-color: transparent;\n",
              "      border-right-color: var(--fill-color);\n",
              "      border-top-color: var(--fill-color);\n",
              "    }\n",
              "    60% {\n",
              "      border-color: transparent;\n",
              "      border-right-color: var(--fill-color);\n",
              "    }\n",
              "    80% {\n",
              "      border-color: transparent;\n",
              "      border-right-color: var(--fill-color);\n",
              "      border-bottom-color: var(--fill-color);\n",
              "    }\n",
              "    90% {\n",
              "      border-color: transparent;\n",
              "      border-bottom-color: var(--fill-color);\n",
              "    }\n",
              "  }\n",
              "</style>\n",
              "\n",
              "  <script>\n",
              "    async function quickchart(key) {\n",
              "      const quickchartButtonEl =\n",
              "        document.querySelector('#' + key + ' button');\n",
              "      quickchartButtonEl.disabled = true;  // To prevent multiple clicks.\n",
              "      quickchartButtonEl.classList.add('colab-df-spinner');\n",
              "      try {\n",
              "        const charts = await google.colab.kernel.invokeFunction(\n",
              "            'suggestCharts', [key], {});\n",
              "      } catch (error) {\n",
              "        console.error('Error during call to suggestCharts:', error);\n",
              "      }\n",
              "      quickchartButtonEl.classList.remove('colab-df-spinner');\n",
              "      quickchartButtonEl.classList.add('colab-df-quickchart-complete');\n",
              "    }\n",
              "    (() => {\n",
              "      let quickchartButtonEl =\n",
              "        document.querySelector('#df-de047770-bdc8-46f5-b9dd-a2334b529691 button');\n",
              "      quickchartButtonEl.style.display =\n",
              "        google.colab.kernel.accessAllowed ? 'block' : 'none';\n",
              "    })();\n",
              "  </script>\n",
              "</div>\n",
              "    </div>\n",
              "  </div>\n"
            ],
            "application/vnd.google.colaboratory.intrinsic+json": {
              "type": "dataframe",
              "summary": "{\n  \"name\": \"df_category\",\n  \"rows\": 8,\n  \"fields\": [\n    {\n      \"column\": \"sales_by_category\",\n      \"properties\": {\n        \"dtype\": \"number\",\n        \"std\": 245691.010374547,\n        \"min\": 12.0,\n        \"max\": 617641.0,\n        \"num_unique_values\": 8,\n        \"samples\": [\n          548043.6666666666,\n          560192.0,\n          12.0\n        ],\n        \"semantic_type\": \"\",\n        \"description\": \"\"\n      }\n    },\n    {\n      \"column\": \"revenue_by_category\",\n      \"properties\": {\n        \"dtype\": \"number\",\n        \"std\": 132148104.03086981,\n        \"min\": 12.0,\n        \"max\": 402213995.61,\n        \"num_unique_values\": 8,\n        \"samples\": [\n          141844117.35083333,\n          92769066.57,\n          12.0\n        ],\n        \"semantic_type\": \"\",\n        \"description\": \"\"\n      }\n    },\n    {\n      \"column\": \"cost_by_category\",\n      \"properties\": {\n        \"dtype\": \"number\",\n        \"std\": 106491228.56314787,\n        \"min\": 12.0,\n        \"max\": 324236819.36,\n        \"num_unique_values\": 8,\n        \"samples\": [\n          100057912.43416668,\n          53753548.135000005,\n          12.0\n        ],\n        \"semantic_type\": \"\",\n        \"description\": \"\"\n      }\n    },\n    {\n      \"column\": \"profit_by_category\",\n      \"properties\": {\n        \"dtype\": \"number\",\n        \"std\": 30412033.18218412,\n        \"min\": 12.0,\n        \"max\": 92723306.16999999,\n        \"num_unique_values\": 8,\n        \"samples\": [\n          41786204.916666664,\n          39015518.435,\n          12.0\n        ],\n        \"semantic_type\": \"\",\n        \"description\": \"\"\n      }\n    },\n    {\n      \"column\": \"profitability_by_profit\",\n      \"properties\": {\n        \"dtype\": \"number\",\n        \"std\": 18.528976729616613,\n        \"min\": 12.0,\n        \"max\": 67.203513909224,\n        \"num_unique_values\": 8,\n        \"samples\": [\n          34.328965678799236,\n          34.57079020613624,\n          12.0\n        ],\n        \"semantic_type\": \"\",\n        \"description\": \"\"\n      }\n    }\n  ]\n}"
            }
          },
          "metadata": {},
          "execution_count": 64
        }
      ],
      "source": [
        "df_category.describe()"
      ]
    },
    {
      "cell_type": "code",
      "execution_count": 65,
      "metadata": {
        "colab": {
          "base_uri": "https://localhost:8080/",
          "height": 608
        },
        "id": "y5Izg1urVYbL",
        "outputId": "af0b0265-d25f-4303-9831-274965da1ff0"
      },
      "outputs": [
        {
          "output_type": "stream",
          "name": "stderr",
          "text": [
            "<ipython-input-65-fff15a68b705>:3: FutureWarning: \n",
            "\n",
            "Passing `palette` without assigning `hue` is deprecated and will be removed in v0.14.0. Assign the `x` variable to `hue` and set `legend=False` for the same effect.\n",
            "\n",
            "  sns.barplot(x=\"item_type\", y=\"sales_by_category\", data=df_category, palette=\"viridis\")\n"
          ]
        },
        {
          "output_type": "display_data",
          "data": {
            "text/plain": [
              "<Figure size 1500x1000 with 1 Axes>"
            ],
            "image/png": "[encoded data removed]"
          },
          "metadata": {}
        }
      ],
      "source": [
        "plt.figure(figsize=(15, 10))\n",
        "plt.subplot(2, 2, 1)\n",
        "sns.barplot(x=\"item_type\", y=\"sales_by_category\", data=df_category, palette=\"viridis\")\n",
        "plt.title(\"Sales by Category\")\n",
        "plt.ylabel(\"Sales\")\n",
        "plt.xlabel(\"Category\")\n",
        "plt.xticks(rotation=45)\n",
        "plt.show()"
      ]
    },
    {
      "cell_type": "code",
      "execution_count": 66,
      "metadata": {
        "colab": {
          "base_uri": "https://localhost:8080/",
          "height": 541
        },
        "id": "FwcFNutIWC7z",
        "outputId": "19ba02dc-6c55-4422-81db-881113d26b18"
      },
      "outputs": [
        {
          "output_type": "display_data",
          "data": {
            "text/plain": [
              "<Figure size 640x480 with 1 Axes>"
            ],
            "image/png": "[encoded data removed]"
          },
          "metadata": {}
        }
      ],
      "source": [
        "plt.plot(df_category[\"item_type\"], df_category[\"profit_by_category\"],color=\"purple\", marker = \"o\")\n",
        "plt.title(\"Profitability by categories\")\n",
        "plt.xlabel(\"Category\")\n",
        "plt.ylabel(\"Profitability\")\n",
        "plt.xticks(rotation=45)\n",
        "plt.show()"
      ]
    },
    {
      "cell_type": "markdown",
      "source": [
        "Категорія Office Subblies має високу популярність та найбільші обсяги продажів (617,641 од.), відповідно генерує найбільший дохід (402,213,995.61 дол.), в той час як категорії Household та Cosmetics також займають значну частку ринку. Категорія Clothes має найвищий показник рентабельності (67.2%), це свідчить про значну частку прибутку від загального доходу по категорії. Meat категорія, має найменший показник рентабельності (13.6%), ймовірно через високі витрати по категорії.Категорія Fruits має найнижчий дохід (5,520,299.76 дол.) та прибуток (1,425,929.52 дол.), що свідчить про низьнкий попит або високу конкуренцію по цій категрої."
      ],
      "metadata": {
        "id": "QwHa184DVhm8"
      }
    },
    {
      "cell_type": "markdown",
      "metadata": {
        "id": "BWJJ6fiomkWT"
      },
      "source": [
        "**по країнах :**"
      ]
    },
    {
      "cell_type": "code",
      "execution_count": 67,
      "metadata": {
        "colab": {
          "base_uri": "https://localhost:8080/"
        },
        "id": "6HsBDuIckLZE",
        "outputId": "7036c7fd-0ef8-4e70-8214-7a6192b0f754"
      },
      "outputs": [
        {
          "output_type": "stream",
          "name": "stdout",
          "text": [
            "country\n",
            "Other                     404853.0\n",
            "Macedonia                 203078.0\n",
            "San Marino                192228.0\n",
            "Andorra                   185686.0\n",
            "Greece                    176859.0\n",
            "Malta                     173641.0\n",
            "Serbia                    170369.0\n",
            "Romania                   166882.0\n",
            "Russia                    165954.0\n",
            "Ukraine                   164577.0\n",
            "Cyprus                    158743.0\n",
            "Italy                     156781.0\n",
            "Slovenia                  156479.0\n",
            "Bosnia and Herzegovina    153545.0\n",
            "Belarus                   153432.0\n",
            "Hungary                   152242.0\n",
            "Armenia                   150665.0\n",
            "Latvia                    150525.0\n",
            "Bulgaria                  150088.0\n",
            "Austria                   145573.0\n",
            "Switzerland               144320.0\n",
            "Czech Republic            142446.0\n",
            "Ireland                   140340.0\n",
            "Norway                    138106.0\n",
            "Montenegro                137200.0\n",
            "France                    137043.0\n",
            "Sweden                    132251.0\n",
            "Slovakia                  131540.0\n",
            "Spain                     131109.0\n",
            "Germany                   130984.0\n",
            "Denmark                   127360.0\n",
            "Estonia                   126232.0\n",
            "Portugal                  124825.0\n",
            "Poland                    122650.0\n",
            "Belgium                   120506.0\n",
            "United Kingdom            115781.0\n",
            "Luxembourg                112682.0\n",
            "Lithuania                 110897.0\n",
            "Finland                   109915.0\n",
            "Georgia                   101019.0\n",
            "Netherlands                99490.0\n",
            "Liechtenstein              96101.0\n",
            "Iceland                    93551.0\n",
            "Albania                    90608.0\n",
            "Croatia                    73945.0\n",
            "Monaco                     53423.0\n",
            "Name: units_sold, dtype: float64\n"
          ]
        }
      ],
      "source": [
        "sales_by_country=df_basic.groupby('country')['units_sold'].sum().sort_values(ascending=False)\n",
        "print(sales_by_country)"
      ]
    },
    {
      "cell_type": "code",
      "execution_count": 68,
      "metadata": {
        "colab": {
          "base_uri": "https://localhost:8080/"
        },
        "id": "AnpIzzFCnJ7J",
        "outputId": "80c864a6-679c-4cf4-90e0-03467807b52a"
      },
      "outputs": [
        {
          "output_type": "stream",
          "name": "stdout",
          "text": [
            "country\n",
            "Other                     1.031456e+08\n",
            "Czech Republic            5.354393e+07\n",
            "Ukraine                   5.325232e+07\n",
            "Bosnia and Herzegovina    5.011751e+07\n",
            "Macedonia                 4.922209e+07\n",
            "San Marino                4.788371e+07\n",
            "Andorra                   4.775669e+07\n",
            "Portugal                  4.717219e+07\n",
            "Malta                     4.714532e+07\n",
            "Russia                    4.605166e+07\n",
            "Slovakia                  4.294100e+07\n",
            "Hungary                   4.240825e+07\n",
            "Serbia                    4.219354e+07\n",
            "France                    3.936211e+07\n",
            "Slovenia                  3.889253e+07\n",
            "Latvia                    3.872208e+07\n",
            "Greece                    3.869954e+07\n",
            "Bulgaria                  3.816156e+07\n",
            "Germany                   3.805509e+07\n",
            "Armenia                   3.751984e+07\n",
            "Italy                     3.587835e+07\n",
            "Austria                   3.574087e+07\n",
            "Sweden                    3.548213e+07\n",
            "Romania                   3.428615e+07\n",
            "Belarus                   3.423626e+07\n",
            "Poland                    3.380540e+07\n",
            "Luxembourg                3.307538e+07\n",
            "Ireland                   3.302222e+07\n",
            "Cyprus                    3.300885e+07\n",
            "Albania                   3.222485e+07\n",
            "Switzerland               3.187517e+07\n",
            "Norway                    3.152070e+07\n",
            "Montenegro                3.134648e+07\n",
            "Liechtenstein             2.987256e+07\n",
            "Lithuania                 2.903194e+07\n",
            "Croatia                   2.711919e+07\n",
            "Denmark                   2.696853e+07\n",
            "United Kingdom            2.665499e+07\n",
            "Spain                     2.638030e+07\n",
            "Finland                   2.602795e+07\n",
            "Belgium                   2.585257e+07\n",
            "Iceland                   2.557023e+07\n",
            "Estonia                   2.341000e+07\n",
            "Georgia                   2.280220e+07\n",
            "Netherlands               2.086079e+07\n",
            "Monaco                    1.382874e+07\n",
            "Name: revenue, dtype: float64\n"
          ]
        }
      ],
      "source": [
        "revenue_by_country = (df_basic.assign(revenue=df_basic['units_sold'] * df_basic['unit_price']).groupby('country')['revenue'] .sum().sort_values(ascending=False))\n",
        "print(revenue_by_country)"
      ]
    },
    {
      "cell_type": "code",
      "execution_count": 69,
      "metadata": {
        "colab": {
          "base_uri": "https://localhost:8080/"
        },
        "id": "wy-dAF4moGji",
        "outputId": "4f651dcd-607e-480a-92e3-75f8d4c9b215"
      },
      "outputs": [
        {
          "output_type": "stream",
          "name": "stdout",
          "text": [
            "country\n",
            "Other                     75420223.01\n",
            "Czech Republic            39908338.36\n",
            "Ukraine                   38447391.80\n",
            "Bosnia and Herzegovina    36859905.72\n",
            "Portugal                  35826782.25\n",
            "Macedonia                 35537985.30\n",
            "San Marino                34090715.67\n",
            "Russia                    32783977.17\n",
            "Malta                     32535192.93\n",
            "Andorra                   32346656.54\n",
            "Slovakia                  30888208.29\n",
            "Serbia                    30340023.36\n",
            "Hungary                   28622018.09\n",
            "France                    28519766.49\n",
            "Armenia                   28097487.03\n",
            "Latvia                    27962798.86\n",
            "Bulgaria                  27753213.09\n",
            "Slovenia                  26769006.75\n",
            "Germany                   26472168.46\n",
            "Greece                    26375091.57\n",
            "Austria                   25713361.85\n",
            "Italy                     24964430.15\n",
            "Sweden                    24326799.43\n",
            "Romania                   23492602.16\n",
            "Luxembourg                23204611.10\n",
            "Ireland                   23191857.60\n",
            "Poland                    23134302.23\n",
            "Cyprus                    22976630.94\n",
            "Belarus                   22383839.72\n",
            "Albania                   21734147.85\n",
            "Norway                    21644926.69\n",
            "Liechtenstein             21475153.30\n",
            "Lithuania                 21034644.27\n",
            "Switzerland               20837876.40\n",
            "Montenegro                20176816.34\n",
            "Croatia                   19800958.79\n",
            "Finland                   18502586.15\n",
            "Spain                     18378122.21\n",
            "Belgium                   18376512.16\n",
            "Iceland                   18292115.25\n",
            "Denmark                   17351114.46\n",
            "United Kingdom            17328677.26\n",
            "Georgia                   17104516.45\n",
            "Estonia                   15581408.23\n",
            "Netherlands               15098298.09\n",
            "Monaco                     9031689.39\n",
            "Name: cost, dtype: float64\n"
          ]
        }
      ],
      "source": [
        "cost_by_country = (df_basic.assign(cost=df_basic['units_sold'] * df_basic['unit_cost']).groupby('country')['cost'] .sum().sort_values(ascending=False))\n",
        "print(cost_by_country)"
      ]
    },
    {
      "cell_type": "code",
      "execution_count": 70,
      "metadata": {
        "colab": {
          "base_uri": "https://localhost:8080/"
        },
        "id": "TEYLR8QPpjG-",
        "outputId": "bdc930ad-502b-4800-f064-fda977844d7e"
      },
      "outputs": [
        {
          "output_type": "stream",
          "name": "stdout",
          "text": [
            "country\n",
            "Other                     27725423.94\n",
            "Andorra                   15410036.63\n",
            "Ukraine                   14804925.74\n",
            "Malta                     14610127.88\n",
            "San Marino                13792992.81\n",
            "Hungary                   13786231.03\n",
            "Macedonia                 13684099.95\n",
            "Czech Republic            13635593.78\n",
            "Russia                    13267682.64\n",
            "Bosnia and Herzegovina    13257602.77\n",
            "Greece                    12324450.13\n",
            "Slovenia                  12123524.52\n",
            "Slovakia                  12052790.03\n",
            "Serbia                    11853514.38\n",
            "Belarus                   11852421.05\n",
            "Germany                   11582919.10\n",
            "Portugal                  11345407.59\n",
            "Montenegro                11169660.56\n",
            "Sweden                    11155328.59\n",
            "Switzerland               11037297.60\n",
            "Italy                     10913921.97\n",
            "France                    10842345.66\n",
            "Romania                   10793548.69\n",
            "Latvia                    10759285.29\n",
            "Poland                    10671100.99\n",
            "Albania                   10490706.02\n",
            "Bulgaria                  10408342.61\n",
            "Cyprus                    10032220.56\n",
            "Austria                   10027509.64\n",
            "Norway                     9875771.81\n",
            "Luxembourg                 9870766.11\n",
            "Ireland                    9830365.71\n",
            "Denmark                    9617418.06\n",
            "Armenia                    9422353.18\n",
            "United Kingdom             9326312.21\n",
            "Liechtenstein              8397411.11\n",
            "Spain                      8002174.02\n",
            "Lithuania                  7997297.83\n",
            "Estonia                    7828593.56\n",
            "Finland                    7525362.83\n",
            "Belgium                    7476060.14\n",
            "Croatia                    7318229.45\n",
            "Iceland                    7278112.15\n",
            "Netherlands                5762490.70\n",
            "Georgia                    5697679.21\n",
            "Monaco                     4797048.77\n",
            "dtype: float64\n"
          ]
        }
      ],
      "source": [
        "profit_by_country=(revenue_by_country-cost_by_country).sort_values(ascending=False)\n",
        "print(profit_by_country)"
      ]
    },
    {
      "cell_type": "code",
      "execution_count": 71,
      "metadata": {
        "id": "Hbk54udkp7Er"
      },
      "outputs": [],
      "source": [
        "df_country = pd.DataFrame({\n",
        "    \"sales_by_country\": sales_by_country,\n",
        "    \"revenue_by_country\": revenue_by_country,\n",
        "    \"cost_by_country\": cost_by_country,\n",
        "    \"profit_by_country\": profit_by_country\n",
        "}).reset_index()"
      ]
    },
    {
      "cell_type": "code",
      "execution_count": 72,
      "metadata": {
        "colab": {
          "base_uri": "https://localhost:8080/",
          "height": 363
        },
        "id": "TW1UuT7Oq1Xf",
        "outputId": "50acc30d-577f-451e-93f8-64df65eccb4d"
      },
      "outputs": [
        {
          "output_type": "execute_result",
          "data": {
            "text/plain": [
              "                  country  sales_by_country  revenue_by_country  \\\n",
              "0                 Albania           90608.0         32224853.87   \n",
              "1                 Andorra          185686.0         47756693.17   \n",
              "2                 Armenia          150665.0         37519840.21   \n",
              "3                 Austria          145573.0         35740871.49   \n",
              "4                 Belarus          153432.0         34236260.77   \n",
              "5                 Belgium          120506.0         25852572.30   \n",
              "6  Bosnia and Herzegovina          153545.0         50117508.49   \n",
              "7                Bulgaria          150088.0         38161555.70   \n",
              "8                 Croatia           73945.0         27119188.24   \n",
              "9                  Cyprus          158743.0         33008851.50   \n",
              "\n",
              "   cost_by_country  profit_by_country  \n",
              "0      21734147.85        10490706.02  \n",
              "1      32346656.54        15410036.63  \n",
              "2      28097487.03         9422353.18  \n",
              "3      25713361.85        10027509.64  \n",
              "4      22383839.72        11852421.05  \n",
              "5      18376512.16         7476060.14  \n",
              "6      36859905.72        13257602.77  \n",
              "7      27753213.09        10408342.61  \n",
              "8      19800958.79         7318229.45  \n",
              "9      22976630.94        10032220.56  "
            ],
            "text/html": [
              "\n",
              "  <div id=\"df-6f2ef620-939b-4343-aa4b-e1a7efab46fe\" class=\"colab-df-container\">\n",
              "    <div>\n",
              "<style scoped>\n",
              "    .dataframe tbody tr th:only-of-type {\n",
              "        vertical-align: middle;\n",
              "    }\n",
              "\n",
              "    .dataframe tbody tr th {\n",
              "        vertical-align: top;\n",
              "    }\n",
              "\n",
              "    .dataframe thead th {\n",
              "        text-align: right;\n",
              "    }\n",
              "</style>\n",
              "<table border=\"1\" class=\"dataframe\">\n",
              "  <thead>\n",
              "    <tr style=\"text-align: right;\">\n",
              "      <th></th>\n",
              "      <th>country</th>\n",
              "      <th>sales_by_country</th>\n",
              "      <th>revenue_by_country</th>\n",
              "      <th>cost_by_country</th>\n",
              "      <th>profit_by_country</th>\n",
              "    </tr>\n",
              "  </thead>\n",
              "  <tbody>\n",
              "    <tr>\n",
              "      <th>0</th>\n",
              "      <td>Albania</td>\n",
              "      <td>90608.0</td>\n",
              "      <td>32224853.87</td>\n",
              "      <td>21734147.85</td>\n",
              "      <td>10490706.02</td>\n",
              "    </tr>\n",
              "    <tr>\n",
              "      <th>1</th>\n",
              "      <td>Andorra</td>\n",
              "      <td>185686.0</td>\n",
              "      <td>47756693.17</td>\n",
              "      <td>32346656.54</td>\n",
              "      <td>15410036.63</td>\n",
              "    </tr>\n",
              "    <tr>\n",
              "      <th>2</th>\n",
              "      <td>Armenia</td>\n",
              "      <td>150665.0</td>\n",
              "      <td>37519840.21</td>\n",
              "      <td>28097487.03</td>\n",
              "      <td>9422353.18</td>\n",
              "    </tr>\n",
              "    <tr>\n",
              "      <th>3</th>\n",
              "      <td>Austria</td>\n",
              "      <td>145573.0</td>\n",
              "      <td>35740871.49</td>\n",
              "      <td>25713361.85</td>\n",
              "      <td>10027509.64</td>\n",
              "    </tr>\n",
              "    <tr>\n",
              "      <th>4</th>\n",
              "      <td>Belarus</td>\n",
              "      <td>153432.0</td>\n",
              "      <td>34236260.77</td>\n",
              "      <td>22383839.72</td>\n",
              "      <td>11852421.05</td>\n",
              "    </tr>\n",
              "    <tr>\n",
              "      <th>5</th>\n",
              "      <td>Belgium</td>\n",
              "      <td>120506.0</td>\n",
              "      <td>25852572.30</td>\n",
              "      <td>18376512.16</td>\n",
              "      <td>7476060.14</td>\n",
              "    </tr>\n",
              "    <tr>\n",
              "      <th>6</th>\n",
              "      <td>Bosnia and Herzegovina</td>\n",
              "      <td>153545.0</td>\n",
              "      <td>50117508.49</td>\n",
              "      <td>36859905.72</td>\n",
              "      <td>13257602.77</td>\n",
              "    </tr>\n",
              "    <tr>\n",
              "      <th>7</th>\n",
              "      <td>Bulgaria</td>\n",
              "      <td>150088.0</td>\n",
              "      <td>38161555.70</td>\n",
              "      <td>27753213.09</td>\n",
              "      <td>10408342.61</td>\n",
              "    </tr>\n",
              "    <tr>\n",
              "      <th>8</th>\n",
              "      <td>Croatia</td>\n",
              "      <td>73945.0</td>\n",
              "      <td>27119188.24</td>\n",
              "      <td>19800958.79</td>\n",
              "      <td>7318229.45</td>\n",
              "    </tr>\n",
              "    <tr>\n",
              "      <th>9</th>\n",
              "      <td>Cyprus</td>\n",
              "      <td>158743.0</td>\n",
              "      <td>33008851.50</td>\n",
              "      <td>22976630.94</td>\n",
              "      <td>10032220.56</td>\n",
              "    </tr>\n",
              "  </tbody>\n",
              "</table>\n",
              "</div>\n",
              "    <div class=\"colab-df-buttons\">\n",
              "\n",
              "  <div class=\"colab-df-container\">\n",
              "    <button class=\"colab-df-convert\" onclick=\"convertToInteractive('df-6f2ef620-939b-4343-aa4b-e1a7efab46fe')\"\n",
              "            title=\"Convert this dataframe to an interactive table.\"\n",
              "            style=\"display:none;\">\n",
              "\n",
              "  <svg xmlns=\"http://www.w3.org/2000/svg\" height=\"24px\" viewBox=\"0 -960 960 960\">\n",
              "    <path d=\"M120-120v-720h720v720H120Zm60-500h600v-160H180v160Zm220 220h160v-160H400v160Zm0 220h160v-160H400v160ZM180-400h160v-160H180v160Zm440 0h160v-160H620v160ZM180-180h160v-160H180v160Zm440 0h160v-160H620v160Z\"/>\n",
              "  </svg>\n",
              "    </button>\n",
              "\n",
              "  <style>\n",
              "    .colab-df-container {\n",
              "      display:flex;\n",
              "      gap: 12px;\n",
              "    }\n",
              "\n",
              "    .colab-df-convert {\n",
              "      background-color: #E8F0FE;\n",
              "      border: none;\n",
              "      border-radius: 50%;\n",
              "      cursor: pointer;\n",
              "      display: none;\n",
              "      fill: #1967D2;\n",
              "      height: 32px;\n",
              "      padding: 0 0 0 0;\n",
              "      width: 32px;\n",
              "    }\n",
              "\n",
              "    .colab-df-convert:hover {\n",
              "      background-color: #E2EBFA;\n",
              "      box-shadow: 0px 1px 2px rgba(60, 64, 67, 0.3), 0px 1px 3px 1px rgba(60, 64, 67, 0.15);\n",
              "      fill: #174EA6;\n",
              "    }\n",
              "\n",
              "    .colab-df-buttons div {\n",
              "      margin-bottom: 4px;\n",
              "    }\n",
              "\n",
              "    [theme=dark] .colab-df-convert {\n",
              "      background-color: #3B4455;\n",
              "      fill: #D2E3FC;\n",
              "    }\n",
              "\n",
              "    [theme=dark] .colab-df-convert:hover {\n",
              "      background-color: #434B5C;\n",
              "      box-shadow: 0px 1px 3px 1px rgba(0, 0, 0, 0.15);\n",
              "      filter: drop-shadow(0px 1px 2px rgba(0, 0, 0, 0.3));\n",
              "      fill: #FFFFFF;\n",
              "    }\n",
              "  </style>\n",
              "\n",
              "    <script>\n",
              "      const buttonEl =\n",
              "        document.querySelector('#df-6f2ef620-939b-4343-aa4b-e1a7efab46fe button.colab-df-convert');\n",
              "      buttonEl.style.display =\n",
              "        google.colab.kernel.accessAllowed ? 'block' : 'none';\n",
              "\n",
              "      async function convertToInteractive(key) {\n",
              "        const element = document.querySelector('#df-6f2ef620-939b-4343-aa4b-e1a7efab46fe');\n",
              "        const dataTable =\n",
              "          await google.colab.kernel.invokeFunction('convertToInteractive',\n",
              "                                                    [key], {});\n",
              "        if (!dataTable) return;\n",
              "\n",
              "        const docLinkHtml = 'Like what you see? Visit the ' +\n",
              "          '<a target=\"_blank\" href=https://colab.research.google.com/notebooks/data_table.ipynb>data table notebook</a>'\n",
              "          + ' to learn more about interactive tables.';\n",
              "        element.innerHTML = '';\n",
              "        dataTable['output_type'] = 'display_data';\n",
              "        await google.colab.output.renderOutput(dataTable, element);\n",
              "        const docLink = document.createElement('div');\n",
              "        docLink.innerHTML = docLinkHtml;\n",
              "        element.appendChild(docLink);\n",
              "      }\n",
              "    </script>\n",
              "  </div>\n",
              "\n",
              "\n",
              "<div id=\"df-4c1f9154-34bf-4b31-973a-ab41adca2a77\">\n",
              "  <button class=\"colab-df-quickchart\" onclick=\"quickchart('df-4c1f9154-34bf-4b31-973a-ab41adca2a77')\"\n",
              "            title=\"Suggest charts\"\n",
              "            style=\"display:none;\">\n",
              "\n",
              "<svg xmlns=\"http://www.w3.org/2000/svg\" height=\"24px\"viewBox=\"0 0 24 24\"\n",
              "     width=\"24px\">\n",
              "    <g>\n",
              "        <path d=\"M19 3H5c-1.1 0-2 .9-2 2v14c0 1.1.9 2 2 2h14c1.1 0 2-.9 2-2V5c0-1.1-.9-2-2-2zM9 17H7v-7h2v7zm4 0h-2V7h2v10zm4 0h-2v-4h2v4z\"/>\n",
              "    </g>\n",
              "</svg>\n",
              "  </button>\n",
              "\n",
              "<style>\n",
              "  .colab-df-quickchart {\n",
              "      --bg-color: #E8F0FE;\n",
              "      --fill-color: #1967D2;\n",
              "      --hover-bg-color: #E2EBFA;\n",
              "      --hover-fill-color: #174EA6;\n",
              "      --disabled-fill-color: #AAA;\n",
              "      --disabled-bg-color: #DDD;\n",
              "  }\n",
              "\n",
              "  [theme=dark] .colab-df-quickchart {\n",
              "      --bg-color: #3B4455;\n",
              "      --fill-color: #D2E3FC;\n",
              "      --hover-bg-color: #434B5C;\n",
              "      --hover-fill-color: #FFFFFF;\n",
              "      --disabled-bg-color: #3B4455;\n",
              "      --disabled-fill-color: #666;\n",
              "  }\n",
              "\n",
              "  .colab-df-quickchart {\n",
              "    background-color: var(--bg-color);\n",
              "    border: none;\n",
              "    border-radius: 50%;\n",
              "    cursor: pointer;\n",
              "    display: none;\n",
              "    fill: var(--fill-color);\n",
              "    height: 32px;\n",
              "    padding: 0;\n",
              "    width: 32px;\n",
              "  }\n",
              "\n",
              "  .colab-df-quickchart:hover {\n",
              "    background-color: var(--hover-bg-color);\n",
              "    box-shadow: 0 1px 2px rgba(60, 64, 67, 0.3), 0 1px 3px 1px rgba(60, 64, 67, 0.15);\n",
              "    fill: var(--button-hover-fill-color);\n",
              "  }\n",
              "\n",
              "  .colab-df-quickchart-complete:disabled,\n",
              "  .colab-df-quickchart-complete:disabled:hover {\n",
              "    background-color: var(--disabled-bg-color);\n",
              "    fill: var(--disabled-fill-color);\n",
              "    box-shadow: none;\n",
              "  }\n",
              "\n",
              "  .colab-df-spinner {\n",
              "    border: 2px solid var(--fill-color);\n",
              "    border-color: transparent;\n",
              "    border-bottom-color: var(--fill-color);\n",
              "    animation:\n",
              "      spin 1s steps(1) infinite;\n",
              "  }\n",
              "\n",
              "  @keyframes spin {\n",
              "    0% {\n",
              "      border-color: transparent;\n",
              "      border-bottom-color: var(--fill-color);\n",
              "      border-left-color: var(--fill-color);\n",
              "    }\n",
              "    20% {\n",
              "      border-color: transparent;\n",
              "      border-left-color: var(--fill-color);\n",
              "      border-top-color: var(--fill-color);\n",
              "    }\n",
              "    30% {\n",
              "      border-color: transparent;\n",
              "      border-left-color: var(--fill-color);\n",
              "      border-top-color: var(--fill-color);\n",
              "      border-right-color: var(--fill-color);\n",
              "    }\n",
              "    40% {\n",
              "      border-color: transparent;\n",
              "      border-right-color: var(--fill-color);\n",
              "      border-top-color: var(--fill-color);\n",
              "    }\n",
              "    60% {\n",
              "      border-color: transparent;\n",
              "      border-right-color: var(--fill-color);\n",
              "    }\n",
              "    80% {\n",
              "      border-color: transparent;\n",
              "      border-right-color: var(--fill-color);\n",
              "      border-bottom-color: var(--fill-color);\n",
              "    }\n",
              "    90% {\n",
              "      border-color: transparent;\n",
              "      border-bottom-color: var(--fill-color);\n",
              "    }\n",
              "  }\n",
              "</style>\n",
              "\n",
              "  <script>\n",
              "    async function quickchart(key) {\n",
              "      const quickchartButtonEl =\n",
              "        document.querySelector('#' + key + ' button');\n",
              "      quickchartButtonEl.disabled = true;  // To prevent multiple clicks.\n",
              "      quickchartButtonEl.classList.add('colab-df-spinner');\n",
              "      try {\n",
              "        const charts = await google.colab.kernel.invokeFunction(\n",
              "            'suggestCharts', [key], {});\n",
              "      } catch (error) {\n",
              "        console.error('Error during call to suggestCharts:', error);\n",
              "      }\n",
              "      quickchartButtonEl.classList.remove('colab-df-spinner');\n",
              "      quickchartButtonEl.classList.add('colab-df-quickchart-complete');\n",
              "    }\n",
              "    (() => {\n",
              "      let quickchartButtonEl =\n",
              "        document.querySelector('#df-4c1f9154-34bf-4b31-973a-ab41adca2a77 button');\n",
              "      quickchartButtonEl.style.display =\n",
              "        google.colab.kernel.accessAllowed ? 'block' : 'none';\n",
              "    })();\n",
              "  </script>\n",
              "</div>\n",
              "    </div>\n",
              "  </div>\n"
            ],
            "application/vnd.google.colaboratory.intrinsic+json": {
              "type": "dataframe",
              "variable_name": "df_country",
              "summary": "{\n  \"name\": \"df_country\",\n  \"rows\": 46,\n  \"fields\": [\n    {\n      \"column\": \"country\",\n      \"properties\": {\n        \"dtype\": \"string\",\n        \"num_unique_values\": 46,\n        \"samples\": [\n          \"Slovakia\",\n          \"Luxembourg\",\n          \"Macedonia\"\n        ],\n        \"semantic_type\": \"\",\n        \"description\": \"\"\n      }\n    },\n    {\n      \"column\": \"sales_by_country\",\n      \"properties\": {\n        \"dtype\": \"number\",\n        \"std\": 49877.67804353459,\n        \"min\": 53423.0,\n        \"max\": 404853.0,\n        \"num_unique_values\": 46,\n        \"samples\": [\n          131540.0,\n          112682.0,\n          203078.0\n        ],\n        \"semantic_type\": \"\",\n        \"description\": \"\"\n      }\n    },\n    {\n      \"column\": \"revenue_by_country\",\n      \"properties\": {\n        \"dtype\": \"number\",\n        \"std\": 13454567.732064938,\n        \"min\": 13828738.16,\n        \"max\": 103145646.95,\n        \"num_unique_values\": 46,\n        \"samples\": [\n          42940998.32,\n          33075377.21,\n          49222085.25\n        ],\n        \"semantic_type\": \"\",\n        \"description\": \"\"\n      }\n    },\n    {\n      \"column\": \"cost_by_country\",\n      \"properties\": {\n        \"dtype\": \"number\",\n        \"std\": 10080085.856320774,\n        \"min\": 9031689.39,\n        \"max\": 75420223.01,\n        \"num_unique_values\": 46,\n        \"samples\": [\n          30888208.290000003,\n          23204611.1,\n          35537985.3\n        ],\n        \"semantic_type\": \"\",\n        \"description\": \"\"\n      }\n    },\n    {\n      \"column\": \"profit_by_country\",\n      \"properties\": {\n        \"dtype\": \"number\",\n        \"std\": 3549305.6030825195,\n        \"min\": 4797048.77,\n        \"max\": 27725423.939999998,\n        \"num_unique_values\": 46,\n        \"samples\": [\n          12052790.029999997,\n          9870766.11,\n          13684099.950000003\n        ],\n        \"semantic_type\": \"\",\n        \"description\": \"\"\n      }\n    }\n  ]\n}"
            }
          },
          "metadata": {},
          "execution_count": 72
        }
      ],
      "source": [
        "df_country.head(10)"
      ]
    },
    {
      "cell_type": "code",
      "execution_count": 73,
      "metadata": {
        "colab": {
          "base_uri": "https://localhost:8080/"
        },
        "id": "GjPIinA0rE49",
        "outputId": "b7b99224-0a29-46ab-e427-2522d91a8737"
      },
      "outputs": [
        {
          "output_type": "stream",
          "name": "stdout",
          "text": [
            "country\n",
            "Other                     27725423.94\n",
            "Andorra                   15410036.63\n",
            "Ukraine                   14804925.74\n",
            "Malta                     14610127.88\n",
            "San Marino                13792992.81\n",
            "Hungary                   13786231.03\n",
            "Macedonia                 13684099.95\n",
            "Czech Republic            13635593.78\n",
            "Russia                    13267682.64\n",
            "Bosnia and Herzegovina    13257602.77\n",
            "dtype: float64\n"
          ]
        }
      ],
      "source": [
        "top_10_countries_by_profit = profit_by_country.head(10)\n",
        "print(top_10_countries_by_profit)"
      ]
    },
    {
      "cell_type": "code",
      "execution_count": 74,
      "metadata": {
        "colab": {
          "base_uri": "https://localhost:8080/",
          "height": 407
        },
        "id": "W_C-27fbrcUE",
        "outputId": "56cfc681-411a-4149-cb27-d4c640720c70"
      },
      "outputs": [
        {
          "output_type": "display_data",
          "data": {
            "text/plain": [
              "<Figure size 800x400 with 1 Axes>"
            ],
            "image/png": "[encoded data removed]"
          },
          "metadata": {}
        }
      ],
      "source": [
        "plt.figure(figsize=(8, 4))\n",
        "top_10_countries_by_profit.plot(kind=\"bar\", color=\"indigo\", edgecolor=\"black\")\n",
        "plt.title(\"Top 10 countries by profit \", fontsize=16)\n",
        "plt.xlabel(\"Country\", fontsize=12)\n",
        "plt.ylabel(\"Profit by country\", fontsize=12)\n",
        "plt.xticks(rotation=45)\n",
        "plt.tight_layout()\n",
        "plt.show()"
      ]
    },
    {
      "cell_type": "markdown",
      "metadata": {
        "id": "AIBmEBlTs4wL"
      },
      "source": [
        "Категорія \"Other\" має найбільшу загальну суму продажів 27,725,423.94$, що може свідчити про значний внесок нерозподілених регіонів або менш значущих ринків у загальну картину продажів, що потребує більш детального аналізу.До списку входить низка європейських країн, таких як Андорра (15,410,036.63), Україна (14,804,925.74), Мальта (14,610,127.88) та інші. Це вказує на високу купівельну активність у регіоні, що може бути пов’язано з економічною стабільністю або популярністю певних товарів.Такі невеликі держави, як Сан-Марино (13,792,992.81), Мальта (14,610,127.88) та Андорра (15,410,036.63), показують несподівано високі результати. Це може бути пов’язано зі спеціалізацією на високоякісних чи ексклюзивних продуктах, популярних серед місцевих мешканців і туристів."
      ]
    },
    {
      "cell_type": "markdown",
      "metadata": {
        "id": "9MPamCqQttDZ"
      },
      "source": [
        "**по регіонах :**"
      ]
    },
    {
      "cell_type": "code",
      "execution_count": 75,
      "metadata": {
        "colab": {
          "base_uri": "https://localhost:8080/"
        },
        "id": "JFTk9q2ltyUq",
        "outputId": "6b675f5e-bb48-4355-dffe-64a115ff31be"
      },
      "outputs": [
        {
          "output_type": "stream",
          "name": "stdout",
          "text": [
            "region\n",
            "Europe    5761244.0\n",
            "Asia       410427.0\n",
            "Other      404853.0\n",
            "Name: units_sold, dtype: float64\n"
          ]
        }
      ],
      "source": [
        "sales_by_region=df_basic.groupby('region')['units_sold'].sum().sort_values(ascending=False)\n",
        "print(sales_by_region)"
      ]
    },
    {
      "cell_type": "code",
      "execution_count": 76,
      "metadata": {
        "colab": {
          "base_uri": "https://localhost:8080/"
        },
        "id": "N5ZwYmTBuPaI",
        "outputId": "1bf65217-6495-43f2-e1a2-78edb5cb2795"
      },
      "outputs": [
        {
          "output_type": "stream",
          "name": "stdout",
          "text": [
            "region\n",
            "Europe    1.505653e+09\n",
            "Other     1.031456e+08\n",
            "Asia      9.333089e+07\n",
            "Name: revenue, dtype: float64\n"
          ]
        }
      ],
      "source": [
        "revenue_by_region = (df_basic.assign(revenue=df_basic['units_sold'] * df_basic['unit_price']).groupby('region')['revenue'] .sum().sort_values(ascending=False))\n",
        "print(revenue_by_region)"
      ]
    },
    {
      "cell_type": "code",
      "execution_count": 77,
      "metadata": {
        "colab": {
          "base_uri": "https://localhost:8080/"
        },
        "id": "_C7XS9xOudDY",
        "outputId": "ea5b8993-8f9b-4104-8b25-769e8b89f6c2"
      },
      "outputs": [
        {
          "output_type": "stream",
          "name": "stdout",
          "text": [
            "region\n",
            "Europe    1.057096e+09\n",
            "Other     7.542022e+07\n",
            "Asia      6.817863e+07\n",
            "Name: cost, dtype: float64\n"
          ]
        }
      ],
      "source": [
        "cost_by_region = (df_basic.assign(cost=df_basic['units_sold'] * df_basic['unit_cost']).groupby('region')['cost'] .sum().sort_values(ascending=False))\n",
        "print(cost_by_region)"
      ]
    },
    {
      "cell_type": "code",
      "execution_count": 78,
      "metadata": {
        "colab": {
          "base_uri": "https://localhost:8080/"
        },
        "id": "nCmsg-Fnuo_q",
        "outputId": "90343ba5-8432-4ab0-a367-542e9a8a42cc"
      },
      "outputs": [
        {
          "output_type": "stream",
          "name": "stdout",
          "text": [
            "region\n",
            "Europe    4.485568e+08\n",
            "Other     2.772542e+07\n",
            "Asia      2.515225e+07\n",
            "dtype: float64\n"
          ]
        }
      ],
      "source": [
        "profit_by_region=(revenue_by_region-cost_by_region).sort_values(ascending=False)\n",
        "print(profit_by_region)\n"
      ]
    },
    {
      "cell_type": "code",
      "execution_count": 79,
      "metadata": {
        "id": "RQL92zbOu3kU"
      },
      "outputs": [],
      "source": [
        "df_region = pd.DataFrame({\n",
        "    \"sales_by_region\": sales_by_region,\n",
        "    \"revenue_by_region\": revenue_by_region,\n",
        "    \"cost_by_region\": cost_by_region,\n",
        "    \"profit_by_region\": profit_by_region\n",
        "}).reset_index()"
      ]
    },
    {
      "cell_type": "code",
      "execution_count": 80,
      "metadata": {
        "colab": {
          "base_uri": "https://localhost:8080/"
        },
        "id": "2tlzVV2VvNGM",
        "outputId": "43726f77-e7c1-4ad6-c9d4-d138593f24da"
      },
      "outputs": [
        {
          "output_type": "stream",
          "name": "stdout",
          "text": [
            "   region  sales_by_region  revenue_by_region  cost_by_region  \\\n",
            "0    Asia         410427.0       9.333089e+07    6.817863e+07   \n",
            "1  Europe        5761244.0       1.505653e+09    1.057096e+09   \n",
            "2   Other         404853.0       1.031456e+08    7.542022e+07   \n",
            "\n",
            "   profit_by_region  \n",
            "0      2.515225e+07  \n",
            "1      4.485568e+08  \n",
            "2      2.772542e+07  \n"
          ]
        }
      ],
      "source": [
        "print(df_region)"
      ]
    },
    {
      "cell_type": "code",
      "execution_count": 81,
      "metadata": {
        "colab": {
          "base_uri": "https://localhost:8080/",
          "height": 416
        },
        "id": "954u-yNCvQ1g",
        "outputId": "f2ea35e4-18e0-4d4b-e311-a65dd501dcb0"
      },
      "outputs": [
        {
          "output_type": "display_data",
          "data": {
            "text/plain": [
              "<Figure size 800x400 with 1 Axes>"
            ],
            "image/png": "[encoded data removed]"
          },
          "metadata": {}
        }
      ],
      "source": [
        "plt.figure(figsize=(8, 4))\n",
        "plt.plot(df_region[\"region\"], df_region[\"revenue_by_region\"], marker='D', label='Revenue', color='indigo')\n",
        "plt.plot(df_region[\"region\"], df_region[\"cost_by_region\"], marker='D', label='Cost', color='darkolivegreen')\n",
        "plt.plot(df_region[\"region\"], df_region[\"profit_by_region\"], marker='D', label='Profit', color='yellow')\n",
        "plt.title(\"Revenue, Cost and Profit by Region\", fontsize=16)\n",
        "plt.xlabel(\"Region\", fontsize=12)\n",
        "plt.ylabel(\"Amount (in billions)\", fontsize=12)\n",
        "plt.legend()\n",
        "plt.grid(True, linestyle='--', alpha=0.7)\n",
        "plt.show()"
      ]
    },
    {
      "cell_type": "markdown",
      "metadata": {
        "id": "UHFVMqV9UmhE"
      },
      "source": [
        "Проаналізувавши регіональну ефективність продажів можна зробити висновок, що безумовним лідером за всіма показниками, є країни Європи.Азія демонструє найгірші результати, що потребує аналізу причин низької популярності товарів та розробки стратегії для покращення ситуації. Можливо, варто переглянути асортимент товарів, цінову політику або маркетингові зусилля в цьому регіоні.Регіон \"Інші\" показує середні результати, але заслуговує на увагу через вищий дохід та прибуток порівняно з Азією при майже однаковій кількості продажів. Потрібно дослідити, які саме товари продаються краще в цьому регіоні, щоб використати цей досвід в інших регіонах."
      ]
    },
    {
      "cell_type": "markdown",
      "source": [
        "##Аналіз інтервалу часу між замовленням та його відвантаженням  в розрізі:\n",
        "категорій товарів;\n",
        "країн;\n",
        "регіонів."
      ],
      "metadata": {
        "id": "uzgyJBVlgVR0"
      }
    },
    {
      "cell_type": "code",
      "source": [
        "_# Додаємо новий стовпець із тривалістю між замовленням і відвантаженням\n",
        "df_basic['time_interval'] = ((df_basic['ship_date']) - pd.to_datetime(df_basic['order_date'])).dt.days"
      ],
      "metadata": {
        "id": "uL3dwd_BgwzP"
      },
      "execution_count": 82,
      "outputs": []
    },
    {
      "cell_type": "code",
      "source": [
        "df_basic.head()"
      ],
      "metadata": {
        "colab": {
          "base_uri": "https://localhost:8080/",
          "height": 313
        },
        "id": "lHljnOX4hKaJ",
        "outputId": "a0de6c7f-1688-46be-b89a-ab1b6cc7178c"
      },
      "execution_count": 83,
      "outputs": [
        {
          "output_type": "execute_result",
          "data": {
            "text/plain": [
              "    order_id order_date  ship_date order_priority country_code  product_id  \\\n",
              "0  100640618 2014-10-08 2014-10-18              M          NOR        2103   \n",
              "1  100983083 2016-08-11 2016-08-11              C          SRB        2103   \n",
              "2  101025998 2014-07-18 2014-08-11              M        Other        7940   \n",
              "3  102230632 2017-05-13 2017-06-13              L          MNE        2455   \n",
              "4  103435266 2012-08-11 2012-09-18              H          SRB        1270   \n",
              "\n",
              "  sales_channel  units_sold  unit_price  unit_cost  item_type     country  \\\n",
              "0        Online       650.0      205.70     117.11     Cereal      Norway   \n",
              "1       Offline      1993.0      205.70     117.11     Cereal      Serbia   \n",
              "2        Online      4693.0      668.27     502.54  Household       Other   \n",
              "3        Online      1171.0      109.28      35.84    Clothes  Montenegro   \n",
              "4       Offline      7648.0       47.45      31.79  Beverages      Serbia   \n",
              "\n",
              "   region       sub_region  time_interval  \n",
              "0  Europe  Northern Europe             10  \n",
              "1  Europe  Southern Europe              0  \n",
              "2   Other            Other             24  \n",
              "3  Europe  Southern Europe             31  \n",
              "4  Europe  Southern Europe             38  "
            ],
            "text/html": [
              "\n",
              "  <div id=\"df-74395826-b7c6-413f-9597-991fdd666876\" class=\"colab-df-container\">\n",
              "    <div>\n",
              "<style scoped>\n",
              "    .dataframe tbody tr th:only-of-type {\n",
              "        vertical-align: middle;\n",
              "    }\n",
              "\n",
              "    .dataframe tbody tr th {\n",
              "        vertical-align: top;\n",
              "    }\n",
              "\n",
              "    .dataframe thead th {\n",
              "        text-align: right;\n",
              "    }\n",
              "</style>\n",
              "<table border=\"1\" class=\"dataframe\">\n",
              "  <thead>\n",
              "    <tr style=\"text-align: right;\">\n",
              "      <th></th>\n",
              "      <th>order_id</th>\n",
              "      <th>order_date</th>\n",
              "      <th>ship_date</th>\n",
              "      <th>order_priority</th>\n",
              "      <th>country_code</th>\n",
              "      <th>product_id</th>\n",
              "      <th>sales_channel</th>\n",
              "      <th>units_sold</th>\n",
              "      <th>unit_price</th>\n",
              "      <th>unit_cost</th>\n",
              "      <th>item_type</th>\n",
              "      <th>country</th>\n",
              "      <th>region</th>\n",
              "      <th>sub_region</th>\n",
              "      <th>time_interval</th>\n",
              "    </tr>\n",
              "  </thead>\n",
              "  <tbody>\n",
              "    <tr>\n",
              "      <th>0</th>\n",
              "      <td>100640618</td>\n",
              "      <td>2014-10-08</td>\n",
              "      <td>2014-10-18</td>\n",
              "      <td>M</td>\n",
              "      <td>NOR</td>\n",
              "      <td>2103</td>\n",
              "      <td>Online</td>\n",
              "      <td>650.0</td>\n",
              "      <td>205.70</td>\n",
              "      <td>117.11</td>\n",
              "      <td>Cereal</td>\n",
              "      <td>Norway</td>\n",
              "      <td>Europe</td>\n",
              "      <td>Northern Europe</td>\n",
              "      <td>10</td>\n",
              "    </tr>\n",
              "    <tr>\n",
              "      <th>1</th>\n",
              "      <td>100983083</td>\n",
              "      <td>2016-08-11</td>\n",
              "      <td>2016-08-11</td>\n",
              "      <td>C</td>\n",
              "      <td>SRB</td>\n",
              "      <td>2103</td>\n",
              "      <td>Offline</td>\n",
              "      <td>1993.0</td>\n",
              "      <td>205.70</td>\n",
              "      <td>117.11</td>\n",
              "      <td>Cereal</td>\n",
              "      <td>Serbia</td>\n",
              "      <td>Europe</td>\n",
              "      <td>Southern Europe</td>\n",
              "      <td>0</td>\n",
              "    </tr>\n",
              "    <tr>\n",
              "      <th>2</th>\n",
              "      <td>101025998</td>\n",
              "      <td>2014-07-18</td>\n",
              "      <td>2014-08-11</td>\n",
              "      <td>M</td>\n",
              "      <td>Other</td>\n",
              "      <td>7940</td>\n",
              "      <td>Online</td>\n",
              "      <td>4693.0</td>\n",
              "      <td>668.27</td>\n",
              "      <td>502.54</td>\n",
              "      <td>Household</td>\n",
              "      <td>Other</td>\n",
              "      <td>Other</td>\n",
              "      <td>Other</td>\n",
              "      <td>24</td>\n",
              "    </tr>\n",
              "    <tr>\n",
              "      <th>3</th>\n",
              "      <td>102230632</td>\n",
              "      <td>2017-05-13</td>\n",
              "      <td>2017-06-13</td>\n",
              "      <td>L</td>\n",
              "      <td>MNE</td>\n",
              "      <td>2455</td>\n",
              "      <td>Online</td>\n",
              "      <td>1171.0</td>\n",
              "      <td>109.28</td>\n",
              "      <td>35.84</td>\n",
              "      <td>Clothes</td>\n",
              "      <td>Montenegro</td>\n",
              "      <td>Europe</td>\n",
              "      <td>Southern Europe</td>\n",
              "      <td>31</td>\n",
              "    </tr>\n",
              "    <tr>\n",
              "      <th>4</th>\n",
              "      <td>103435266</td>\n",
              "      <td>2012-08-11</td>\n",
              "      <td>2012-09-18</td>\n",
              "      <td>H</td>\n",
              "      <td>SRB</td>\n",
              "      <td>1270</td>\n",
              "      <td>Offline</td>\n",
              "      <td>7648.0</td>\n",
              "      <td>47.45</td>\n",
              "      <td>31.79</td>\n",
              "      <td>Beverages</td>\n",
              "      <td>Serbia</td>\n",
              "      <td>Europe</td>\n",
              "      <td>Southern Europe</td>\n",
              "      <td>38</td>\n",
              "    </tr>\n",
              "  </tbody>\n",
              "</table>\n",
              "</div>\n",
              "    <div class=\"colab-df-buttons\">\n",
              "\n",
              "  <div class=\"colab-df-container\">\n",
              "    <button class=\"colab-df-convert\" onclick=\"convertToInteractive('df-74395826-b7c6-413f-9597-991fdd666876')\"\n",
              "            title=\"Convert this dataframe to an interactive table.\"\n",
              "            style=\"display:none;\">\n",
              "\n",
              "  <svg xmlns=\"http://www.w3.org/2000/svg\" height=\"24px\" viewBox=\"0 -960 960 960\">\n",
              "    <path d=\"M120-120v-720h720v720H120Zm60-500h600v-160H180v160Zm220 220h160v-160H400v160Zm0 220h160v-160H400v160ZM180-400h160v-160H180v160Zm440 0h160v-160H620v160ZM180-180h160v-160H180v160Zm440 0h160v-160H620v160Z\"/>\n",
              "  </svg>\n",
              "    </button>\n",
              "\n",
              "  <style>\n",
              "    .colab-df-container {\n",
              "      display:flex;\n",
              "      gap: 12px;\n",
              "    }\n",
              "\n",
              "    .colab-df-convert {\n",
              "      background-color: #E8F0FE;\n",
              "      border: none;\n",
              "      border-radius: 50%;\n",
              "      cursor: pointer;\n",
              "      display: none;\n",
              "      fill: #1967D2;\n",
              "      height: 32px;\n",
              "      padding: 0 0 0 0;\n",
              "      width: 32px;\n",
              "    }\n",
              "\n",
              "    .colab-df-convert:hover {\n",
              "      background-color: #E2EBFA;\n",
              "      box-shadow: 0px 1px 2px rgba(60, 64, 67, 0.3), 0px 1px 3px 1px rgba(60, 64, 67, 0.15);\n",
              "      fill: #174EA6;\n",
              "    }\n",
              "\n",
              "    .colab-df-buttons div {\n",
              "      margin-bottom: 4px;\n",
              "    }\n",
              "\n",
              "    [theme=dark] .colab-df-convert {\n",
              "      background-color: #3B4455;\n",
              "      fill: #D2E3FC;\n",
              "    }\n",
              "\n",
              "    [theme=dark] .colab-df-convert:hover {\n",
              "      background-color: #434B5C;\n",
              "      box-shadow: 0px 1px 3px 1px rgba(0, 0, 0, 0.15);\n",
              "      filter: drop-shadow(0px 1px 2px rgba(0, 0, 0, 0.3));\n",
              "      fill: #FFFFFF;\n",
              "    }\n",
              "  </style>\n",
              "\n",
              "    <script>\n",
              "      const buttonEl =\n",
              "        document.querySelector('#df-74395826-b7c6-413f-9597-991fdd666876 button.colab-df-convert');\n",
              "      buttonEl.style.display =\n",
              "        google.colab.kernel.accessAllowed ? 'block' : 'none';\n",
              "\n",
              "      async function convertToInteractive(key) {\n",
              "        const element = document.querySelector('#df-74395826-b7c6-413f-9597-991fdd666876');\n",
              "        const dataTable =\n",
              "          await google.colab.kernel.invokeFunction('convertToInteractive',\n",
              "                                                    [key], {});\n",
              "        if (!dataTable) return;\n",
              "\n",
              "        const docLinkHtml = 'Like what you see? Visit the ' +\n",
              "          '<a target=\"_blank\" href=https://colab.research.google.com/notebooks/data_table.ipynb>data table notebook</a>'\n",
              "          + ' to learn more about interactive tables.';\n",
              "        element.innerHTML = '';\n",
              "        dataTable['output_type'] = 'display_data';\n",
              "        await google.colab.output.renderOutput(dataTable, element);\n",
              "        const docLink = document.createElement('div');\n",
              "        docLink.innerHTML = docLinkHtml;\n",
              "        element.appendChild(docLink);\n",
              "      }\n",
              "    </script>\n",
              "  </div>\n",
              "\n",
              "\n",
              "<div id=\"df-21b18cab-14f8-49c1-ab16-c43c52bf971a\">\n",
              "  <button class=\"colab-df-quickchart\" onclick=\"quickchart('df-21b18cab-14f8-49c1-ab16-c43c52bf971a')\"\n",
              "            title=\"Suggest charts\"\n",
              "            style=\"display:none;\">\n",
              "\n",
              "<svg xmlns=\"http://www.w3.org/2000/svg\" height=\"24px\"viewBox=\"0 0 24 24\"\n",
              "     width=\"24px\">\n",
              "    <g>\n",
              "        <path d=\"M19 3H5c-1.1 0-2 .9-2 2v14c0 1.1.9 2 2 2h14c1.1 0 2-.9 2-2V5c0-1.1-.9-2-2-2zM9 17H7v-7h2v7zm4 0h-2V7h2v10zm4 0h-2v-4h2v4z\"/>\n",
              "    </g>\n",
              "</svg>\n",
              "  </button>\n",
              "\n",
              "<style>\n",
              "  .colab-df-quickchart {\n",
              "      --bg-color: #E8F0FE;\n",
              "      --fill-color: #1967D2;\n",
              "      --hover-bg-color: #E2EBFA;\n",
              "      --hover-fill-color: #174EA6;\n",
              "      --disabled-fill-color: #AAA;\n",
              "      --disabled-bg-color: #DDD;\n",
              "  }\n",
              "\n",
              "  [theme=dark] .colab-df-quickchart {\n",
              "      --bg-color: #3B4455;\n",
              "      --fill-color: #D2E3FC;\n",
              "      --hover-bg-color: #434B5C;\n",
              "      --hover-fill-color: #FFFFFF;\n",
              "      --disabled-bg-color: #3B4455;\n",
              "      --disabled-fill-color: #666;\n",
              "  }\n",
              "\n",
              "  .colab-df-quickchart {\n",
              "    background-color: var(--bg-color);\n",
              "    border: none;\n",
              "    border-radius: 50%;\n",
              "    cursor: pointer;\n",
              "    display: none;\n",
              "    fill: var(--fill-color);\n",
              "    height: 32px;\n",
              "    padding: 0;\n",
              "    width: 32px;\n",
              "  }\n",
              "\n",
              "  .colab-df-quickchart:hover {\n",
              "    background-color: var(--hover-bg-color);\n",
              "    box-shadow: 0 1px 2px rgba(60, 64, 67, 0.3), 0 1px 3px 1px rgba(60, 64, 67, 0.15);\n",
              "    fill: var(--button-hover-fill-color);\n",
              "  }\n",
              "\n",
              "  .colab-df-quickchart-complete:disabled,\n",
              "  .colab-df-quickchart-complete:disabled:hover {\n",
              "    background-color: var(--disabled-bg-color);\n",
              "    fill: var(--disabled-fill-color);\n",
              "    box-shadow: none;\n",
              "  }\n",
              "\n",
              "  .colab-df-spinner {\n",
              "    border: 2px solid var(--fill-color);\n",
              "    border-color: transparent;\n",
              "    border-bottom-color: var(--fill-color);\n",
              "    animation:\n",
              "      spin 1s steps(1) infinite;\n",
              "  }\n",
              "\n",
              "  @keyframes spin {\n",
              "    0% {\n",
              "      border-color: transparent;\n",
              "      border-bottom-color: var(--fill-color);\n",
              "      border-left-color: var(--fill-color);\n",
              "    }\n",
              "    20% {\n",
              "      border-color: transparent;\n",
              "      border-left-color: var(--fill-color);\n",
              "      border-top-color: var(--fill-color);\n",
              "    }\n",
              "    30% {\n",
              "      border-color: transparent;\n",
              "      border-left-color: var(--fill-color);\n",
              "      border-top-color: var(--fill-color);\n",
              "      border-right-color: var(--fill-color);\n",
              "    }\n",
              "    40% {\n",
              "      border-color: transparent;\n",
              "      border-right-color: var(--fill-color);\n",
              "      border-top-color: var(--fill-color);\n",
              "    }\n",
              "    60% {\n",
              "      border-color: transparent;\n",
              "      border-right-color: var(--fill-color);\n",
              "    }\n",
              "    80% {\n",
              "      border-color: transparent;\n",
              "      border-right-color: var(--fill-color);\n",
              "      border-bottom-color: var(--fill-color);\n",
              "    }\n",
              "    90% {\n",
              "      border-color: transparent;\n",
              "      border-bottom-color: var(--fill-color);\n",
              "    }\n",
              "  }\n",
              "</style>\n",
              "\n",
              "  <script>\n",
              "    async function quickchart(key) {\n",
              "      const quickchartButtonEl =\n",
              "        document.querySelector('#' + key + ' button');\n",
              "      quickchartButtonEl.disabled = true;  // To prevent multiple clicks.\n",
              "      quickchartButtonEl.classList.add('colab-df-spinner');\n",
              "      try {\n",
              "        const charts = await google.colab.kernel.invokeFunction(\n",
              "            'suggestCharts', [key], {});\n",
              "      } catch (error) {\n",
              "        console.error('Error during call to suggestCharts:', error);\n",
              "      }\n",
              "      quickchartButtonEl.classList.remove('colab-df-spinner');\n",
              "      quickchartButtonEl.classList.add('colab-df-quickchart-complete');\n",
              "    }\n",
              "    (() => {\n",
              "      let quickchartButtonEl =\n",
              "        document.querySelector('#df-21b18cab-14f8-49c1-ab16-c43c52bf971a button');\n",
              "      quickchartButtonEl.style.display =\n",
              "        google.colab.kernel.accessAllowed ? 'block' : 'none';\n",
              "    })();\n",
              "  </script>\n",
              "</div>\n",
              "    </div>\n",
              "  </div>\n"
            ],
            "application/vnd.google.colaboratory.intrinsic+json": {
              "type": "dataframe",
              "variable_name": "df_basic",
              "summary": "{\n  \"name\": \"df_basic\",\n  \"rows\": 1328,\n  \"fields\": [\n    {\n      \"column\": \"order_id\",\n      \"properties\": {\n        \"dtype\": \"number\",\n        \"std\": 257349633,\n        \"min\": 100640618,\n        \"max\": 999879729,\n        \"num_unique_values\": 1328,\n        \"samples\": [\n          913729751,\n          174614226,\n          743769109\n        ],\n        \"semantic_type\": \"\",\n        \"description\": \"\"\n      }\n    },\n    {\n      \"column\": \"order_date\",\n      \"properties\": {\n        \"dtype\": \"date\",\n        \"min\": \"2010-01-01 00:00:00\",\n        \"max\": \"2017-07-23 00:00:00\",\n        \"num_unique_values\": 1049,\n        \"samples\": [\n          \"2016-06-27 00:00:00\",\n          \"2013-06-25 00:00:00\",\n          \"2016-03-28 00:00:00\"\n        ],\n        \"semantic_type\": \"\",\n        \"description\": \"\"\n      }\n    },\n    {\n      \"column\": \"ship_date\",\n      \"properties\": {\n        \"dtype\": \"date\",\n        \"min\": \"2010-01-10 00:00:00\",\n        \"max\": \"2017-08-31 00:00:00\",\n        \"num_unique_values\": 1069,\n        \"samples\": [\n          \"2015-06-23 00:00:00\",\n          \"2014-05-01 00:00:00\",\n          \"2017-03-14 00:00:00\"\n        ],\n        \"semantic_type\": \"\",\n        \"description\": \"\"\n      }\n    },\n    {\n      \"column\": \"order_priority\",\n      \"properties\": {\n        \"dtype\": \"category\",\n        \"num_unique_values\": 6,\n        \"samples\": [\n          \"M\",\n          \"C\",\n          \"M \"\n        ],\n        \"semantic_type\": \"\",\n        \"description\": \"\"\n      }\n    },\n    {\n      \"column\": \"country_code\",\n      \"properties\": {\n        \"dtype\": \"category\",\n        \"num_unique_values\": 46,\n        \"samples\": [\n          \"ALB\",\n          \"EST\",\n          \"AUT\"\n        ],\n        \"semantic_type\": \"\",\n        \"description\": \"\"\n      }\n    },\n    {\n      \"column\": \"product_id\",\n      \"properties\": {\n        \"dtype\": \"number\",\n        \"std\": 2820,\n        \"min\": 1270,\n        \"max\": 8969,\n        \"num_unique_values\": 12,\n        \"samples\": [\n          8969,\n          8293,\n          2103\n        ],\n        \"semantic_type\": \"\",\n        \"description\": \"\"\n      }\n    },\n    {\n      \"column\": \"sales_channel\",\n      \"properties\": {\n        \"dtype\": \"category\",\n        \"num_unique_values\": 3,\n        \"samples\": [\n          \"Online\",\n          \"Offline\",\n          \"online\"\n        ],\n        \"semantic_type\": \"\",\n        \"description\": \"\"\n      }\n    },\n    {\n      \"column\": \"units_sold\",\n      \"properties\": {\n        \"dtype\": \"number\",\n        \"std\": 2905.198996399036,\n        \"min\": 2.0,\n        \"max\": 9999.0,\n        \"num_unique_values\": 1239,\n        \"samples\": [\n          4681.0,\n          7069.0,\n          7923.0\n        ],\n        \"semantic_type\": \"\",\n        \"description\": \"\"\n      }\n    },\n    {\n      \"column\": \"unit_price\",\n      \"properties\": {\n        \"dtype\": \"number\",\n        \"std\": 217.3863199939379,\n        \"min\": 9.33,\n        \"max\": 668.27,\n        \"num_unique_values\": 12,\n        \"samples\": [\n          152.58,\n          437.2,\n          205.7\n        ],\n        \"semantic_type\": \"\",\n        \"description\": \"\"\n      }\n    },\n    {\n      \"column\": \"unit_cost\",\n      \"properties\": {\n        \"dtype\": \"number\",\n        \"std\": 176.1878011043068,\n        \"min\": 6.92,\n        \"max\": 524.96,\n        \"num_unique_values\": 12,\n        \"samples\": [\n          97.44,\n          263.33,\n          117.11\n        ],\n        \"semantic_type\": \"\",\n        \"description\": \"\"\n      }\n    },\n    {\n      \"column\": \"item_type\",\n      \"properties\": {\n        \"dtype\": \"category\",\n        \"num_unique_values\": 12,\n        \"samples\": [\n          \"Snacks\",\n          \"Cosmetics\",\n          \"Cereal\"\n        ],\n        \"semantic_type\": \"\",\n        \"description\": \"\"\n      }\n    },\n    {\n      \"column\": \"country\",\n      \"properties\": {\n        \"dtype\": \"category\",\n        \"num_unique_values\": 46,\n        \"samples\": [\n          \"Albania\",\n          \"Estonia\",\n          \"Austria\"\n        ],\n        \"semantic_type\": \"\",\n        \"description\": \"\"\n      }\n    },\n    {\n      \"column\": \"region\",\n      \"properties\": {\n        \"dtype\": \"category\",\n        \"num_unique_values\": 3,\n        \"samples\": [\n          \"Europe\",\n          \"Other\",\n          \"Asia\"\n        ],\n        \"semantic_type\": \"\",\n        \"description\": \"\"\n      }\n    },\n    {\n      \"column\": \"sub_region\",\n      \"properties\": {\n        \"dtype\": \"category\",\n        \"num_unique_values\": 6,\n        \"samples\": [\n          \"Northern Europe\",\n          \"Southern Europe\",\n          \"Western Asia\"\n        ],\n        \"semantic_type\": \"\",\n        \"description\": \"\"\n      }\n    },\n    {\n      \"column\": \"time_interval\",\n      \"properties\": {\n        \"dtype\": \"number\",\n        \"std\": 14,\n        \"min\": 0,\n        \"max\": 50,\n        \"num_unique_values\": 51,\n        \"samples\": [\n          28,\n          12,\n          5\n        ],\n        \"semantic_type\": \"\",\n        \"description\": \"\"\n      }\n    }\n  ]\n}"
            }
          },
          "metadata": {},
          "execution_count": 83
        }
      ]
    },
    {
      "cell_type": "code",
      "source": [
        "#середній час на відвантаження в розрізі категорій\n",
        "avg_days_by_category = df_basic.groupby('item_type')['time_interval'].mean().sort_values()"
      ],
      "metadata": {
        "id": "jPV0aQy_hizJ"
      },
      "execution_count": 84,
      "outputs": []
    },
    {
      "cell_type": "code",
      "source": [
        "plt.figure(figsize=(8, 4))\n",
        "sns.barplot(x=avg_days_by_category.index, y=avg_days_by_category.values, palette='viridis')\n",
        "plt.title('Average time between orders and shipments (by category)', fontsize=14)\n",
        "plt.xlabel('Product categories', fontsize=12)\n",
        "plt.ylabel('Average interval (days)', fontsize=12)\n",
        "plt.xticks(rotation=45)\n",
        "plt.show()"
      ],
      "metadata": {
        "colab": {
          "base_uri": "https://localhost:8080/",
          "height": 571
        },
        "id": "v_j1HRQfiZlr",
        "outputId": "5020a270-9284-42be-b707-06277299aec9"
      },
      "execution_count": 85,
      "outputs": [
        {
          "output_type": "stream",
          "name": "stderr",
          "text": [
            "<ipython-input-85-1946b900aa09>:2: FutureWarning: \n",
            "\n",
            "Passing `palette` without assigning `hue` is deprecated and will be removed in v0.14.0. Assign the `x` variable to `hue` and set `legend=False` for the same effect.\n",
            "\n",
            "  sns.barplot(x=avg_days_by_category.index, y=avg_days_by_category.values, palette='viridis')\n"
          ]
        },
        {
          "output_type": "display_data",
          "data": {
            "text/plain": [
              "<Figure size 800x400 with 1 Axes>"
            ],
            "image/png": "[encoded data removed]"
          },
          "metadata": {}
        }
      ]
    },
    {
      "cell_type": "code",
      "source": [
        "#середній час на відвантаження в розрізі країн\n",
        "avg_days_by_country = df_basic.groupby('country')['time_interval'].mean().sort_values()"
      ],
      "metadata": {
        "id": "dFubPtGIjV0v"
      },
      "execution_count": 86,
      "outputs": []
    },
    {
      "cell_type": "code",
      "source": [
        "#оскільки країн багато, відобразимо на графіку топ 10 з найбільшим часом на відвантаження\n",
        "top_10_countries = avg_days_by_country.tail(10)"
      ],
      "metadata": {
        "id": "QjNtLDHlmT10"
      },
      "execution_count": 87,
      "outputs": []
    },
    {
      "cell_type": "code",
      "source": [
        "plt.figure(figsize=(8, 4))\n",
        "sns.barplot(x=top_10_countries.values, y=top_10_countries.index, palette='magma')\n",
        "plt.title('Top 10 countries with the longest average time between order and shipment', fontsize=14)\n",
        "plt.xlabel('Average interval (days)', fontsize=12)\n",
        "plt.ylabel('Counte=ry', fontsize=12)\n",
        "plt.show()"
      ],
      "metadata": {
        "colab": {
          "base_uri": "https://localhost:8080/",
          "height": 502
        },
        "id": "01HdHuWZjpQc",
        "outputId": "c9835242-ea7a-41fd-d4af-a45231d31b7d"
      },
      "execution_count": 88,
      "outputs": [
        {
          "output_type": "stream",
          "name": "stderr",
          "text": [
            "<ipython-input-88-58947bf640f3>:2: FutureWarning: \n",
            "\n",
            "Passing `palette` without assigning `hue` is deprecated and will be removed in v0.14.0. Assign the `y` variable to `hue` and set `legend=False` for the same effect.\n",
            "\n",
            "  sns.barplot(x=top_10_countries.values, y=top_10_countries.index, palette='magma')\n"
          ]
        },
        {
          "output_type": "display_data",
          "data": {
            "text/plain": [
              "<Figure size 800x400 with 1 Axes>"
            ],
            "image/png": "[encoded data removed]"
          },
          "metadata": {}
        }
      ]
    },
    {
      "cell_type": "code",
      "source": [
        "#відобразимо на графіку топ 10 з найменншим часом на відвантаження\n",
        "top_10_countries_min = avg_days_by_country.head(10)"
      ],
      "metadata": {
        "id": "t-WAlGCrzhJc"
      },
      "execution_count": 89,
      "outputs": []
    },
    {
      "cell_type": "code",
      "source": [
        "plt.figure(figsize=(8, 4))\n",
        "sns.barplot(x=top_10_countries_min.values, y=top_10_countries_min.index, palette='viridis')\n",
        "plt.title('Top 10 countries with the shortest average time between order and shipment', fontsize=14)\n",
        "plt.xlabel('Average interval (days)', fontsize=12)\n",
        "plt.ylabel('Country', fontsize=12)\n",
        "plt.show()"
      ],
      "metadata": {
        "colab": {
          "base_uri": "https://localhost:8080/",
          "height": 502
        },
        "id": "VjQRwnFuzu6r",
        "outputId": "68b7357f-4755-4aca-d0d1-4ef4278dfc96"
      },
      "execution_count": 90,
      "outputs": [
        {
          "output_type": "stream",
          "name": "stderr",
          "text": [
            "<ipython-input-90-e9f1b0e17ed4>:2: FutureWarning: \n",
            "\n",
            "Passing `palette` without assigning `hue` is deprecated and will be removed in v0.14.0. Assign the `y` variable to `hue` and set `legend=False` for the same effect.\n",
            "\n",
            "  sns.barplot(x=top_10_countries_min.values, y=top_10_countries_min.index, palette='viridis')\n"
          ]
        },
        {
          "output_type": "display_data",
          "data": {
            "text/plain": [
              "<Figure size 800x400 with 1 Axes>"
            ],
            "image/png": "[encoded data removed]"
          },
          "metadata": {}
        }
      ]
    },
    {
      "cell_type": "code",
      "source": [
        "#середній час на відвантаження в розрізі регіонів\n",
        "avg_days_by_region = df_basic.groupby('region')['time_interval'].mean().sort_values()"
      ],
      "metadata": {
        "id": "5Xwwh9pM0hYO"
      },
      "execution_count": 91,
      "outputs": []
    },
    {
      "cell_type": "code",
      "source": [
        "plt.figure(figsize=(8, 4))\n",
        "sns.barplot(x=avg_days_by_region.index, y=avg_days_by_region.values, palette='coolwarm')\n",
        "plt.title('Average time between order and shipment (by region)', fontsize=14)\n",
        "plt.xlabel('Region', fontsize=10)\n",
        "plt.ylabel('Time interval', fontsize=10)\n",
        "plt.show()\n"
      ],
      "metadata": {
        "colab": {
          "base_uri": "https://localhost:8080/",
          "height": 498
        },
        "id": "ylwL6J2m0zcz",
        "outputId": "2b839232-bd73-4a5e-b4c2-f648eb39e7f3"
      },
      "execution_count": 92,
      "outputs": [
        {
          "output_type": "stream",
          "name": "stderr",
          "text": [
            "<ipython-input-92-d938554d7bd6>:2: FutureWarning: \n",
            "\n",
            "Passing `palette` without assigning `hue` is deprecated and will be removed in v0.14.0. Assign the `x` variable to `hue` and set `legend=False` for the same effect.\n",
            "\n",
            "  sns.barplot(x=avg_days_by_region.index, y=avg_days_by_region.values, palette='coolwarm')\n"
          ]
        },
        {
          "output_type": "display_data",
          "data": {
            "text/plain": [
              "<Figure size 800x400 with 1 Axes>"
            ],
            "image/png": "[encoded data removed]"
          },
          "metadata": {}
        }
      ]
    },
    {
      "cell_type": "markdown",
      "metadata": {
        "id": "L8KTd7PLV34_"
      },
      "source": [
        "\n",
        "\n",
        "##Аналіз залежності прибуток від часу, необхідного на відвантаження товару"
      ]
    },
    {
      "cell_type": "code",
      "source": [
        "#розрахуємо прибуток\n",
        "df_basic['profit'] = (df_basic['units_sold'] * df_basic['unit_price'])-(df_basic['units_sold']-df_basic['unit_cost'])"
      ],
      "metadata": {
        "id": "MHxAjfuRbZMU"
      },
      "execution_count": 93,
      "outputs": []
    },
    {
      "cell_type": "code",
      "source": [
        "profit_by_days = (df_basic.groupby('time_interval')['profit'].mean().reset_index().sort_values('time_interval'))#групування за середнів часом відвантаження, та середнім прибутком"
      ],
      "metadata": {
        "id": "s0R6sd8p2R_H"
      },
      "execution_count": 94,
      "outputs": []
    },
    {
      "cell_type": "code",
      "execution_count": 95,
      "metadata": {
        "colab": {
          "base_uri": "https://localhost:8080/",
          "height": 415
        },
        "id": "wXEyZ6E_nLf2",
        "outputId": "31108c64-b84b-406a-e01a-5999b7403853"
      },
      "outputs": [
        {
          "output_type": "display_data",
          "data": {
            "text/plain": [
              "<Figure size 800x400 with 1 Axes>"
            ],
            "image/png": "[encoded data removed]"
          },
          "metadata": {}
        }
      ],
      "source": [
        "import matplotlib.pyplot as plt\n",
        "import seaborn as sns\n",
        "\n",
        "plt.figure(figsize=(8, 4))\n",
        "sns.scatterplot(data=profit_by_days,x='time_interval',y='profit',color='darkblue',s=100,alpha=0.8)\n",
        "plt.title('Dependence of profit on shipment time', fontsize=14)\n",
        "plt.xlabel('Average time interval for shipment(day)', fontsize=12)\n",
        "plt.ylabel('Average profit', fontsize=12)\n",
        "plt.grid(True)\n",
        "plt.show()"
      ]
    },
    {
      "cell_type": "markdown",
      "metadata": {
        "id": "ZIqwlhYup3i2"
      },
      "source": [
        "З огляду графіку не простежується чітка лінійна залежність між часом доставки та прибутком. Точки розкидані хаотично, і немає вираженого тренду зростання або спадання прибутку зі збільшенням часу доставки, тому можемо зробити висновок висновок, що час доставки, не є основним фактором, що впливає на прибуток."
      ]
    },
    {
      "cell_type": "markdown",
      "metadata": {
        "id": "HKsJQC-QrJJk"
      },
      "source": [
        "##Аналіз динаміки продажів (у часі) у розрізі категорій товарів, країн, регіонів\n",
        "НЕОБХІДНО ДОПРАЦЮВАТИ, НЕ МОЖУ ЗРОЗУМІТИ ЯК СФОМУВАТИ ДАНІ, ШОБ ВІДОБРАЗИТИ НА ГРАФІКАХ, КАТЕГОРІ 12 А КРАЇН ЩЕ БІЛЬШЕ, ЯК ЇХ ВІДОБРАЗИТИ???\n"
      ]
    },
    {
      "cell_type": "code",
      "execution_count": 96,
      "metadata": {
        "id": "LAytRhUV1cYz"
      },
      "outputs": [],
      "source": [
        "df_basic['revenue'] = df_basic['units_sold'] * df_basic['unit_price']#загальний обсягу продажів-дохід"
      ]
    },
    {
      "cell_type": "code",
      "source": [
        "df_basic['year_month'] = pd.to_datetime(df_basic['order_date']).dt.to_period('M')#дату в формат рік/місяць"
      ],
      "metadata": {
        "id": "yqeAng7c8_P2"
      },
      "execution_count": 97,
      "outputs": []
    },
    {
      "cell_type": "markdown",
      "source": [
        " динаміка продажів у часі в розрізі категорій:"
      ],
      "metadata": {
        "id": "Qoy24EY29kD4"
      }
    },
    {
      "cell_type": "code",
      "source": [
        "sales_by_category = (df_basic.groupby(['year_month', 'item_type'])['revenue'].sum().reset_index())#групування за категорія"
      ],
      "metadata": {
        "id": "HNWln0mJ9c6X"
      },
      "execution_count": 98,
      "outputs": []
    },
    {
      "cell_type": "markdown",
      "source": [
        "##Aналіз продажів товарів за днями тижня:\n"
      ],
      "metadata": {
        "id": "DQ5CJzukdp8k"
      }
    },
    {
      "cell_type": "code",
      "source": [
        "df_basic['day_of_week'] = pd.to_datetime(df_basic['order_date']).dt.day_name()#дент тиждня"
      ],
      "metadata": {
        "id": "Lz7t3ziYaI9t"
      },
      "execution_count": 99,
      "outputs": []
    },
    {
      "cell_type": "code",
      "source": [
        "sales_by_day = (df_basic.groupby('day_of_week')['units_sold'].sum().reset_index())"
      ],
      "metadata": {
        "id": "A8QFgxxPjxfa"
      },
      "execution_count": 100,
      "outputs": []
    },
    {
      "cell_type": "code",
      "source": [
        "day_order = ['Monday', 'Tuesday', 'Wednesday', 'Thursday', 'Friday', 'Saturday', 'Sunday']\n",
        "sales_by_day['day_of_week'] = pd.Categorical(sales_by_day['day_of_week'], categories=day_order, ordered=True)\n",
        "profit_by_day = sales_by_day.sort_values('day_of_week')"
      ],
      "metadata": {
        "id": "iHCDMducjxs0"
      },
      "execution_count": 101,
      "outputs": []
    },
    {
      "cell_type": "code",
      "source": [
        "plt.figure(figsize=(8, 4))\n",
        "sns.barplot(data=profit_by_day,x='day_of_week', y='units_sold',palette='viridis')\n",
        "plt.title('Total sales by days of the week', fontsize=16)\n",
        "plt.xlabel('Day of the week', fontsize=14)\n",
        "plt.ylabel('Total sales', fontsize=14)\n",
        "plt.grid(axis='y', linestyle='--', alpha=0.7)\n",
        "plt.show()"
      ],
      "metadata": {
        "colab": {
          "base_uri": "https://localhost:8080/",
          "height": 504
        },
        "id": "P2p-43fTjx5g",
        "outputId": "1f53e01b-1ace-4b03-fb7d-aa94f989613a"
      },
      "execution_count": 102,
      "outputs": [
        {
          "output_type": "stream",
          "name": "stderr",
          "text": [
            "<ipython-input-102-44059ea8c16b>:2: FutureWarning: \n",
            "\n",
            "Passing `palette` without assigning `hue` is deprecated and will be removed in v0.14.0. Assign the `x` variable to `hue` and set `legend=False` for the same effect.\n",
            "\n",
            "  sns.barplot(data=profit_by_day,x='day_of_week', y='units_sold',palette='viridis')\n"
          ]
        },
        {
          "output_type": "display_data",
          "data": {
            "text/plain": [
              "<Figure size 800x400 with 1 Axes>"
            ],
            "image/png": "[encoded data removed]"
          },
          "metadata": {}
        }
      ]
    },
    {
      "cell_type": "markdown",
      "source": [
        "Найбільші обсяги продажів спостерігаються у неділю, суботу та понеділок, що свідчить про активність покупців у вихідні та на початку тижня.Отже, вихідні дні є найбільш продуктивними для продажів, що вказує на доцільність фокусування маркетингових зусиль саме на ці дні для максимізації прибутку."
      ],
      "metadata": {
        "id": "8_NKClDZkYZW"
      }
    },
    {
      "cell_type": "code",
      "source": [
        "df_basic['profit'] = (df_basic['units_sold'] * df_basic['unit_price']) - (df_basic['units_sold'] * df_basic['unit_cost'])"
      ],
      "metadata": {
        "id": "3scRUtOCfStb"
      },
      "execution_count": 103,
      "outputs": []
    },
    {
      "cell_type": "code",
      "source": [
        "profit_by_day = (df_basic.groupby('day_of_week')['profit'].sum().reset_index())"
      ],
      "metadata": {
        "id": "Pnq4dmaMgnRV"
      },
      "execution_count": 104,
      "outputs": []
    },
    {
      "cell_type": "code",
      "source": [
        "day_order = ['Monday', 'Tuesday', 'Wednesday', 'Thursday', 'Friday', 'Saturday', 'Sunday']\n",
        "profit_by_day['day_of_week'] = pd.Categorical(profit_by_day['day_of_week'], categories=day_order, ordered=True)\n",
        "profit_by_day = profit_by_day.sort_values('day_of_week')"
      ],
      "metadata": {
        "id": "LaZGb_wFhYRc"
      },
      "execution_count": 105,
      "outputs": []
    },
    {
      "cell_type": "code",
      "source": [
        "plt.figure(figsize=(8, 4))\n",
        "sns.barplot(data=profit_by_day,y='day_of_week', x='profit',palette='viridis')\n",
        "plt.title('Total profit by days of the week', fontsize=16)\n",
        "plt.xlabel('Day of the week', fontsize=14)\n",
        "plt.ylabel('Total profit', fontsize=14)\n",
        "plt.grid(axis='y', linestyle='--', alpha=0.7)\n",
        "plt.show()"
      ],
      "metadata": {
        "colab": {
          "base_uri": "https://localhost:8080/",
          "height": 504
        },
        "id": "UAgRDDFIhcZu",
        "outputId": "89a24ac6-a45f-4254-c9ac-27d46644c434"
      },
      "execution_count": 106,
      "outputs": [
        {
          "output_type": "stream",
          "name": "stderr",
          "text": [
            "<ipython-input-106-70f033ab181e>:2: FutureWarning: \n",
            "\n",
            "Passing `palette` without assigning `hue` is deprecated and will be removed in v0.14.0. Assign the `y` variable to `hue` and set `legend=False` for the same effect.\n",
            "\n",
            "  sns.barplot(data=profit_by_day,y='day_of_week', x='profit',palette='viridis')\n"
          ]
        },
        {
          "output_type": "display_data",
          "data": {
            "text/plain": [
              "<Figure size 800x400 with 1 Axes>"
            ],
            "image/png": "[encoded data removed]"
          },
          "metadata": {}
        }
      ]
    },
    {
      "cell_type": "markdown",
      "source": [
        "Найбільший прибуток зафіксовано у п'ятницю та понеділок, тоді як найнижчий прибуток спостерігається у четвер. Загалом, більшість днів демонструють стабільно високий рівень прибутку, але з незначними коливаннями."
      ],
      "metadata": {
        "id": "W_qq4GtljkVp"
      }
    },
    {
      "cell_type": "code",
      "source": [
        "#щоб проаналізувати сезонність додамо колонку з місяцем і оцінемо кількість проданиз товарів по місяцях\n",
        "df_basic['month'] = pd.to_datetime(df_basic['order_date']).dt.month_name()"
      ],
      "metadata": {
        "id": "PY_wpEdtjoDb"
      },
      "execution_count": 107,
      "outputs": []
    },
    {
      "cell_type": "code",
      "source": [
        "sales_by_month = (df_basic.groupby('month')['units_sold'].sum().reset_index())"
      ],
      "metadata": {
        "id": "Q8-sKqM5mrYX"
      },
      "execution_count": 108,
      "outputs": []
    },
    {
      "cell_type": "code",
      "source": [
        "month_order = ['January', 'February', 'March', 'April', 'May', 'June','July', 'August', 'September', 'October', 'November', 'December']\n",
        "sales_by_month['month'] = pd.Categorical(sales_by_month['month'], categories=month_order, ordered=True)\n",
        "sales_by_month = sales_by_month.sort_values('month')"
      ],
      "metadata": {
        "id": "Lyn9MVgopRz7"
      },
      "execution_count": 109,
      "outputs": []
    },
    {
      "cell_type": "code",
      "source": [
        "plt.figure(figsize=(8, 4))\n",
        "sns.barplot(data=sales_by_month,x='month',y='units_sold',palette='coolwarm')\n",
        "plt.title('Total sales by month', fontsize=16)\n",
        "plt.xlabel('Months', fontsize=14)\n",
        "plt.ylabel('Sales', fontsize=14)\n",
        "plt.xticks(rotation=45)\n",
        "plt.grid(axis='y', linestyle='--', alpha=0.7)\n",
        "plt.show()"
      ],
      "metadata": {
        "colab": {
          "base_uri": "https://localhost:8080/",
          "height": 554
        },
        "id": "ASunXYYZpedk",
        "outputId": "49eb8086-a0f4-4f49-c1a3-59ce88c6a109"
      },
      "execution_count": 110,
      "outputs": [
        {
          "output_type": "stream",
          "name": "stderr",
          "text": [
            "<ipython-input-110-36d14ac7022d>:2: FutureWarning: \n",
            "\n",
            "Passing `palette` without assigning `hue` is deprecated and will be removed in v0.14.0. Assign the `x` variable to `hue` and set `legend=False` for the same effect.\n",
            "\n",
            "  sns.barplot(data=sales_by_month,x='month',y='units_sold',palette='coolwarm')\n"
          ]
        },
        {
          "output_type": "display_data",
          "data": {
            "text/plain": [
              "<Figure size 800x400 with 1 Axes>"
            ],
            "image/png": "[encoded data removed]"
          },
          "metadata": {}
        }
      ]
    },
    {
      "cell_type": "markdown",
      "source": [
        "Найбільші обсяги продажів спостерігаються в березні, червні та липні. Це свідчить про пікові періоди попиту на товари, що відображені на графіку.Найменші обсяги продажів припадають на лютий, серпень та квітень. Це вказує на періоди спаду попиту.З отриманих результатім можна припустити, що в загальній кількості проданих одиниць товарів спостерігається певна сезонність по місяцях.\n"
      ],
      "metadata": {
        "id": "rljBN8I1qjbF"
      }
    },
    {
      "cell_type": "code",
      "source": [],
      "metadata": {
        "id": "mfuyQiE2py4h"
      },
      "execution_count": 110,
      "outputs": []
    }
  ],
  "metadata": {
    "colab": {
      "provenance": [],
      "authorship_tag": "ABX9TyPthMAS8wG4LCTKw0w6jujy",
      "include_colab_link": true
    },
    "kernelspec": {
      "display_name": "Python 3",
      "name": "python3"
    },
    "language_info": {
      "name": "python"
    }
  },
  "nbformat": 4,
  "nbformat_minor": 0
}